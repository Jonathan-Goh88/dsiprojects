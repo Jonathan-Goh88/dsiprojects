{
 "cells": [
  {
   "cell_type": "markdown",
   "metadata": {
    "ExecuteTime": {
     "end_time": "2020-11-22T09:30:34.599443Z",
     "start_time": "2020-11-22T09:30:33.390030Z"
    }
   },
   "source": [
    "# Project 2 - Ames Housing Data and Kaggle Challenge - Part 2"
   ]
  },
  {
   "cell_type": "code",
   "execution_count": 1,
   "metadata": {
    "ExecuteTime": {
     "end_time": "2020-11-22T19:28:53.891338Z",
     "start_time": "2020-11-22T19:28:52.520735Z"
    }
   },
   "outputs": [],
   "source": [
    "import pandas as pd\n",
    "import numpy as np\n",
    "import matplotlib.pyplot as plt\n",
    "import seaborn as sns\n",
    "\n",
    "from sklearn.model_selection import train_test_split, cross_val_score\n",
    "from sklearn.linear_model import LinearRegression, Lasso, LassoCV, RidgeCV, ElasticNetCV\n",
    "from sklearn.preprocessing import StandardScaler\n",
    "from sklearn.metrics import mean_squared_error, r2_score"
   ]
  },
  {
   "cell_type": "code",
   "execution_count": 2,
   "metadata": {
    "ExecuteTime": {
     "end_time": "2020-11-22T19:28:53.896020Z",
     "start_time": "2020-11-22T19:28:53.892029Z"
    }
   },
   "outputs": [],
   "source": [
    "sns.set()"
   ]
  },
  {
   "cell_type": "code",
   "execution_count": 3,
   "metadata": {
    "ExecuteTime": {
     "end_time": "2020-11-22T19:28:53.916964Z",
     "start_time": "2020-11-22T19:28:53.897017Z"
    }
   },
   "outputs": [],
   "source": [
    "%store -r ames_train\n",
    "%store -r ames_test"
   ]
  },
  {
   "cell_type": "markdown",
   "metadata": {
    "ExecuteTime": {
     "end_time": "2020-11-22T09:34:15.321466Z",
     "start_time": "2020-11-22T09:34:15.315263Z"
    }
   },
   "source": [
    "## Model Prep"
   ]
  },
  {
   "cell_type": "code",
   "execution_count": 4,
   "metadata": {
    "ExecuteTime": {
     "end_time": "2020-11-22T19:28:53.927936Z",
     "start_time": "2020-11-22T19:28:53.917964Z"
    }
   },
   "outputs": [],
   "source": [
    "features = [col for col in ames_train.columns if col != 'SalePrice']\n",
    "X = ames_train[features]\n",
    "y = ames_train['SalePrice']"
   ]
  },
  {
   "cell_type": "code",
   "execution_count": 5,
   "metadata": {
    "ExecuteTime": {
     "end_time": "2020-11-22T19:28:53.934915Z",
     "start_time": "2020-11-22T19:28:53.929928Z"
    }
   },
   "outputs": [
    {
     "data": {
      "text/plain": [
       "(2049, 139)"
      ]
     },
     "execution_count": 5,
     "metadata": {},
     "output_type": "execute_result"
    }
   ],
   "source": [
    "X.shape"
   ]
  },
  {
   "cell_type": "code",
   "execution_count": 6,
   "metadata": {
    "ExecuteTime": {
     "end_time": "2020-11-22T19:28:53.939904Z",
     "start_time": "2020-11-22T19:28:53.935913Z"
    }
   },
   "outputs": [
    {
     "data": {
      "text/plain": [
       "(2049,)"
      ]
     },
     "execution_count": 6,
     "metadata": {},
     "output_type": "execute_result"
    }
   ],
   "source": [
    "y.shape"
   ]
  },
  {
   "cell_type": "code",
   "execution_count": 7,
   "metadata": {
    "ExecuteTime": {
     "end_time": "2020-11-22T19:28:53.948877Z",
     "start_time": "2020-11-22T19:28:53.940900Z"
    }
   },
   "outputs": [],
   "source": [
    "X_train, X_test, y_train, y_test = train_test_split(X,y, random_state =42)"
   ]
  },
  {
   "cell_type": "code",
   "execution_count": 8,
   "metadata": {
    "ExecuteTime": {
     "end_time": "2020-11-22T19:28:53.952867Z",
     "start_time": "2020-11-22T19:28:53.949875Z"
    }
   },
   "outputs": [],
   "source": [
    "ss = StandardScaler()"
   ]
  },
  {
   "cell_type": "code",
   "execution_count": 9,
   "metadata": {
    "ExecuteTime": {
     "end_time": "2020-11-22T19:28:53.973812Z",
     "start_time": "2020-11-22T19:28:53.953870Z"
    }
   },
   "outputs": [],
   "source": [
    "X_train_scaled = ss.fit_transform(X_train)\n",
    "X_test_scaled = ss.transform(X_test)"
   ]
  },
  {
   "cell_type": "markdown",
   "metadata": {},
   "source": [
    "## Instantiating Models"
   ]
  },
  {
   "cell_type": "code",
   "execution_count": 10,
   "metadata": {
    "ExecuteTime": {
     "end_time": "2020-11-22T19:28:53.977801Z",
     "start_time": "2020-11-22T19:28:53.974810Z"
    }
   },
   "outputs": [],
   "source": [
    "lr = LinearRegression()"
   ]
  },
  {
   "cell_type": "code",
   "execution_count": 11,
   "metadata": {
    "ExecuteTime": {
     "end_time": "2020-11-22T19:28:53.981791Z",
     "start_time": "2020-11-22T19:28:53.978798Z"
    }
   },
   "outputs": [],
   "source": [
    "ridge = RidgeCV(alphas=np.linspace(.1, 150, 100))"
   ]
  },
  {
   "cell_type": "code",
   "execution_count": 12,
   "metadata": {
    "ExecuteTime": {
     "end_time": "2020-11-22T19:28:53.985779Z",
     "start_time": "2020-11-22T19:28:53.982788Z"
    }
   },
   "outputs": [],
   "source": [
    "lasso = LassoCV(n_alphas=100)"
   ]
  },
  {
   "cell_type": "markdown",
   "metadata": {},
   "source": [
    "## Cross Validating Models"
   ]
  },
  {
   "cell_type": "markdown",
   "metadata": {},
   "source": [
    "### Linear Regression"
   ]
  },
  {
   "cell_type": "code",
   "execution_count": 13,
   "metadata": {
    "ExecuteTime": {
     "end_time": "2020-11-22T19:28:54.097534Z",
     "start_time": "2020-11-22T19:28:53.986778Z"
    }
   },
   "outputs": [
    {
     "data": {
      "text/plain": [
       "-1.9076596576053498e+23"
      ]
     },
     "execution_count": 13,
     "metadata": {},
     "output_type": "execute_result"
    }
   ],
   "source": [
    "lr_cv_scores = cross_val_score(lr, X_train_scaled, y_train, cv=5)\n",
    "lr_cv_scores.mean()"
   ]
  },
  {
   "cell_type": "markdown",
   "metadata": {},
   "source": [
    "<span style=\"color:blue\">R_square for linear regression</span>"
   ]
  },
  {
   "cell_type": "code",
   "execution_count": 14,
   "metadata": {
    "ExecuteTime": {
     "end_time": "2020-11-22T19:28:54.146919Z",
     "start_time": "2020-11-22T19:28:54.098478Z"
    }
   },
   "outputs": [
    {
     "data": {
      "text/plain": [
       "1.2159376072771593e+33"
      ]
     },
     "execution_count": 14,
     "metadata": {},
     "output_type": "execute_result"
    }
   ],
   "source": [
    "lr_cv_mse_scores = -cross_val_score(lr, X_train_scaled, y_train, scoring='neg_mean_squared_error',cv=5)\n",
    "lr_cv_mse_scores.mean()"
   ]
  },
  {
   "cell_type": "code",
   "execution_count": 15,
   "metadata": {
    "ExecuteTime": {
     "end_time": "2020-11-22T19:28:54.151906Z",
     "start_time": "2020-11-22T19:28:54.147916Z"
    }
   },
   "outputs": [
    {
     "data": {
      "text/plain": [
       "3.487029691983077e+16"
      ]
     },
     "execution_count": 15,
     "metadata": {},
     "output_type": "execute_result"
    }
   ],
   "source": [
    "np.sqrt(lr_cv_mse_scores.mean())"
   ]
  },
  {
   "cell_type": "markdown",
   "metadata": {},
   "source": [
    "<span style=\"color:blue\">RMSE for linear regression</span>"
   ]
  },
  {
   "cell_type": "markdown",
   "metadata": {},
   "source": [
    "### Ridge"
   ]
  },
  {
   "cell_type": "code",
   "execution_count": 16,
   "metadata": {
    "ExecuteTime": {
     "end_time": "2020-11-22T19:28:54.855743Z",
     "start_time": "2020-11-22T19:28:54.152903Z"
    }
   },
   "outputs": [
    {
     "data": {
      "text/plain": [
       "0.8841989467025269"
      ]
     },
     "execution_count": 16,
     "metadata": {},
     "output_type": "execute_result"
    }
   ],
   "source": [
    "ridge_cv_scores = cross_val_score(ridge, X_train_scaled, y_train, cv=5)\n",
    "ridge_cv_scores.mean()"
   ]
  },
  {
   "cell_type": "markdown",
   "metadata": {},
   "source": [
    "<span style=\"color:blue\">R_square for Ridge</span>"
   ]
  },
  {
   "cell_type": "code",
   "execution_count": 17,
   "metadata": {
    "ExecuteTime": {
     "end_time": "2020-11-22T19:28:55.565651Z",
     "start_time": "2020-11-22T19:28:54.856740Z"
    }
   },
   "outputs": [
    {
     "data": {
      "text/plain": [
       "717776591.4210232"
      ]
     },
     "execution_count": 17,
     "metadata": {},
     "output_type": "execute_result"
    }
   ],
   "source": [
    "ridge_cv_mse_scores = -cross_val_score(ridge, X_train_scaled, y_train, scoring='neg_mean_squared_error', cv=5)\n",
    "ridge_cv_mse_scores.mean()"
   ]
  },
  {
   "cell_type": "code",
   "execution_count": 18,
   "metadata": {
    "ExecuteTime": {
     "end_time": "2020-11-22T19:28:55.571636Z",
     "start_time": "2020-11-22T19:28:55.566648Z"
    }
   },
   "outputs": [
    {
     "data": {
      "text/plain": [
       "26791.35292255737"
      ]
     },
     "execution_count": 18,
     "metadata": {},
     "output_type": "execute_result"
    }
   ],
   "source": [
    "np.sqrt(ridge_cv_mse_scores.mean())"
   ]
  },
  {
   "cell_type": "markdown",
   "metadata": {},
   "source": [
    "<span style=\"color:blue\">RMSE for Ridge</span>"
   ]
  },
  {
   "cell_type": "markdown",
   "metadata": {
    "ExecuteTime": {
     "end_time": "2020-11-22T13:16:52.588452Z",
     "start_time": "2020-11-22T13:16:52.585457Z"
    }
   },
   "source": [
    "### Lasso"
   ]
  },
  {
   "cell_type": "code",
   "execution_count": 19,
   "metadata": {
    "ExecuteTime": {
     "end_time": "2020-11-22T19:28:56.287824Z",
     "start_time": "2020-11-22T19:28:55.572632Z"
    }
   },
   "outputs": [
    {
     "data": {
      "text/plain": [
       "0.8880579459287693"
      ]
     },
     "execution_count": 19,
     "metadata": {},
     "output_type": "execute_result"
    }
   ],
   "source": [
    "lasso_cv_scores = cross_val_score(lasso, X_train_scaled, y_train, cv=5)\n",
    "lasso_cv_scores.mean()"
   ]
  },
  {
   "cell_type": "markdown",
   "metadata": {},
   "source": [
    "<span style=\"color:blue\">R_square for Lasso</span>"
   ]
  },
  {
   "cell_type": "code",
   "execution_count": 20,
   "metadata": {
    "ExecuteTime": {
     "end_time": "2020-11-22T19:28:56.943581Z",
     "start_time": "2020-11-22T19:28:56.288797Z"
    }
   },
   "outputs": [
    {
     "data": {
      "text/plain": [
       "693452433.7810112"
      ]
     },
     "execution_count": 20,
     "metadata": {},
     "output_type": "execute_result"
    }
   ],
   "source": [
    "lasso_cv_mse_scores = -cross_val_score(lasso, X_train_scaled, y_train, scoring='neg_mean_squared_error', cv=5)\n",
    "lasso_cv_mse_scores.mean()"
   ]
  },
  {
   "cell_type": "code",
   "execution_count": 21,
   "metadata": {
    "ExecuteTime": {
     "end_time": "2020-11-22T19:28:56.948929Z",
     "start_time": "2020-11-22T19:28:56.944938Z"
    }
   },
   "outputs": [
    {
     "data": {
      "text/plain": [
       "26333.48502916033"
      ]
     },
     "execution_count": 21,
     "metadata": {},
     "output_type": "execute_result"
    }
   ],
   "source": [
    "np.sqrt(lasso_cv_mse_scores.mean())"
   ]
  },
  {
   "cell_type": "markdown",
   "metadata": {
    "ExecuteTime": {
     "end_time": "2020-11-22T13:19:03.705357Z",
     "start_time": "2020-11-22T13:19:03.701356Z"
    }
   },
   "source": [
    "<span style=\"color:blue\">RMSE for Lasso.<br>Lasso performs best among the 3 and is selected</span>"
   ]
  },
  {
   "cell_type": "markdown",
   "metadata": {},
   "source": [
    "## Lasso Model Fitting and Evaluation"
   ]
  },
  {
   "cell_type": "code",
   "execution_count": 22,
   "metadata": {
    "ExecuteTime": {
     "end_time": "2020-11-22T19:28:57.101520Z",
     "start_time": "2020-11-22T19:28:56.949925Z"
    }
   },
   "outputs": [
    {
     "data": {
      "text/plain": [
       "LassoCV()"
      ]
     },
     "execution_count": 22,
     "metadata": {},
     "output_type": "execute_result"
    }
   ],
   "source": [
    "lasso.fit(X_train_scaled, y_train)"
   ]
  },
  {
   "cell_type": "code",
   "execution_count": 23,
   "metadata": {
    "ExecuteTime": {
     "end_time": "2020-11-22T19:28:57.106507Z",
     "start_time": "2020-11-22T19:28:57.102516Z"
    }
   },
   "outputs": [
    {
     "data": {
      "text/plain": [
       "479.74406722856116"
      ]
     },
     "execution_count": 23,
     "metadata": {},
     "output_type": "execute_result"
    }
   ],
   "source": [
    "lasso.alpha_"
   ]
  },
  {
   "cell_type": "code",
   "execution_count": 24,
   "metadata": {
    "ExecuteTime": {
     "end_time": "2020-11-22T19:28:57.113487Z",
     "start_time": "2020-11-22T19:28:57.107503Z"
    }
   },
   "outputs": [
    {
     "data": {
      "text/plain": [
       "0.9082450798104881"
      ]
     },
     "execution_count": 24,
     "metadata": {},
     "output_type": "execute_result"
    }
   ],
   "source": [
    "lasso.score(X_train_scaled, y_train)"
   ]
  },
  {
   "cell_type": "code",
   "execution_count": 25,
   "metadata": {
    "ExecuteTime": {
     "end_time": "2020-11-22T19:28:57.119471Z",
     "start_time": "2020-11-22T19:28:57.114484Z"
    }
   },
   "outputs": [
    {
     "data": {
      "text/plain": [
       "0.9151937064369823"
      ]
     },
     "execution_count": 25,
     "metadata": {},
     "output_type": "execute_result"
    }
   ],
   "source": [
    "lasso.score(X_test_scaled, y_test)"
   ]
  },
  {
   "cell_type": "code",
   "execution_count": 26,
   "metadata": {
    "ExecuteTime": {
     "end_time": "2020-11-22T19:28:57.125455Z",
     "start_time": "2020-11-22T19:28:57.120471Z"
    }
   },
   "outputs": [
    {
     "data": {
      "text/plain": [
       "23989.883695588833"
      ]
     },
     "execution_count": 26,
     "metadata": {},
     "output_type": "execute_result"
    }
   ],
   "source": [
    "np.sqrt(mean_squared_error(y_train, lasso.predict(X_train_scaled)))"
   ]
  },
  {
   "cell_type": "code",
   "execution_count": 27,
   "metadata": {
    "ExecuteTime": {
     "end_time": "2020-11-22T19:28:57.132438Z",
     "start_time": "2020-11-22T19:28:57.126453Z"
    }
   },
   "outputs": [
    {
     "data": {
      "text/plain": [
       "23155.023287943168"
      ]
     },
     "execution_count": 27,
     "metadata": {},
     "output_type": "execute_result"
    }
   ],
   "source": [
    "np.sqrt(mean_squared_error(y_test, lasso.predict(X_test_scaled)))"
   ]
  },
  {
   "cell_type": "code",
   "execution_count": 28,
   "metadata": {
    "ExecuteTime": {
     "end_time": "2020-11-22T19:28:57.140415Z",
     "start_time": "2020-11-22T19:28:57.133434Z"
    }
   },
   "outputs": [
    {
     "data": {
      "text/plain": [
       "array([ 1.41377543e+03,  4.81870843e+03, -0.00000000e+00,  1.70544580e+04,\n",
       "        4.85690419e+03,  5.19871997e+03,  6.12336472e+03,  8.03313891e+03,\n",
       "       -8.35686014e+02,  7.85729427e+03,  2.07213834e+03,  2.59497335e+04,\n",
       "        0.00000000e+00,  1.05223832e+03, -3.19694240e+03,  2.08694851e+03,\n",
       "        4.56430840e+02,  4.96071151e+03,  1.05562121e+03,  1.16236839e+03,\n",
       "       -1.05118341e+04, -2.67467374e+03, -4.42201817e+03,  0.00000000e+00,\n",
       "       -2.91283571e+03, -5.83540564e+02, -1.59355032e+03,  1.27226598e+03,\n",
       "        1.41640785e+03,  0.00000000e+00,  4.37117398e+02,  0.00000000e+00,\n",
       "        0.00000000e+00, -0.00000000e+00,  6.86609427e+02, -1.98015754e+02,\n",
       "        0.00000000e+00, -1.12119398e+03, -0.00000000e+00, -1.23874383e+02,\n",
       "        1.16922587e+03,  0.00000000e+00,  0.00000000e+00,  0.00000000e+00,\n",
       "       -1.91460364e+02, -6.51777800e+02,  2.12902532e+02, -5.70046426e+02,\n",
       "       -1.36961631e+03,  0.00000000e+00,  7.69536101e+02,  0.00000000e+00,\n",
       "        0.00000000e+00,  1.25701022e+03,  1.72558391e+02, -1.06014520e+02,\n",
       "        3.07913065e+03, -0.00000000e+00, -2.31695260e+01,  0.00000000e+00,\n",
       "        2.82569356e+03, -0.00000000e+00, -0.00000000e+00, -7.19893099e+02,\n",
       "        0.00000000e+00, -1.69826188e+02,  9.03853896e+02, -9.92589879e+02,\n",
       "        3.44577129e+03,  8.75993816e+03, -2.96168885e+02, -0.00000000e+00,\n",
       "        0.00000000e+00, -0.00000000e+00,  8.69036575e+02,  7.30939826e+03,\n",
       "        3.35310801e+02, -0.00000000e+00, -0.00000000e+00,  0.00000000e+00,\n",
       "        0.00000000e+00,  1.24703885e+02,  0.00000000e+00, -0.00000000e+00,\n",
       "       -5.61170661e+02, -0.00000000e+00,  0.00000000e+00, -1.62554130e+02,\n",
       "        0.00000000e+00,  2.84150110e+03, -1.23619159e+03,  0.00000000e+00,\n",
       "        0.00000000e+00,  7.14111839e+01, -8.79808213e+02,  2.20767228e+03,\n",
       "        0.00000000e+00,  2.36206749e+03, -1.39478389e+03, -0.00000000e+00,\n",
       "        4.12651969e+01, -0.00000000e+00, -7.90164949e+01, -0.00000000e+00,\n",
       "        0.00000000e+00, -8.60168367e+02,  0.00000000e+00,  0.00000000e+00,\n",
       "        2.60781162e+02,  0.00000000e+00,  0.00000000e+00, -0.00000000e+00,\n",
       "        0.00000000e+00, -0.00000000e+00, -0.00000000e+00,  0.00000000e+00,\n",
       "       -7.77399413e+02, -0.00000000e+00, -0.00000000e+00,  0.00000000e+00,\n",
       "        0.00000000e+00, -0.00000000e+00, -9.13956917e+02, -2.79825345e+03,\n",
       "        0.00000000e+00,  1.40971809e+03, -0.00000000e+00, -1.73787793e+03,\n",
       "        0.00000000e+00,  1.28414215e+03,  0.00000000e+00, -0.00000000e+00,\n",
       "       -1.12433371e+03, -1.53529199e+02, -3.57010222e+02,  7.63716194e+02,\n",
       "       -0.00000000e+00,  0.00000000e+00,  9.28605136e+02])"
      ]
     },
     "execution_count": 28,
     "metadata": {},
     "output_type": "execute_result"
    }
   ],
   "source": [
    "lasso.coef_"
   ]
  },
  {
   "cell_type": "markdown",
   "metadata": {},
   "source": [
    "<span style=\"color:blue\">Coefficient of features</span>"
   ]
  },
  {
   "cell_type": "code",
   "execution_count": 29,
   "metadata": {
    "ExecuteTime": {
     "end_time": "2020-11-22T19:28:57.149391Z",
     "start_time": "2020-11-22T19:28:57.141412Z"
    }
   },
   "outputs": [],
   "source": [
    "feat_coeffs = pd.DataFrame({'Feature': [c for c in X_train.columns], 'Coefficient': lasso.coef_})"
   ]
  },
  {
   "cell_type": "code",
   "execution_count": 30,
   "metadata": {
    "ExecuteTime": {
     "end_time": "2020-11-22T19:28:59.394525Z",
     "start_time": "2020-11-22T19:28:57.150389Z"
    }
   },
   "outputs": [
    {
     "data": {
      "image/png": "[encoded data removed]",
      "text/plain": [
       "<Figure size 720x2160 with 1 Axes>"
      ]
     },
     "metadata": {},
     "output_type": "display_data"
    }
   ],
   "source": [
    "plt.figure(figsize=(10,30))\n",
    "plt.barh(X_train.columns, lasso.coef_);"
   ]
  },
  {
   "cell_type": "markdown",
   "metadata": {},
   "source": [
    "<span style=\"color:blue\">Bar plot of coefficients. A significant number of features were reduced to 0. To proceed with feature trimming</span>"
   ]
  },
  {
   "cell_type": "markdown",
   "metadata": {},
   "source": [
    "## 2nd Lasso Model"
   ]
  },
  {
   "cell_type": "code",
   "execution_count": 31,
   "metadata": {
    "ExecuteTime": {
     "end_time": "2020-11-22T19:28:59.420418Z",
     "start_time": "2020-11-22T19:28:59.396532Z"
    }
   },
   "outputs": [],
   "source": [
    "fifth_keep_cols = feat_coeffs['Feature'].loc[feat_coeffs['Coefficient']!=0]"
   ]
  },
  {
   "cell_type": "code",
   "execution_count": 32,
   "metadata": {
    "ExecuteTime": {
     "end_time": "2020-11-22T19:28:59.426402Z",
     "start_time": "2020-11-22T19:28:59.420418Z"
    }
   },
   "outputs": [],
   "source": [
    "X2_train = X_train[fifth_keep_cols]\n",
    "X2_test = X_test[fifth_keep_cols]"
   ]
  },
  {
   "cell_type": "code",
   "execution_count": 33,
   "metadata": {
    "ExecuteTime": {
     "end_time": "2020-11-22T19:28:59.430392Z",
     "start_time": "2020-11-22T19:28:59.427400Z"
    }
   },
   "outputs": [],
   "source": [
    "ss2 = StandardScaler()\n",
    "lasso2 = LassoCV(n_alphas=100)"
   ]
  },
  {
   "cell_type": "code",
   "execution_count": 34,
   "metadata": {
    "ExecuteTime": {
     "end_time": "2020-11-22T19:28:59.446349Z",
     "start_time": "2020-11-22T19:28:59.431390Z"
    }
   },
   "outputs": [],
   "source": [
    "X2_train_scaled = ss2.fit_transform(X2_train)\n",
    "X2_test_scaled = ss2.transform(X2_test)"
   ]
  },
  {
   "cell_type": "code",
   "execution_count": 35,
   "metadata": {
    "ExecuteTime": {
     "end_time": "2020-11-22T19:28:59.905642Z",
     "start_time": "2020-11-22T19:28:59.447761Z"
    }
   },
   "outputs": [
    {
     "data": {
      "text/plain": [
       "0.8919672296897805"
      ]
     },
     "execution_count": 35,
     "metadata": {},
     "output_type": "execute_result"
    }
   ],
   "source": [
    "lasso2_cv_scores = cross_val_score(lasso2, X2_train_scaled, y_train, cv=5)\n",
    "lasso2_cv_scores.mean()"
   ]
  },
  {
   "cell_type": "code",
   "execution_count": 36,
   "metadata": {
    "ExecuteTime": {
     "end_time": "2020-11-22T19:29:00.289614Z",
     "start_time": "2020-11-22T19:28:59.906639Z"
    }
   },
   "outputs": [
    {
     "data": {
      "text/plain": [
       "669399484.9621973"
      ]
     },
     "execution_count": 36,
     "metadata": {},
     "output_type": "execute_result"
    }
   ],
   "source": [
    "lasso2_cv_mse_scores = -cross_val_score(lasso2, X2_train_scaled, y_train, scoring='neg_mean_squared_error', cv=5)\n",
    "lasso2_cv_mse_scores.mean()"
   ]
  },
  {
   "cell_type": "code",
   "execution_count": 37,
   "metadata": {
    "ExecuteTime": {
     "end_time": "2020-11-22T19:29:00.294600Z",
     "start_time": "2020-11-22T19:29:00.290611Z"
    }
   },
   "outputs": [
    {
     "data": {
      "text/plain": [
       "25872.75565072645"
      ]
     },
     "execution_count": 37,
     "metadata": {},
     "output_type": "execute_result"
    }
   ],
   "source": [
    "np.sqrt(lasso2_cv_mse_scores.mean())"
   ]
  },
  {
   "cell_type": "code",
   "execution_count": 38,
   "metadata": {
    "ExecuteTime": {
     "end_time": "2020-11-22T19:29:00.387353Z",
     "start_time": "2020-11-22T19:29:00.295598Z"
    }
   },
   "outputs": [
    {
     "data": {
      "text/plain": [
       "LassoCV()"
      ]
     },
     "execution_count": 38,
     "metadata": {},
     "output_type": "execute_result"
    }
   ],
   "source": [
    "lasso2.fit(X2_train_scaled, y_train)"
   ]
  },
  {
   "cell_type": "code",
   "execution_count": 39,
   "metadata": {
    "ExecuteTime": {
     "end_time": "2020-11-22T19:29:00.393336Z",
     "start_time": "2020-11-22T19:29:00.388350Z"
    }
   },
   "outputs": [
    {
     "data": {
      "text/plain": [
       "0.9109384356602959"
      ]
     },
     "execution_count": 39,
     "metadata": {},
     "output_type": "execute_result"
    }
   ],
   "source": [
    "lasso2.score(X2_train_scaled, y_train)"
   ]
  },
  {
   "cell_type": "code",
   "execution_count": 40,
   "metadata": {
    "ExecuteTime": {
     "end_time": "2020-11-22T19:29:00.399347Z",
     "start_time": "2020-11-22T19:29:00.394334Z"
    }
   },
   "outputs": [
    {
     "data": {
      "text/plain": [
       "0.9162010085127759"
      ]
     },
     "execution_count": 40,
     "metadata": {},
     "output_type": "execute_result"
    }
   ],
   "source": [
    "lasso2.score(X2_test_scaled, y_test)"
   ]
  },
  {
   "cell_type": "code",
   "execution_count": 41,
   "metadata": {
    "ExecuteTime": {
     "end_time": "2020-11-22T19:29:00.406301Z",
     "start_time": "2020-11-22T19:29:00.400319Z"
    }
   },
   "outputs": [
    {
     "data": {
      "text/plain": [
       "23635.16405491846"
      ]
     },
     "execution_count": 41,
     "metadata": {},
     "output_type": "execute_result"
    }
   ],
   "source": [
    "np.sqrt(mean_squared_error(y_train, lasso2.predict(X2_train_scaled)))"
   ]
  },
  {
   "cell_type": "code",
   "execution_count": 42,
   "metadata": {
    "ExecuteTime": {
     "end_time": "2020-11-22T19:29:00.412285Z",
     "start_time": "2020-11-22T19:29:00.407299Z"
    }
   },
   "outputs": [
    {
     "data": {
      "text/plain": [
       "23017.098521397224"
      ]
     },
     "execution_count": 42,
     "metadata": {},
     "output_type": "execute_result"
    }
   ],
   "source": [
    "np.sqrt(mean_squared_error(y_test, lasso2.predict(X2_test_scaled)))"
   ]
  },
  {
   "cell_type": "markdown",
   "metadata": {},
   "source": [
    "<span style=\"color:blue\">lasso2 has higher r2 values and lower RMSE as compared to the first lasso model</span>"
   ]
  },
  {
   "cell_type": "code",
   "execution_count": 43,
   "metadata": {
    "ExecuteTime": {
     "end_time": "2020-11-22T19:29:00.418270Z",
     "start_time": "2020-11-22T19:29:00.413283Z"
    }
   },
   "outputs": [
    {
     "data": {
      "text/plain": [
       "array([ 1.63085445e+03,  4.76981468e+03,  1.64150511e+04,  5.56115592e+03,\n",
       "        5.68856279e+03,  6.38290991e+03,  6.05025645e+03, -3.13355933e+03,\n",
       "        9.99654673e+03,  1.96271031e+03,  2.57756213e+04,  1.36015471e+03,\n",
       "       -3.52064356e+03,  1.85864617e+03,  1.06916255e+03,  5.25787440e+03,\n",
       "        1.05552479e+03,  1.24067893e+03, -1.19034686e+04, -2.46572576e+03,\n",
       "       -5.70620566e+03, -3.97558356e+03, -1.05019107e+03, -1.96960046e+03,\n",
       "        1.06508171e+03,  1.70385804e+03,  7.32490893e+02,  1.17721989e+03,\n",
       "       -6.28145712e+02, -1.61954998e+03, -4.87367097e+02,  1.55020095e+03,\n",
       "       -1.09046786e+01, -9.75070030e+02,  4.84095750e+02, -8.50383801e+02,\n",
       "       -1.72356432e+03,  1.56949980e+03,  1.34513502e+03,  3.72532523e+02,\n",
       "       -5.28299805e+02,  3.54864249e+03, -3.75749157e+02,  3.24056808e+03,\n",
       "       -8.59471386e+02, -4.12526076e+02,  1.77424650e+03, -1.22990964e+03,\n",
       "        3.62210070e+03,  9.17407613e+03, -7.06061796e+02,  9.85106601e+02,\n",
       "        7.75483368e+03,  6.42151845e+02,  4.00872472e+02, -1.00574333e+03,\n",
       "       -4.83394166e+02,  2.56595675e+03, -1.64899512e+03,  1.47179478e+02,\n",
       "       -1.10858542e+03,  2.49292941e+03,  2.71732807e+03, -1.40178185e+03,\n",
       "        5.41116808e+02, -5.44745186e+02, -1.11587936e+03,  6.62979901e+02,\n",
       "       -9.33486794e+02, -1.29931898e+03, -3.41334846e+03,  1.38906945e+03,\n",
       "       -1.65305816e+03,  1.83394602e+03, -1.43520311e+03, -1.09112427e+03,\n",
       "       -5.44150750e+02,  6.17267876e+02,  1.74686529e+03])"
      ]
     },
     "execution_count": 43,
     "metadata": {},
     "output_type": "execute_result"
    }
   ],
   "source": [
    "lasso2.coef_"
   ]
  },
  {
   "cell_type": "code",
   "execution_count": 44,
   "metadata": {
    "ExecuteTime": {
     "end_time": "2020-11-22T19:29:00.426248Z",
     "start_time": "2020-11-22T19:29:00.419269Z"
    }
   },
   "outputs": [],
   "source": [
    "feat_coeffs2 = pd.DataFrame({'Feature': [c for c in X2_train.columns], 'Coefficient': lasso2.coef_})"
   ]
  },
  {
   "cell_type": "code",
   "execution_count": 45,
   "metadata": {
    "ExecuteTime": {
     "end_time": "2020-11-22T19:29:01.849999Z",
     "start_time": "2020-11-22T19:29:00.427246Z"
    }
   },
   "outputs": [
    {
     "data": {
      "image/png": "[encoded data removed]",
      "text/plain": [
       "<Figure size 720x2160 with 1 Axes>"
      ]
     },
     "metadata": {},
     "output_type": "display_data"
    }
   ],
   "source": [
    "plt.figure(figsize=(10,30))\n",
    "plt.barh(X2_train.columns, lasso2.coef_);"
   ]
  },
  {
   "cell_type": "markdown",
   "metadata": {
    "ExecuteTime": {
     "end_time": "2020-11-22T15:18:27.427966Z",
     "start_time": "2020-11-22T15:18:27.424018Z"
    }
   },
   "source": [
    "<span style=\"color:blue\">No additional features were reduced to coefficient = 0</span>"
   ]
  },
  {
   "cell_type": "markdown",
   "metadata": {},
   "source": [
    "## Elastic Net Model"
   ]
  },
  {
   "cell_type": "code",
   "execution_count": 46,
   "metadata": {
    "ExecuteTime": {
     "end_time": "2020-11-22T19:29:01.853986Z",
     "start_time": "2020-11-22T19:29:01.850996Z"
    }
   },
   "outputs": [],
   "source": [
    "en_alphas = np.arange(.001,1,.005)\n",
    "en = ElasticNetCV(l1_ratio=0.5, alphas=en_alphas, cv=5, max_iter = 10000)"
   ]
  },
  {
   "cell_type": "code",
   "execution_count": 47,
   "metadata": {
    "ExecuteTime": {
     "end_time": "2020-11-22T19:29:03.329096Z",
     "start_time": "2020-11-22T19:29:01.854986Z"
    }
   },
   "outputs": [
    {
     "data": {
      "text/plain": [
       "0.8920710479059757"
      ]
     },
     "execution_count": 47,
     "metadata": {},
     "output_type": "execute_result"
    }
   ],
   "source": [
    "en_cv_scores = cross_val_score(en, X2_train_scaled, y_train, cv=5)\n",
    "en_cv_scores.mean()"
   ]
  },
  {
   "cell_type": "code",
   "execution_count": 48,
   "metadata": {
    "ExecuteTime": {
     "end_time": "2020-11-22T19:29:04.981977Z",
     "start_time": "2020-11-22T19:29:03.330093Z"
    }
   },
   "outputs": [
    {
     "data": {
      "text/plain": [
       "669487347.0922544"
      ]
     },
     "execution_count": 48,
     "metadata": {},
     "output_type": "execute_result"
    }
   ],
   "source": [
    "en_cv_mse_scores = -cross_val_score(en, X2_train_scaled, y_train, scoring='neg_mean_squared_error', cv=5)\n",
    "en_cv_mse_scores.mean()"
   ]
  },
  {
   "cell_type": "code",
   "execution_count": 49,
   "metadata": {
    "ExecuteTime": {
     "end_time": "2020-11-22T19:29:04.986963Z",
     "start_time": "2020-11-22T19:29:04.982974Z"
    }
   },
   "outputs": [
    {
     "data": {
      "text/plain": [
       "25874.453561230126"
      ]
     },
     "execution_count": 49,
     "metadata": {},
     "output_type": "execute_result"
    }
   ],
   "source": [
    "np.sqrt(en_cv_mse_scores.mean())"
   ]
  },
  {
   "cell_type": "code",
   "execution_count": 50,
   "metadata": {
    "ExecuteTime": {
     "end_time": "2020-11-22T19:29:05.311257Z",
     "start_time": "2020-11-22T19:29:04.987961Z"
    }
   },
   "outputs": [],
   "source": [
    "en.fit(X2_train_scaled, y_train);"
   ]
  },
  {
   "cell_type": "code",
   "execution_count": 51,
   "metadata": {
    "ExecuteTime": {
     "end_time": "2020-11-22T19:29:05.317194Z",
     "start_time": "2020-11-22T19:29:05.312203Z"
    }
   },
   "outputs": [
    {
     "data": {
      "text/plain": [
       "0.910467648676329"
      ]
     },
     "execution_count": 51,
     "metadata": {},
     "output_type": "execute_result"
    }
   ],
   "source": [
    "en.score(X2_train_scaled, y_train)"
   ]
  },
  {
   "cell_type": "code",
   "execution_count": 52,
   "metadata": {
    "ExecuteTime": {
     "end_time": "2020-11-22T19:29:05.323175Z",
     "start_time": "2020-11-22T19:29:05.318187Z"
    }
   },
   "outputs": [
    {
     "data": {
      "text/plain": [
       "0.9143405241170013"
      ]
     },
     "execution_count": 52,
     "metadata": {},
     "output_type": "execute_result"
    }
   ],
   "source": [
    "en.score(X2_test_scaled, y_test)"
   ]
  },
  {
   "cell_type": "code",
   "execution_count": 53,
   "metadata": {
    "ExecuteTime": {
     "end_time": "2020-11-22T19:29:05.329184Z",
     "start_time": "2020-11-22T19:29:05.324172Z"
    }
   },
   "outputs": [
    {
     "data": {
      "text/plain": [
       "23635.16405491846"
      ]
     },
     "execution_count": 53,
     "metadata": {},
     "output_type": "execute_result"
    }
   ],
   "source": [
    "np.sqrt(mean_squared_error(y_train, lasso2.predict(X2_train_scaled)))"
   ]
  },
  {
   "cell_type": "code",
   "execution_count": 54,
   "metadata": {
    "ExecuteTime": {
     "end_time": "2020-11-22T19:29:05.336166Z",
     "start_time": "2020-11-22T19:29:05.330157Z"
    }
   },
   "outputs": [
    {
     "data": {
      "text/plain": [
       "23017.098521397224"
      ]
     },
     "execution_count": 54,
     "metadata": {},
     "output_type": "execute_result"
    }
   ],
   "source": [
    "np.sqrt(mean_squared_error(y_test, lasso2.predict(X2_test_scaled)))"
   ]
  },
  {
   "cell_type": "markdown",
   "metadata": {},
   "source": [
    "<span style=\"color:blue\">Elastic Net gives a better score for the test RMSE but performs poorer for train RMSE as compared to lasso2. R2 scores were close but lasso2 had better performance</span>"
   ]
  },
  {
   "cell_type": "code",
   "execution_count": 55,
   "metadata": {
    "ExecuteTime": {
     "end_time": "2020-11-22T19:29:05.341126Z",
     "start_time": "2020-11-22T19:29:05.337136Z"
    }
   },
   "outputs": [
    {
     "data": {
      "text/plain": [
       "array([  2346.06530293,   4808.24848186,  15541.11950761,   5182.9354251 ,\n",
       "         5856.05370347,   6476.08272119,   6499.02985167,  -2630.08310444,\n",
       "        10277.37098259,   2182.76384689,  22061.30851311,   2151.61114818,\n",
       "        -2492.28558483,   2523.22737814,   1578.92863429,   6024.93791805,\n",
       "         1408.23334113,   1664.72947736, -10007.1875833 ,  -3112.77516007,\n",
       "        -5537.34886871,  -3734.76672262,   -938.73965314,  -2229.82654098,\n",
       "          534.08401743,   1133.39118216,    748.91315241,   1480.31772706,\n",
       "         -974.92800815,  -1557.52800011,   -817.54650788,   1622.58423677,\n",
       "         -189.4642638 ,  -1177.58490152,    797.27946463,  -1086.40797303,\n",
       "        -1856.6391125 ,   1575.55255781,   1305.64680139,    491.11624533,\n",
       "         -823.06960857,   3522.67474918,   -736.72919686,   3297.51768725,\n",
       "        -1296.13895423,   -992.68959785,   1877.51097045,  -1250.78155269,\n",
       "         3912.52975849,   8742.08449872,  -1080.53177225,    926.07375545,\n",
       "         7723.97610677,    725.6355062 ,    782.30181679,  -1339.2484232 ,\n",
       "        -1190.68121681,   2124.65430409,  -1724.47049249,    281.79720838,\n",
       "        -1156.35219736,   2609.47392013,   2970.95905568,  -1701.53859276,\n",
       "          660.70606447,   -460.06126061,  -1428.8341066 ,    649.23685178,\n",
       "        -1153.6395024 ,  -1411.64315654,  -3218.37927326,   1659.62800294,\n",
       "        -2001.37567498,   2175.16368994,  -1642.04523342,   -838.08183723,\n",
       "         -619.44395552,   1207.4316015 ,   2076.09207094])"
      ]
     },
     "execution_count": 55,
     "metadata": {},
     "output_type": "execute_result"
    }
   ],
   "source": [
    "en.coef_"
   ]
  },
  {
   "cell_type": "markdown",
   "metadata": {},
   "source": [
    "<span style=\"color:blue\">As with lasso2, no additional features were reduced to coefficient = 0</span>"
   ]
  },
  {
   "cell_type": "markdown",
   "metadata": {
    "ExecuteTime": {
     "end_time": "2020-11-22T15:52:50.493240Z",
     "start_time": "2020-11-22T15:52:50.490242Z"
    }
   },
   "source": [
    "## 2nd Ridge Model"
   ]
  },
  {
   "cell_type": "code",
   "execution_count": 56,
   "metadata": {
    "ExecuteTime": {
     "end_time": "2020-11-22T19:29:05.375036Z",
     "start_time": "2020-11-22T19:29:05.342123Z"
    }
   },
   "outputs": [],
   "source": [
    "ridge2 = RidgeCV(alphas=np.linspace(.1, 150, 100))"
   ]
  },
  {
   "cell_type": "code",
   "execution_count": 57,
   "metadata": {
    "ExecuteTime": {
     "end_time": "2020-11-22T19:29:05.518651Z",
     "start_time": "2020-11-22T19:29:05.376033Z"
    }
   },
   "outputs": [
    {
     "data": {
      "text/plain": [
       "0.8922595054319327"
      ]
     },
     "execution_count": 57,
     "metadata": {},
     "output_type": "execute_result"
    }
   ],
   "source": [
    "ridge2_cv_scores = cross_val_score(ridge2, X2_train_scaled, y_train, cv=5)\n",
    "ridge2_cv_scores.mean()"
   ]
  },
  {
   "cell_type": "code",
   "execution_count": 58,
   "metadata": {
    "ExecuteTime": {
     "end_time": "2020-11-22T19:29:05.659275Z",
     "start_time": "2020-11-22T19:29:05.519649Z"
    }
   },
   "outputs": [
    {
     "data": {
      "text/plain": [
       "667928503.4504222"
      ]
     },
     "execution_count": 58,
     "metadata": {},
     "output_type": "execute_result"
    }
   ],
   "source": [
    "ridge2_cv_mse_scores = -cross_val_score(ridge2, X2_train_scaled, y_train, scoring='neg_mean_squared_error', cv=5)\n",
    "ridge2_cv_mse_scores.mean()"
   ]
  },
  {
   "cell_type": "code",
   "execution_count": 59,
   "metadata": {
    "ExecuteTime": {
     "end_time": "2020-11-22T19:29:05.665259Z",
     "start_time": "2020-11-22T19:29:05.660272Z"
    }
   },
   "outputs": [
    {
     "data": {
      "text/plain": [
       "25844.312787350762"
      ]
     },
     "execution_count": 59,
     "metadata": {},
     "output_type": "execute_result"
    }
   ],
   "source": [
    "np.sqrt(ridge2_cv_mse_scores.mean())"
   ]
  },
  {
   "cell_type": "code",
   "execution_count": 60,
   "metadata": {
    "ExecuteTime": {
     "end_time": "2020-11-22T19:29:05.696176Z",
     "start_time": "2020-11-22T19:29:05.666256Z"
    }
   },
   "outputs": [],
   "source": [
    "ridge2.fit(X2_train_scaled, y_train);"
   ]
  },
  {
   "cell_type": "code",
   "execution_count": 61,
   "metadata": {
    "ExecuteTime": {
     "end_time": "2020-11-22T19:29:05.702160Z",
     "start_time": "2020-11-22T19:29:05.697173Z"
    }
   },
   "outputs": [
    {
     "data": {
      "text/plain": [
       "0.9107481105540288"
      ]
     },
     "execution_count": 61,
     "metadata": {},
     "output_type": "execute_result"
    }
   ],
   "source": [
    "ridge2.score(X2_train_scaled, y_train)"
   ]
  },
  {
   "cell_type": "code",
   "execution_count": 62,
   "metadata": {
    "ExecuteTime": {
     "end_time": "2020-11-22T19:29:05.708144Z",
     "start_time": "2020-11-22T19:29:05.703157Z"
    }
   },
   "outputs": [
    {
     "data": {
      "text/plain": [
       "0.9147059333410731"
      ]
     },
     "execution_count": 62,
     "metadata": {},
     "output_type": "execute_result"
    }
   ],
   "source": [
    "ridge2.score(X2_test_scaled, y_test)"
   ]
  },
  {
   "cell_type": "code",
   "execution_count": 63,
   "metadata": {
    "ExecuteTime": {
     "end_time": "2020-11-22T19:29:05.716123Z",
     "start_time": "2020-11-22T19:29:05.709142Z"
    }
   },
   "outputs": [
    {
     "data": {
      "text/plain": [
       "23660.40482207637"
      ]
     },
     "execution_count": 63,
     "metadata": {},
     "output_type": "execute_result"
    }
   ],
   "source": [
    "np.sqrt(mean_squared_error(y_train, ridge2.predict(X2_train_scaled)))"
   ]
  },
  {
   "cell_type": "code",
   "execution_count": 64,
   "metadata": {
    "ExecuteTime": {
     "end_time": "2020-11-22T19:29:05.723104Z",
     "start_time": "2020-11-22T19:29:05.717120Z"
    }
   },
   "outputs": [
    {
     "data": {
      "text/plain": [
       "23221.517195430642"
      ]
     },
     "execution_count": 64,
     "metadata": {},
     "output_type": "execute_result"
    }
   ],
   "source": [
    "np.sqrt(mean_squared_error(y_test, ridge2.predict(X2_test_scaled)))"
   ]
  },
  {
   "cell_type": "markdown",
   "metadata": {},
   "source": [
    "<span style=\"color:blue\">lasso2 gives a better performance as compared ridge2</span>"
   ]
  },
  {
   "cell_type": "code",
   "execution_count": 65,
   "metadata": {
    "ExecuteTime": {
     "end_time": "2020-11-22T19:29:05.730086Z",
     "start_time": "2020-11-22T19:29:05.724102Z"
    }
   },
   "outputs": [
    {
     "data": {
      "text/plain": [
       "array([  2241.12010783,   4795.82536142,  15665.97243653,   5319.30836001,\n",
       "         5877.06391969,   6487.70264067,   6296.68719361,  -2884.66970138,\n",
       "        10392.51970917,   2130.86475081,  22698.18784768,   2045.07460503,\n",
       "        -2708.03570997,   2373.54711575,   1540.8509869 ,   5930.3851459 ,\n",
       "         1344.9651693 ,   1596.66592606, -10452.87426983,  -2982.07272408,\n",
       "        -5707.60102011,  -3881.177595  ,  -1000.24671676,  -2227.4622497 ,\n",
       "          601.23978978,   1261.6483624 ,    773.10833921,   1472.89647173,\n",
       "         -956.29575138,  -1621.48420427,   -795.42187667,   1654.37521224,\n",
       "         -135.54882227,  -1176.47485468,    766.54734419,  -1072.71359636,\n",
       "        -1871.68005639,   1660.16596556,   1321.74488247,    492.92688219,\n",
       "         -810.62526453,   3576.71367708,   -702.35259413,   3333.63211908,\n",
       "        -1235.68327152,   -912.25745785,   1946.15929956,  -1270.21939966,\n",
       "         3883.67398834,   8866.76294563,  -1060.12441693,    942.78719836,\n",
       "         7782.01589275,    740.26714636,    741.04901167,  -1326.28018497,\n",
       "        -1116.33516827,   2152.06441933,  -1756.61025424,    267.4623268 ,\n",
       "        -1172.67938225,   2622.04505476,   2960.53468965,  -1647.93145856,\n",
       "          691.11969058,   -517.62520832,  -1401.52167801,    690.79774938,\n",
       "        -1129.54176244,  -1429.08525311,  -3325.53400412,   1603.89166022,\n",
       "        -1920.98354122,   2182.66367193,  -1637.37626144,   -966.06180468,\n",
       "         -622.30318046,   1096.42812228,   2107.3597754 ])"
      ]
     },
     "execution_count": 65,
     "metadata": {},
     "output_type": "execute_result"
    }
   ],
   "source": [
    "ridge2.coef_"
   ]
  },
  {
   "cell_type": "markdown",
   "metadata": {},
   "source": [
    "## Final Feature Selection"
   ]
  },
  {
   "cell_type": "code",
   "execution_count": 66,
   "metadata": {
    "ExecuteTime": {
     "end_time": "2020-11-22T19:29:05.736072Z",
     "start_time": "2020-11-22T19:29:05.731083Z"
    }
   },
   "outputs": [],
   "source": [
    "feat_coeffs3 = pd.DataFrame({'Feature': [c for c in X2_train.columns], 'Coefficient': en.coef_})"
   ]
  },
  {
   "cell_type": "code",
   "execution_count": 67,
   "metadata": {
    "ExecuteTime": {
     "end_time": "2020-11-22T19:29:05.742054Z",
     "start_time": "2020-11-22T19:29:05.738064Z"
    }
   },
   "outputs": [],
   "source": [
    "feat_coeffs4 = pd.DataFrame({'Feature': [c for c in X2_train.columns], 'Coefficient': ridge2.coef_})"
   ]
  },
  {
   "cell_type": "code",
   "execution_count": 68,
   "metadata": {
    "ExecuteTime": {
     "end_time": "2020-11-22T19:29:05.747041Z",
     "start_time": "2020-11-22T19:29:05.743051Z"
    }
   },
   "outputs": [],
   "source": [
    "top_30_lasso2 = feat_coeffs2.sort_values(by=['Coefficient'], ascending=False).head(30)"
   ]
  },
  {
   "cell_type": "code",
   "execution_count": 69,
   "metadata": {
    "ExecuteTime": {
     "end_time": "2020-11-22T19:29:05.752027Z",
     "start_time": "2020-11-22T19:29:05.748037Z"
    }
   },
   "outputs": [],
   "source": [
    "top_30_en = feat_coeffs3.sort_values(by=['Coefficient'], ascending=False).head(30)"
   ]
  },
  {
   "cell_type": "code",
   "execution_count": 70,
   "metadata": {
    "ExecuteTime": {
     "end_time": "2020-11-22T19:29:05.758011Z",
     "start_time": "2020-11-22T19:29:05.753024Z"
    }
   },
   "outputs": [],
   "source": [
    "top_30_ridge2 = feat_coeffs4.sort_values(by=['Coefficient'], ascending=False).head(30)"
   ]
  },
  {
   "cell_type": "code",
   "execution_count": 71,
   "metadata": {
    "ExecuteTime": {
     "end_time": "2020-11-22T19:29:05.762997Z",
     "start_time": "2020-11-22T19:29:05.759008Z"
    }
   },
   "outputs": [
    {
     "data": {
      "text/plain": [
       "set()"
      ]
     },
     "execution_count": 71,
     "metadata": {},
     "output_type": "execute_result"
    }
   ],
   "source": [
    "set(top_30_lasso2).difference(set(top_30_en))"
   ]
  },
  {
   "cell_type": "code",
   "execution_count": 72,
   "metadata": {
    "ExecuteTime": {
     "end_time": "2020-11-22T19:29:05.767984Z",
     "start_time": "2020-11-22T19:29:05.763995Z"
    }
   },
   "outputs": [
    {
     "data": {
      "text/plain": [
       "set()"
      ]
     },
     "execution_count": 72,
     "metadata": {},
     "output_type": "execute_result"
    }
   ],
   "source": [
    "set(top_30_lasso2).difference(set(top_30_ridge2))"
   ]
  },
  {
   "cell_type": "code",
   "execution_count": 73,
   "metadata": {
    "ExecuteTime": {
     "end_time": "2020-11-22T19:29:05.771973Z",
     "start_time": "2020-11-22T19:29:05.768983Z"
    }
   },
   "outputs": [],
   "source": [
    "selected_features = top_30_lasso2['Feature']"
   ]
  },
  {
   "cell_type": "markdown",
   "metadata": {},
   "source": [
    "<span style=\"color:blue\">To improve interpretability of the model, 30 features are to be selected. All 3 models have the same top 30 coefficients although there are some slight differences in order. As such, these 30 features are selected for the final model. Since lasso2 had the best performance, the final model will be built using lasso</span>"
   ]
  },
  {
   "cell_type": "markdown",
   "metadata": {},
   "source": [
    "## Final Model"
   ]
  },
  {
   "cell_type": "code",
   "execution_count": 74,
   "metadata": {
    "ExecuteTime": {
     "end_time": "2020-11-22T19:29:05.777957Z",
     "start_time": "2020-11-22T19:29:05.772970Z"
    }
   },
   "outputs": [],
   "source": [
    "X_fin_train = X[selected_features]\n",
    "X_fin_test = ames_test[selected_features]"
   ]
  },
  {
   "cell_type": "code",
   "execution_count": 75,
   "metadata": {
    "ExecuteTime": {
     "end_time": "2020-11-22T19:29:05.782944Z",
     "start_time": "2020-11-22T19:29:05.778955Z"
    }
   },
   "outputs": [],
   "source": [
    "ss3 = StandardScaler()\n",
    "lasso_fin = LassoCV(n_alphas=100)"
   ]
  },
  {
   "cell_type": "code",
   "execution_count": 76,
   "metadata": {
    "ExecuteTime": {
     "end_time": "2020-11-22T19:29:05.794911Z",
     "start_time": "2020-11-22T19:29:05.783941Z"
    }
   },
   "outputs": [],
   "source": [
    "X_fin_train_scaled = ss3.fit_transform(X_fin_train)\n",
    "X_fin_test_scaled = ss3.transform(X_fin_test)"
   ]
  },
  {
   "cell_type": "code",
   "execution_count": 77,
   "metadata": {
    "ExecuteTime": {
     "end_time": "2020-11-22T19:29:06.168408Z",
     "start_time": "2020-11-22T19:29:05.795909Z"
    }
   },
   "outputs": [
    {
     "data": {
      "text/plain": [
       "0.8831580372682044"
      ]
     },
     "execution_count": 77,
     "metadata": {},
     "output_type": "execute_result"
    }
   ],
   "source": [
    "lasso_fin_cv_scores = cross_val_score(lasso_fin, X_fin_train_scaled, y, cv=5)\n",
    "lasso_fin_cv_scores.mean()"
   ]
  },
  {
   "cell_type": "code",
   "execution_count": 78,
   "metadata": {
    "ExecuteTime": {
     "end_time": "2020-11-22T19:29:06.498562Z",
     "start_time": "2020-11-22T19:29:06.170410Z"
    }
   },
   "outputs": [
    {
     "data": {
      "text/plain": [
       "734016095.1156479"
      ]
     },
     "execution_count": 78,
     "metadata": {},
     "output_type": "execute_result"
    }
   ],
   "source": [
    "lasso_fin_cv_mse_scores = -cross_val_score(lasso_fin, X_fin_train_scaled, y, scoring='neg_mean_squared_error', cv=5)\n",
    "lasso_fin_cv_mse_scores.mean()"
   ]
  },
  {
   "cell_type": "code",
   "execution_count": 79,
   "metadata": {
    "ExecuteTime": {
     "end_time": "2020-11-22T19:29:06.503511Z",
     "start_time": "2020-11-22T19:29:06.499521Z"
    }
   },
   "outputs": [
    {
     "data": {
      "text/plain": [
       "27092.7314074393"
      ]
     },
     "execution_count": 79,
     "metadata": {},
     "output_type": "execute_result"
    }
   ],
   "source": [
    "np.sqrt(lasso_fin_cv_mse_scores.mean())"
   ]
  },
  {
   "cell_type": "code",
   "execution_count": 80,
   "metadata": {
    "ExecuteTime": {
     "end_time": "2020-11-22T19:29:06.579335Z",
     "start_time": "2020-11-22T19:29:06.504508Z"
    }
   },
   "outputs": [
    {
     "data": {
      "text/plain": [
       "LassoCV()"
      ]
     },
     "execution_count": 80,
     "metadata": {},
     "output_type": "execute_result"
    }
   ],
   "source": [
    "lasso_fin.fit(X_fin_train_scaled, y)"
   ]
  },
  {
   "cell_type": "code",
   "execution_count": 81,
   "metadata": {
    "ExecuteTime": {
     "end_time": "2020-11-22T19:29:06.585293Z",
     "start_time": "2020-11-22T19:29:06.580306Z"
    }
   },
   "outputs": [
    {
     "data": {
      "text/plain": [
       "26348.840355570206"
      ]
     },
     "execution_count": 81,
     "metadata": {},
     "output_type": "execute_result"
    }
   ],
   "source": [
    "np.sqrt(mean_squared_error(y, lasso_fin.predict(X_fin_train_scaled)))"
   ]
  },
  {
   "cell_type": "markdown",
   "metadata": {},
   "source": [
    "<span style=\"color:blue\">After reducing to 30 features, the final model has RMSE of 26209. This represents an increase in RMSE by 3192 when compared to the RMSE of the test data from the best performing lasso2 model that had 79 features.<br><br>\n",
    "In percentage terms, a 62% reduction in the number of features, thus increasing interpretability, only caused a 14% increase in RMSE which represents a fair trade-of</span>"
   ]
  },
  {
   "cell_type": "code",
   "execution_count": 83,
   "metadata": {
    "ExecuteTime": {
     "end_time": "2020-11-22T19:29:06.606271Z",
     "start_time": "2020-11-22T19:29:06.592273Z"
    }
   },
   "outputs": [
    {
     "data": {
      "text/plain": [
       "array([171538.97808075, 164968.05451369, 198907.02926592, 104409.75281881,\n",
       "       184337.20094085,  86174.4182549 ,  79072.89037667, 139657.93101133,\n",
       "       191462.6903218 , 155977.1466348 , 140157.58014543, 130524.05845476,\n",
       "       167409.2007173 , 279794.51715736, 157555.74647637, 105494.91426874,\n",
       "       167271.04303213, 111388.42086357, 188291.35460768, 231557.29106659,\n",
       "       136523.36736792, 140914.35802926, 176554.94946652, 187451.6320635 ,\n",
       "       181046.09558831, 116508.98680447, 117458.92155214, 113228.29036908,\n",
       "       176938.66327888,  29915.39234442,  93025.06107819,  94243.62595176,\n",
       "       241935.26164168, 157588.19238874, 203252.58825033, 167023.55447314,\n",
       "       112771.73513127,  89588.83889369,  99338.98080115, 207085.62576265,\n",
       "       176642.96267729, 185269.3791399 , 140113.98266786, 161481.67637916,\n",
       "       219168.77206492,  90142.51359369, 215948.60413427, 106177.49663992,\n",
       "       113782.47411754, 114187.63538356, 107452.68102663, 215672.51031156,\n",
       "       248009.51683886, 127015.7240264 , 109069.61332472, 141259.37382242,\n",
       "       186550.26229331, 137000.7896147 , 159988.75279243, 229100.9261561 ,\n",
       "       348655.84310949, 144357.40545122, 137818.43325254, 180991.55853034,\n",
       "       166183.18646403, 315255.99536495,  72973.47175971, 246009.67187825,\n",
       "        67485.073494  , 154955.79595125,  86620.87358054, 359171.97426084,\n",
       "       221990.4170903 , 155115.79680465, 140215.12927192, 207100.88734368,\n",
       "       581545.43939499, 149937.42570254, 166888.78562001,  92847.50353757,\n",
       "       368556.61451104, 186404.49894902, 121147.83054867, 131066.14371452,\n",
       "       111029.48644608, 190651.91453294, 338604.62187966, 117005.89710989,\n",
       "       190347.67321599, 236021.02670778, 144584.55590504, 120383.61713198,\n",
       "       109453.56958518, 121109.6865069 , 246589.23360526, 121759.75502256,\n",
       "       150897.59087245, 172500.57373997, 257115.20552701, 178096.88413775,\n",
       "       210938.92876627, 294042.44439815, 174142.94558708,  92839.71112948,\n",
       "       459643.86678025, 181038.33856265,  98991.9378203 , 160135.69488342,\n",
       "       201533.25383687, 209207.07410899, 140842.61534596, 189563.36780907,\n",
       "       233586.04924976, 125823.83076363, 123454.13823396, 237911.75649938,\n",
       "       489624.13375112, 148205.43611005, 102947.75524994, 306666.05531626,\n",
       "       186512.55089943, 373955.17739921, 303201.01436391, 339074.39021883,\n",
       "       159092.67319482, 130360.57190615, 381893.10304764, 133431.90590085,\n",
       "       118819.72467808, 108739.48601324, 291853.75319211, 124036.1964015 ,\n",
       "       195346.86153907, 149903.67087568, 185652.46593348, 175956.12820162,\n",
       "       247524.13367679, 184545.0139757 , 169178.44355468, 242471.51065825,\n",
       "       100770.49564674, 190900.3425354 , 119832.31375803, 139108.51616247,\n",
       "       186758.71025101, 114282.56475941, 153664.59448174, 160167.32082464,\n",
       "       159401.39318042,  89696.21886534, 225453.14222929, 190004.64298569,\n",
       "       172534.22984602, 121075.96303142, 118245.05207235, 102567.74287161,\n",
       "       131672.77146691,  83090.04781137, 130830.02207086, 241875.81978614,\n",
       "       252853.88967836, 217290.21835336, 121186.4495211 , 114275.70847971,\n",
       "       465949.50096347, 262937.47963491, 239834.46223382, 164312.54778378,\n",
       "       167016.81676934, 257984.45011184, 193928.24963722, 507224.26990322,\n",
       "       129544.22268009, 214902.77012147, 160554.10573907, 187481.95646949,\n",
       "       177673.472582  ,  87847.78079485, 176266.97485594,  82605.6673297 ,\n",
       "       160433.08774937, 125511.00130236, 209354.3895635 , 235127.12654664,\n",
       "       167199.34109588, 148275.6026472 , 116943.08815933, 186810.34709942,\n",
       "       205618.2416356 , 110796.89600629,  56469.23832657, 175999.88373917,\n",
       "       145679.72461531, 136144.34096564,  96148.31135615, 157326.70812383,\n",
       "       158969.73552196, 280330.5766726 , 140223.45335465, 117755.93016329,\n",
       "       121174.75726049, 313765.27899603, 204079.05968643, 136762.04468149,\n",
       "       178765.99767947, 135674.58327672,  95527.5400656 , 144489.58954251,\n",
       "       141580.66866077, 243414.21751592, 212811.89862937, 181341.028091  ,\n",
       "       191432.19018736, 104986.6470623 , 460895.38052209, 269082.97914521,\n",
       "       184411.39404898, 241869.76815036, 153644.57394861, 102229.34762975,\n",
       "       147757.66387089, 192796.7852783 , 152097.3178369 , 178690.80054698,\n",
       "       180656.15356522, 121473.36641856, 102467.87108612, 263389.70065779,\n",
       "       198596.28244527, 160587.34699118, 284852.81255731, 208322.44168744,\n",
       "        80703.49012809, 127351.70265257,  77754.39801553, 320562.0893609 ,\n",
       "       162748.13174696,  86894.04223553, 402431.01272379, 329931.7359137 ,\n",
       "       189136.03770263, 250059.53280517, 147385.5266234 , 301677.07964242,\n",
       "       231505.07778548, 291844.02291994, 255237.28691853, 125367.71170131,\n",
       "       103199.45755304, 173891.53235135, 295088.49154713, 299991.69536337,\n",
       "       156149.90603312, 236475.79775159, 230299.10680365, 190783.04209766,\n",
       "        83063.26979607,  83746.8124338 , 403391.1822001 , 212189.43298798,\n",
       "       242064.76584113, 165504.88653262, 149272.08412813, 116067.58667723,\n",
       "       183888.81354048, 226784.88661961, 161435.47955005, 136364.41454709,\n",
       "       198072.67969241, 184659.42348537, 139629.5441053 , 230560.20249889,\n",
       "       193223.17244837, 187923.93642345, 345727.29120395,  96022.4686161 ,\n",
       "       137265.8601371 , 138313.20921618, 207880.56616879,  80672.17217189,\n",
       "       115003.45271782, 222424.81354376, 140458.23089639,  98388.96010454,\n",
       "        99552.81819464, 149602.79221969, 256710.66162641, 222496.77346377,\n",
       "       102856.8609387 ,  88870.87044805, 146339.49215055, 103979.04271448,\n",
       "       117705.74940373,  84292.26489319, 112399.10840909, 187846.9948122 ,\n",
       "       148844.99258562, 203559.84794905, 264998.31218738, 244169.24714406,\n",
       "       166345.0446465 , 192797.21172683, 310035.6630593 , 116575.48063417,\n",
       "       146461.57046698,  66433.0679357 ,  88947.7905996 , 346706.31332729,\n",
       "       188779.76167477, 145777.48729104, 124791.15263241, 219413.08693809,\n",
       "       265804.01749997, 220001.05348648, 263381.4345056 , 140033.75827574,\n",
       "       378052.09735887, 371396.53078869, 300553.60660646, 213700.21441507,\n",
       "       108761.18544653,  74922.77211995, 137317.85561252, 145096.68219799,\n",
       "       272334.36183948, 130271.30415242, 139254.86190869, 160047.69879442,\n",
       "       169999.11004138, 208892.8915567 , 141358.55188466, 189508.03707882,\n",
       "       173377.37973775, 173139.29681721, 211319.63269673,  95289.16382429,\n",
       "       191224.38153943,  87666.29343181, 110165.17012927, 133196.18371626,\n",
       "       160672.1767249 , 207502.48780421, 107862.61900456, 129679.10794423,\n",
       "       177963.82766372, 303380.3513107 , 242089.43700203, 162499.201597  ,\n",
       "        93210.18727552, 204169.26686267, 158866.33590343, 177188.69981931,\n",
       "       165120.01762305, 128623.38017935, 272297.31634376, 146491.36778212,\n",
       "       256319.52891712, 157440.37571559, 205971.95315896, 251791.55364376,\n",
       "       126024.69026082, 147360.67050806, 159242.20799792, 100307.55097511,\n",
       "       170297.4955331 , 193416.73744856, 293224.10726797, 253825.29222719,\n",
       "       228263.98486214, 196885.13628045,  96149.4140669 , 239979.64166322,\n",
       "       120771.09377458, 176759.34957953, 374201.07330389, 127273.78553826,\n",
       "       266967.70382281, 183686.55716214, 294908.50173847, 240310.40235946,\n",
       "       110310.32471489, 172940.50773945, 174924.05691043, 332466.45610866,\n",
       "       307213.22516084, 210683.590165  , 194887.68370509, 176730.26736466,\n",
       "       204135.61533523, 144618.18088067, 124322.65441905,  96466.96225335,\n",
       "       273439.63988183, 149632.61921473, 138231.19944897, 176795.52615444,\n",
       "        70978.8953752 , 155297.36741084, 180356.97891904, 126526.56390028,\n",
       "       111841.60682534, 219187.70619624, 225362.72119074, 138640.1620169 ,\n",
       "       300851.7338123 , 161452.22771245, 121875.95051868, 165443.81525168,\n",
       "       211259.03415439, 294389.09056602, 140012.38909165, 121705.25685944,\n",
       "       148291.54658228, 241019.06666594, 109639.64370252, 262721.89335952,\n",
       "       331914.39490089, 122492.67538717, 257218.28077667, 103367.53384009,\n",
       "       164359.81421747, 249887.12086604, 123720.18917854, 241871.48549848,\n",
       "       144137.00067111, 217135.90417543, 389258.81762908, 201225.44168327,\n",
       "       201135.03228094, 152359.86817521, 293704.11019281,  78117.24300552,\n",
       "       140821.58585151, 106547.21027947, 185056.1099228 ,  88790.88003761,\n",
       "       320854.46559767, 218536.10121434, 187815.59501498, 159834.65310453,\n",
       "       173143.15877599, 199944.48001155, 134022.82644379, 116073.71727529,\n",
       "       167044.10177517, 166786.14912048, 220637.14898618,  36408.99257132,\n",
       "        72242.57363066, 301934.50651459, 114111.29211896, 236661.39921104,\n",
       "       287878.92734829, 241211.29486892, 182446.11567732, 191853.60240508,\n",
       "       233081.60579265, 218897.46523841, 129885.49117252, 239061.19377062,\n",
       "       126039.99915382, 131993.41049544, 111138.40413513, 149625.90564243,\n",
       "       514206.64296699, 117707.26056324, 207330.06129981, 235136.66675263,\n",
       "       223228.02251027,  99494.18981951, 117077.49812408, 135029.19271115,\n",
       "       224619.94624289, 160545.74182244,  98739.8782582 , 238107.43434139,\n",
       "       238756.24134448, 107388.56488102, 161309.77241837, 100009.74767704,\n",
       "       154571.14186598,  79729.67563531, 216351.38580377, 107373.08736921,\n",
       "       166880.72589967, 297801.63806394, 151576.39029852, 156220.73627453,\n",
       "       175050.4120261 , 217092.78176089, 155154.29829718, 155484.88638129,\n",
       "       193280.51373206, 198194.186728  , 254171.08993826, 337235.02822454,\n",
       "       181958.9872236 , 127648.79193988, 127913.24268649, 193000.62602   ,\n",
       "       115423.57192172, 171007.22871577, 231657.51158238, 185704.63244644,\n",
       "       149843.67850195, 232571.90182806, 124023.74049906, 279307.12348694,\n",
       "       115330.48776963, 113890.57884996, 269224.80403803, 127029.86538908,\n",
       "       129854.93620741, 132327.30532208, 130038.77647836,   6069.41425212,\n",
       "       209912.02612958, 178991.91855306, 213176.89337658, 257449.94249101,\n",
       "       293341.03114224, 105552.0555998 , 135238.59655922, 166851.33819442,\n",
       "       124981.50195238, 233401.9559977 , 426176.18153685, 183130.6983193 ,\n",
       "        93147.56894211, 125672.27072743,  26095.60879488, 122770.56312976,\n",
       "       162669.52076109, 149730.70063885, 176341.07389939, 177988.64004281,\n",
       "       146542.72892998,  72636.46263033, 244886.43306894, 136092.15251222,\n",
       "       155688.3530717 , 156659.36198219,  76104.8446346 ,  71529.49825983,\n",
       "       145488.14482661, 227904.72067007, 343859.02577795, 251994.57157158,\n",
       "       111514.5411919 ,  96219.2252241 , 306932.83591126, 119694.88109092,\n",
       "       294004.46049727,  68520.12591598, 197497.57246799, 198927.64974769,\n",
       "        95552.63513951, 107183.34885123, 143634.88967478, 111741.37195698,\n",
       "       192868.30407277,  97426.08928691, 168378.07442705, 160513.97265564,\n",
       "       159285.9563381 , 134349.56055229, 117138.59246663, 120917.09088497,\n",
       "       228829.06846788, 114021.87860341, 169754.84561245, 154189.26701763,\n",
       "        98680.76782477,  74890.64168591, 142046.58384951, 200960.65016459,\n",
       "       114463.82380625, 176006.07831729, 143860.95497637, 201923.96120859,\n",
       "       112672.5785818 , 177017.49562658, 133933.61908087, 256777.46162798,\n",
       "       114849.4097658 , 139464.11982584, 174557.32906618, 157056.93697324,\n",
       "       122378.80088943, 296590.47802094, 227538.26945658, 121092.48170735,\n",
       "       105790.70319561, 134536.6927453 , 129718.81669364, 314545.92901998,\n",
       "       219266.32898492, 133077.03877946, 140171.50362942, 116950.97375546,\n",
       "       356942.07508744, 134051.93545098, 195609.97261439, 124837.42309799,\n",
       "       185257.96670544, 230653.63599041,  81384.41667388, 133132.90328864,\n",
       "        96375.07661133, 154065.11637577, 126512.85446603, 102899.77119678,\n",
       "       346406.41014174, 232543.78488035, 111299.50516235, 149352.96349762,\n",
       "         8534.27613857, 178228.80977114, 272199.14955766,  44325.78891928,\n",
       "       161715.53213032, 203649.86624034, 115989.17787344, 145497.74421833,\n",
       "       117748.84640651, 138411.95524858, 156575.10422399, 169503.84459775,\n",
       "       121806.32583654, 377505.41439921, 137304.08741698, 213563.21335068,\n",
       "       189459.7454947 , 128712.7696149 ,  47633.36017175, 114803.15091829,\n",
       "       197626.00999346, 153466.62346248, 156814.38488969, 154336.71269035,\n",
       "       142821.5723758 , 305587.4333971 , 129306.20041957, 222332.97628902,\n",
       "       239731.23945891, 169055.15441853,  63636.7194395 , 241757.77698013,\n",
       "       186847.19588087, 144417.97218799, 183007.77272119, 165381.72018902,\n",
       "       113660.44624047, 104705.72186884, 155971.49154071,  32643.30313144,\n",
       "       168797.65528683, 191808.39922097, 174531.88446332, 276408.43324136,\n",
       "       219326.94282016, 160443.95176634, 192720.94998551, 181397.85796719,\n",
       "       222861.36787682, 409491.12872023, 224612.29087321, 201202.15886445,\n",
       "       199218.40404994, 195286.64214987, 304273.22265526, 209369.21798656,\n",
       "       268302.0256381 , 248160.16471351, 135956.26896889, 105249.21903286,\n",
       "       132915.24796947, 141026.78318804,  94247.58404846, 171726.35807369,\n",
       "       124658.52814623, 364398.6062058 , 193670.40172728, 166612.10086706,\n",
       "       225833.49779663, 183388.54700051, 163824.21095297, 204285.24130876,\n",
       "       394795.54409213, 166804.86412913, 182838.48027125,  55567.2764579 ,\n",
       "       112916.11148377, 311029.98814639, 133423.93921342, 219159.55584801,\n",
       "       156137.72185067, 198394.7568054 , 337756.4846761 , 100246.13643861,\n",
       "       243474.36368812, 150846.08856123, 135047.99052445, 167792.12658898,\n",
       "       120866.31954028, 303990.28282969, 280997.57534415, 151940.86391256,\n",
       "       143841.55496447,  97695.419023  , 303293.12318628, 221017.6270832 ,\n",
       "        82629.23768078, 153560.84876057, 128087.27839632, 123813.26868257,\n",
       "       213604.92166823, 294441.83391263, 225271.23257473, 192879.41520675,\n",
       "       256444.5282334 , 207226.25561251, 264218.20425263, 131614.08165563,\n",
       "       118460.87733871, 310119.74354384, 174529.14189016, 197530.90831527,\n",
       "       141663.48404859, 290378.40174748,  78882.09377514, 253626.91387955,\n",
       "       183879.0650466 , 250933.80773118, 160335.24436128, 221487.06792596,\n",
       "       155913.05767607, 164655.28241523, 160676.46526945, 140978.53883999,\n",
       "       132979.16368598, 219553.1680571 , 176905.27617729, 187026.29347423,\n",
       "       110645.41801213, 164604.30817243, 186960.01712514, 193443.93158272,\n",
       "       226521.77456198, 125502.76976521, 312988.13685251, 252708.19804632,\n",
       "       154085.11281031, 134017.77589454, 193277.40563158, 152162.56054429,\n",
       "       122374.46163431, 433953.81698672,  60852.59737509, 138198.49367316,\n",
       "       233205.70004021, 157816.56196316, 211817.66078441, 135426.73144664,\n",
       "       259044.30133906, 181916.78169009, 297690.71336778, 164580.50555419,\n",
       "       188857.42921117, 311677.09108565, 143063.99615464, 267355.04165228,\n",
       "       176578.84513943, 143592.41562817, 248009.11233091, 114405.97708517,\n",
       "       160636.03871831, 210138.82245589, 141559.65751101, 121309.74914332,\n",
       "       195775.59963687, 187378.43905064, 377040.73738365,  89512.90505664,\n",
       "       122387.30732845, 103775.56758379, 162262.99354875, 255183.04584758,\n",
       "       107168.39877848, 256109.01146105, 156762.8014391 , 195481.64569435,\n",
       "       244661.62561111, 168221.35510797, 298008.98384023, 179345.00050544,\n",
       "       201903.87083118, 176417.95236633, 242215.52270392, 250461.5267152 ,\n",
       "       212358.95546966, 141342.20192954, 120103.2024623 , 159230.7604438 ,\n",
       "        96411.00804176, 210455.52317907, 115563.84575699, 120519.82902699,\n",
       "       168461.71168702, 161764.54144929, 108944.17994205, 131545.9810635 ,\n",
       "       322160.02661682, 164857.05968456, 188598.46708001, 244629.32685244,\n",
       "       192090.42716114, 271888.18945718,  88537.19478604, 101056.45724499,\n",
       "       150357.62482081, 175708.39154892,  97048.40399015, 375027.25843019,\n",
       "       134220.0062097 , 181924.12470183, 216399.91214004, 366466.11362162,\n",
       "       133693.08498501, 206347.1037222 , 155997.13356386, 156854.30551792,\n",
       "       167578.92917833, 286128.0263968 , 234714.51890695, 150051.67275151,\n",
       "       108963.51475565, 342886.77844966, 135046.4552672 , 134187.4288886 ,\n",
       "       115256.07771267, 223414.47952577, 216275.70273905, 238191.60010047,\n",
       "       146274.42237502, 157379.300592  , 178347.14902771, 266762.15294033,\n",
       "       234390.3794122 ,  98751.28134423, 162557.51827856, 167932.03671684,\n",
       "       164898.56594797, 127000.95385495, 143351.39010354, 188439.42921869,\n",
       "        93262.57855587, 276656.7482005 ,  84758.50715127, 183670.48319633,\n",
       "       104923.18567939, 347109.94918708, 144094.20300189, 129902.42076357,\n",
       "       156487.91308   , 177532.9604405 , 182979.85017748, 174457.08817742,\n",
       "       272147.6049937 , 181849.60856201, 199258.84035119, 262734.1034577 ,\n",
       "       349555.85231605, 196679.74747441, 193336.4010969 , 228469.63764736,\n",
       "       130534.38478869,  93368.44407475, 113424.56032236])"
      ]
     },
     "execution_count": 83,
     "metadata": {},
     "output_type": "execute_result"
    }
   ],
   "source": [
    "lasso_fin.predict(X_fin_test_scaled)"
   ]
  },
  {
   "cell_type": "markdown",
   "metadata": {},
   "source": [
    "## Preparing Kaggle Submission"
   ]
  },
  {
   "cell_type": "code",
   "execution_count": 84,
   "metadata": {
    "ExecuteTime": {
     "end_time": "2020-11-22T19:29:06.627180Z",
     "start_time": "2020-11-22T19:29:06.607233Z"
    }
   },
   "outputs": [],
   "source": [
    "ames_test_fin = pd.read_csv('datasets/test.csv')"
   ]
  },
  {
   "cell_type": "code",
   "execution_count": 85,
   "metadata": {
    "ExecuteTime": {
     "end_time": "2020-11-22T19:29:06.633164Z",
     "start_time": "2020-11-22T19:29:06.629177Z"
    }
   },
   "outputs": [],
   "source": [
    "ames_test_fin['SalePrice']=lasso_fin.predict(X_fin_test_scaled)"
   ]
  },
  {
   "cell_type": "code",
   "execution_count": 86,
   "metadata": {
    "ExecuteTime": {
     "end_time": "2020-11-22T19:29:06.639148Z",
     "start_time": "2020-11-22T19:29:06.634161Z"
    }
   },
   "outputs": [],
   "source": [
    "Submission = ames_test_fin[['Id', 'SalePrice']]"
   ]
  },
  {
   "cell_type": "code",
   "execution_count": 87,
   "metadata": {
    "ExecuteTime": {
     "end_time": "2020-11-22T19:29:06.648124Z",
     "start_time": "2020-11-22T19:29:06.640146Z"
    }
   },
   "outputs": [
    {
     "data": {
      "text/html": [
       "<div>\n",
       "<style scoped>\n",
       "    .dataframe tbody tr th:only-of-type {\n",
       "        vertical-align: middle;\n",
       "    }\n",
       "\n",
       "    .dataframe tbody tr th {\n",
       "        vertical-align: top;\n",
       "    }\n",
       "\n",
       "    .dataframe thead th {\n",
       "        text-align: right;\n",
       "    }\n",
       "</style>\n",
       "<table border=\"1\" class=\"dataframe\">\n",
       "  <thead>\n",
       "    <tr style=\"text-align: right;\">\n",
       "      <th></th>\n",
       "      <th>Id</th>\n",
       "      <th>SalePrice</th>\n",
       "    </tr>\n",
       "  </thead>\n",
       "  <tbody>\n",
       "    <tr>\n",
       "      <th>0</th>\n",
       "      <td>2658</td>\n",
       "      <td>171538.978081</td>\n",
       "    </tr>\n",
       "    <tr>\n",
       "      <th>1</th>\n",
       "      <td>2718</td>\n",
       "      <td>164968.054514</td>\n",
       "    </tr>\n",
       "    <tr>\n",
       "      <th>2</th>\n",
       "      <td>2414</td>\n",
       "      <td>198907.029266</td>\n",
       "    </tr>\n",
       "    <tr>\n",
       "      <th>3</th>\n",
       "      <td>1989</td>\n",
       "      <td>104409.752819</td>\n",
       "    </tr>\n",
       "    <tr>\n",
       "      <th>4</th>\n",
       "      <td>625</td>\n",
       "      <td>184337.200941</td>\n",
       "    </tr>\n",
       "  </tbody>\n",
       "</table>\n",
       "</div>"
      ],
      "text/plain": [
       "     Id      SalePrice\n",
       "0  2658  171538.978081\n",
       "1  2718  164968.054514\n",
       "2  2414  198907.029266\n",
       "3  1989  104409.752819\n",
       "4   625  184337.200941"
      ]
     },
     "execution_count": 87,
     "metadata": {},
     "output_type": "execute_result"
    }
   ],
   "source": [
    "Submission.head()"
   ]
  },
  {
   "cell_type": "code",
   "execution_count": 88,
   "metadata": {
    "ExecuteTime": {
     "end_time": "2020-11-22T19:29:06.657100Z",
     "start_time": "2020-11-22T19:29:06.649121Z"
    }
   },
   "outputs": [],
   "source": [
    "Submission.to_csv('datasets/Submission.csv', index=False)"
   ]
  },
  {
   "cell_type": "markdown",
   "metadata": {},
   "source": [
    "## Conclusion and Recommendations"
   ]
  },
  {
   "cell_type": "markdown",
   "metadata": {},
   "source": [
    "- Which features appear to add the most value to a home?"
   ]
  },
  {
   "cell_type": "code",
   "execution_count": 90,
   "metadata": {
    "ExecuteTime": {
     "end_time": "2020-11-22T19:33:07.640487Z",
     "start_time": "2020-11-22T19:33:07.634501Z"
    }
   },
   "outputs": [],
   "source": [
    "lasso_fin_coefficients = pd.DataFrame({'Feature': [c for c in X_fin_train.columns], 'Coefficient': lasso_fin.coef_})"
   ]
  },
  {
   "cell_type": "code",
   "execution_count": 91,
   "metadata": {
    "ExecuteTime": {
     "end_time": "2020-11-22T19:33:08.050178Z",
     "start_time": "2020-11-22T19:33:08.040208Z"
    }
   },
   "outputs": [
    {
     "data": {
      "text/html": [
       "<div>\n",
       "<style scoped>\n",
       "    .dataframe tbody tr th:only-of-type {\n",
       "        vertical-align: middle;\n",
       "    }\n",
       "\n",
       "    .dataframe tbody tr th {\n",
       "        vertical-align: top;\n",
       "    }\n",
       "\n",
       "    .dataframe thead th {\n",
       "        text-align: right;\n",
       "    }\n",
       "</style>\n",
       "<table border=\"1\" class=\"dataframe\">\n",
       "  <thead>\n",
       "    <tr style=\"text-align: right;\">\n",
       "      <th></th>\n",
       "      <th>Feature</th>\n",
       "      <th>Coefficient</th>\n",
       "    </tr>\n",
       "  </thead>\n",
       "  <tbody>\n",
       "    <tr>\n",
       "      <th>1</th>\n",
       "      <td>Overall Qual</td>\n",
       "      <td>21716.137318</td>\n",
       "    </tr>\n",
       "    <tr>\n",
       "      <th>0</th>\n",
       "      <td>Gr Liv Area</td>\n",
       "      <td>20050.674041</td>\n",
       "    </tr>\n",
       "    <tr>\n",
       "      <th>2</th>\n",
       "      <td>Total Bsmt SF</td>\n",
       "      <td>10228.896571</td>\n",
       "    </tr>\n",
       "    <tr>\n",
       "      <th>6</th>\n",
       "      <td>BsmtFin SF 1</td>\n",
       "      <td>9482.413006</td>\n",
       "    </tr>\n",
       "    <tr>\n",
       "      <th>3</th>\n",
       "      <td>Neighborhood_NridgHt</td>\n",
       "      <td>8822.085283</td>\n",
       "    </tr>\n",
       "    <tr>\n",
       "      <th>9</th>\n",
       "      <td>Garage Area</td>\n",
       "      <td>8630.896521</td>\n",
       "    </tr>\n",
       "    <tr>\n",
       "      <th>4</th>\n",
       "      <td>Neighborhood_StoneBr</td>\n",
       "      <td>7436.625072</td>\n",
       "    </tr>\n",
       "    <tr>\n",
       "      <th>17</th>\n",
       "      <td>Heating QC</td>\n",
       "      <td>6869.135978</td>\n",
       "    </tr>\n",
       "    <tr>\n",
       "      <th>5</th>\n",
       "      <td>Bsmt Exposure</td>\n",
       "      <td>6582.291254</td>\n",
       "    </tr>\n",
       "    <tr>\n",
       "      <th>10</th>\n",
       "      <td>Lot Area</td>\n",
       "      <td>5549.645991</td>\n",
       "    </tr>\n",
       "    <tr>\n",
       "      <th>11</th>\n",
       "      <td>Neighborhood_NoRidge</td>\n",
       "      <td>4156.513102</td>\n",
       "    </tr>\n",
       "    <tr>\n",
       "      <th>27</th>\n",
       "      <td>Half Bath</td>\n",
       "      <td>3789.179424</td>\n",
       "    </tr>\n",
       "    <tr>\n",
       "      <th>19</th>\n",
       "      <td>Foundation_Slab</td>\n",
       "      <td>3673.061244</td>\n",
       "    </tr>\n",
       "    <tr>\n",
       "      <th>25</th>\n",
       "      <td>MS Zoning_FV</td>\n",
       "      <td>3638.412590</td>\n",
       "    </tr>\n",
       "    <tr>\n",
       "      <th>8</th>\n",
       "      <td>Overall Cond</td>\n",
       "      <td>3606.183574</td>\n",
       "    </tr>\n",
       "    <tr>\n",
       "      <th>7</th>\n",
       "      <td>Mas Vnr Area</td>\n",
       "      <td>3512.783285</td>\n",
       "    </tr>\n",
       "    <tr>\n",
       "      <th>23</th>\n",
       "      <td>Lot Frontage</td>\n",
       "      <td>3430.695725</td>\n",
       "    </tr>\n",
       "    <tr>\n",
       "      <th>13</th>\n",
       "      <td>Neighborhood_GrnHill</td>\n",
       "      <td>3359.663893</td>\n",
       "    </tr>\n",
       "    <tr>\n",
       "      <th>18</th>\n",
       "      <td>Fireplace Qu</td>\n",
       "      <td>2817.116796</td>\n",
       "    </tr>\n",
       "    <tr>\n",
       "      <th>26</th>\n",
       "      <td>Mas Vnr Type_Stone</td>\n",
       "      <td>2663.256736</td>\n",
       "    </tr>\n",
       "    <tr>\n",
       "      <th>12</th>\n",
       "      <td>Neighborhood_Crawfor</td>\n",
       "      <td>2650.676570</td>\n",
       "    </tr>\n",
       "    <tr>\n",
       "      <th>14</th>\n",
       "      <td>Exterior 1st_CemntBd</td>\n",
       "      <td>2567.918887</td>\n",
       "    </tr>\n",
       "    <tr>\n",
       "      <th>16</th>\n",
       "      <td>Exterior 1st_BrkFace</td>\n",
       "      <td>2546.855864</td>\n",
       "    </tr>\n",
       "    <tr>\n",
       "      <th>15</th>\n",
       "      <td>Roof Style_Hip</td>\n",
       "      <td>2309.938649</td>\n",
       "    </tr>\n",
       "    <tr>\n",
       "      <th>29</th>\n",
       "      <td>Open Porch SF</td>\n",
       "      <td>1641.077606</td>\n",
       "    </tr>\n",
       "    <tr>\n",
       "      <th>21</th>\n",
       "      <td>Garage Type_NA</td>\n",
       "      <td>1610.156870</td>\n",
       "    </tr>\n",
       "    <tr>\n",
       "      <th>22</th>\n",
       "      <td>MS SubClass_30</td>\n",
       "      <td>994.408467</td>\n",
       "    </tr>\n",
       "    <tr>\n",
       "      <th>28</th>\n",
       "      <td>Neighborhood_BrkSide</td>\n",
       "      <td>930.064917</td>\n",
       "    </tr>\n",
       "    <tr>\n",
       "      <th>24</th>\n",
       "      <td>Neighborhood_Blmngtn</td>\n",
       "      <td>761.972068</td>\n",
       "    </tr>\n",
       "    <tr>\n",
       "      <th>20</th>\n",
       "      <td>Neighborhood_NPkVill</td>\n",
       "      <td>523.906874</td>\n",
       "    </tr>\n",
       "  </tbody>\n",
       "</table>\n",
       "</div>"
      ],
      "text/plain": [
       "                 Feature   Coefficient\n",
       "1           Overall Qual  21716.137318\n",
       "0            Gr Liv Area  20050.674041\n",
       "2          Total Bsmt SF  10228.896571\n",
       "6           BsmtFin SF 1   9482.413006\n",
       "3   Neighborhood_NridgHt   8822.085283\n",
       "9            Garage Area   8630.896521\n",
       "4   Neighborhood_StoneBr   7436.625072\n",
       "17            Heating QC   6869.135978\n",
       "5          Bsmt Exposure   6582.291254\n",
       "10              Lot Area   5549.645991\n",
       "11  Neighborhood_NoRidge   4156.513102\n",
       "27             Half Bath   3789.179424\n",
       "19       Foundation_Slab   3673.061244\n",
       "25          MS Zoning_FV   3638.412590\n",
       "8           Overall Cond   3606.183574\n",
       "7           Mas Vnr Area   3512.783285\n",
       "23          Lot Frontage   3430.695725\n",
       "13  Neighborhood_GrnHill   3359.663893\n",
       "18          Fireplace Qu   2817.116796\n",
       "26    Mas Vnr Type_Stone   2663.256736\n",
       "12  Neighborhood_Crawfor   2650.676570\n",
       "14  Exterior 1st_CemntBd   2567.918887\n",
       "16  Exterior 1st_BrkFace   2546.855864\n",
       "15        Roof Style_Hip   2309.938649\n",
       "29         Open Porch SF   1641.077606\n",
       "21        Garage Type_NA   1610.156870\n",
       "22        MS SubClass_30    994.408467\n",
       "28  Neighborhood_BrkSide    930.064917\n",
       "24  Neighborhood_Blmngtn    761.972068\n",
       "20  Neighborhood_NPkVill    523.906874"
      ]
     },
     "execution_count": 91,
     "metadata": {},
     "output_type": "execute_result"
    }
   ],
   "source": [
    "top_30_lasso_fin = lasso_fin_coefficients.sort_values(by=['Coefficient'], ascending=False).head(30)\n",
    "top_30_lasso_fin"
   ]
  },
  {
   "cell_type": "markdown",
   "metadata": {},
   "source": [
    "- Which features hurt the value of a home the most?"
   ]
  },
  {
   "cell_type": "markdown",
   "metadata": {},
   "source": [
    "The coefficients for the final 30 features selected were all positive. Nonetheless, referring to the lasso2 model created earlier, it is observed that some features had negative coefficients when influencing the price of the house, such as, the age of the house, belonging to MS SubClass 120 or 160 which are 1 or 2 -STORY PUD (Planned Unit Developments) that are 1946 & NEWER etc."
   ]
  },
  {
   "cell_type": "markdown",
   "metadata": {},
   "source": [
    "- What are things that homeowners could improve in their homes to increase the value?"
   ]
  },
  {
   "cell_type": "markdown",
   "metadata": {},
   "source": [
    "The top coefficient is the Overall Quality of the house which is rated by the overall material and finish. \n",
    "\n",
    "The second would be the Above grade (ground) living area square feet.\n",
    "\n",
    "It would be difficult to change the material of the house entirely but appropriate renovation/maintenance would help to maintain the condition of the material and finish thus boosting the value of their homes.\n",
    "\n",
    "Home-owners could also undertake expansion/modification projects to increase the size of their living areas to increase their house value. Even keeping the house neat and clutter free would serve to make the livable areas appear more spacious."
   ]
  },
  {
   "cell_type": "markdown",
   "metadata": {
    "ExecuteTime": {
     "end_time": "2020-11-22T19:24:23.284539Z",
     "start_time": "2020-11-22T19:24:23.274377Z"
    }
   },
   "source": [
    "- What neighborhoods seem like they might be a good investment?"
   ]
  },
  {
   "cell_type": "markdown",
   "metadata": {},
   "source": [
    "A few of the top 30 coefficients were some of the neighborhoods, with the top 3 being Northridge Heights, Stone Brook and Northridge."
   ]
  },
  {
   "cell_type": "markdown",
   "metadata": {},
   "source": [
    "- Do you feel that this model will generalize to other cities? \n",
    "- How could you revise your model to make it more universal OR what data would you need from another city to make a comparable model?"
   ]
  },
  {
   "cell_type": "markdown",
   "metadata": {},
   "source": [
    "Whether this generalizes to other cities depends on the city/country in question. Different cities vary in terms of population, economic function and infrastructure to name a few examples. Depending on these, the population density, number of houses, type of houses will all vary accordingly.\n",
    "\n",
    "This dataset would be almost useless if we were to use it for a city like Singapore since the majority of population live in HDB flats with no garages, basements, etc.\n",
    "\n",
    "Nonetheless, features such as size, quality, condition and the neighborhood the house is located in can be applied to any house world-wide. To make a comparable model, we can start with these features and their corresponding price/valuations before going on further to identify the other additional factors."
   ]
  }
 ],
 "metadata": {
  "kernelspec": {
   "display_name": "Python 3",
   "language": "python",
   "name": "python3"
  },
  "language_info": {
   "codemirror_mode": {
    "name": "ipython",
    "version": 3
   },
   "file_extension": ".py",
   "mimetype": "text/x-python",
   "name": "python",
   "nbconvert_exporter": "python",
   "pygments_lexer": "ipython3",
   "version": "3.8.3"
  },
  "toc": {
   "base_numbering": 1,
   "nav_menu": {},
   "number_sections": true,
   "sideBar": true,
   "skip_h1_title": false,
   "title_cell": "Table of Contents",
   "title_sidebar": "Contents",
   "toc_cell": false,
   "toc_position": {},
   "toc_section_display": true,
   "toc_window_display": false
  }
 },
 "nbformat": 4,
 "nbformat_minor": 4
}
