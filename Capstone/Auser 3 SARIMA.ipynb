{
 "cells": [
  {
   "cell_type": "markdown",
   "metadata": {},
   "source": [
    "# Predicting Water Levels for the Auser Aquifer"
   ]
  },
  {
   "cell_type": "markdown",
   "metadata": {},
   "source": [
    "## Importing libraries and dataset"
   ]
  },
  {
   "cell_type": "code",
   "execution_count": 1,
   "metadata": {
    "ExecuteTime": {
     "end_time": "2021-01-27T10:56:32.443488Z",
     "start_time": "2021-01-27T10:56:31.017295Z"
    }
   },
   "outputs": [],
   "source": [
    "import pandas as pd \n",
    "from datetime import datetime\n",
    "import numpy as np \n",
    "import matplotlib.pyplot as plt\n",
    "import seaborn as sns\n",
    "from sklearn.model_selection import train_test_split\n",
    "from statsmodels.tsa.statespace.sarimax import SARIMAX\n",
    "from statsmodels.tsa.stattools import adfuller\n",
    "from statsmodels.graphics.tsaplots import plot_acf, plot_pacf\n",
    "from sklearn.metrics import mean_squared_error"
   ]
  },
  {
   "cell_type": "code",
   "execution_count": 2,
   "metadata": {
    "ExecuteTime": {
     "end_time": "2021-01-27T10:56:32.474987Z",
     "start_time": "2021-01-27T10:56:32.443488Z"
    }
   },
   "outputs": [],
   "source": [
    "aus = pd.read_csv('Aquifer_Auser.csv')"
   ]
  },
  {
   "cell_type": "markdown",
   "metadata": {},
   "source": [
    "## Performing the same initial transformations as the first notebook"
   ]
  },
  {
   "cell_type": "code",
   "execution_count": 3,
   "metadata": {
    "ExecuteTime": {
     "end_time": "2021-01-27T10:56:32.495987Z",
     "start_time": "2021-01-27T10:56:32.475985Z"
    }
   },
   "outputs": [],
   "source": [
    "aus['Date'] = pd.to_datetime(aus['Date'], format='%d/%m/%Y')"
   ]
  },
  {
   "cell_type": "code",
   "execution_count": 4,
   "metadata": {
    "ExecuteTime": {
     "end_time": "2021-01-27T10:56:32.500977Z",
     "start_time": "2021-01-27T10:56:32.497983Z"
    }
   },
   "outputs": [],
   "source": [
    "abs_cols = ['Depth_to_Groundwater_LT2', 'Depth_to_Groundwater_SAL', 'Depth_to_Groundwater_PAG', 'Depth_to_Groundwater_CoS', 'Depth_to_Groundwater_DIEC',\n",
    "           'Volume_POL', 'Volume_CC1', 'Volume_CC2', 'Volume_CSA', 'Volume_CSAL']\n",
    "# absolute values can be taken from the above columns as clarified by competition host in a discussion thread on kaggle"
   ]
  },
  {
   "cell_type": "code",
   "execution_count": 5,
   "metadata": {
    "ExecuteTime": {
     "end_time": "2021-01-27T10:56:32.507958Z",
     "start_time": "2021-01-27T10:56:32.501974Z"
    }
   },
   "outputs": [],
   "source": [
    "for col in abs_cols:\n",
    "    aus[col] = abs(aus[col])"
   ]
  },
  {
   "cell_type": "markdown",
   "metadata": {},
   "source": [
    "## SARIMA model for Depths of SAL"
   ]
  },
  {
   "cell_type": "code",
   "execution_count": 6,
   "metadata": {
    "ExecuteTime": {
     "end_time": "2021-01-27T10:56:32.512944Z",
     "start_time": "2021-01-27T10:56:32.508955Z"
    }
   },
   "outputs": [],
   "source": [
    "aus_sal = aus[['Date', 'Depth_to_Groundwater_SAL']]"
   ]
  },
  {
   "cell_type": "markdown",
   "metadata": {},
   "source": [
    "#### Data Cleaning"
   ]
  },
  {
   "cell_type": "code",
   "execution_count": 7,
   "metadata": {
    "ExecuteTime": {
     "end_time": "2021-01-27T10:56:32.523915Z",
     "start_time": "2021-01-27T10:56:32.513943Z"
    }
   },
   "outputs": [
    {
     "data": {
      "text/html": [
       "<div>\n",
       "<style scoped>\n",
       "    .dataframe tbody tr th:only-of-type {\n",
       "        vertical-align: middle;\n",
       "    }\n",
       "\n",
       "    .dataframe tbody tr th {\n",
       "        vertical-align: top;\n",
       "    }\n",
       "\n",
       "    .dataframe thead th {\n",
       "        text-align: right;\n",
       "    }\n",
       "</style>\n",
       "<table border=\"1\" class=\"dataframe\">\n",
       "  <thead>\n",
       "    <tr style=\"text-align: right;\">\n",
       "      <th></th>\n",
       "      <th>Date</th>\n",
       "      <th>Depth_to_Groundwater_SAL</th>\n",
       "    </tr>\n",
       "  </thead>\n",
       "  <tbody>\n",
       "    <tr>\n",
       "      <th>3319</th>\n",
       "      <td>2007-04-06</td>\n",
       "      <td>6.69</td>\n",
       "    </tr>\n",
       "    <tr>\n",
       "      <th>3320</th>\n",
       "      <td>2007-04-07</td>\n",
       "      <td>6.71</td>\n",
       "    </tr>\n",
       "    <tr>\n",
       "      <th>3321</th>\n",
       "      <td>2007-04-08</td>\n",
       "      <td>6.67</td>\n",
       "    </tr>\n",
       "    <tr>\n",
       "      <th>3322</th>\n",
       "      <td>2007-04-09</td>\n",
       "      <td>6.62</td>\n",
       "    </tr>\n",
       "    <tr>\n",
       "      <th>3323</th>\n",
       "      <td>2007-04-10</td>\n",
       "      <td>6.64</td>\n",
       "    </tr>\n",
       "  </tbody>\n",
       "</table>\n",
       "</div>"
      ],
      "text/plain": [
       "           Date  Depth_to_Groundwater_SAL\n",
       "3319 2007-04-06                      6.69\n",
       "3320 2007-04-07                      6.71\n",
       "3321 2007-04-08                      6.67\n",
       "3322 2007-04-09                      6.62\n",
       "3323 2007-04-10                      6.64"
      ]
     },
     "execution_count": 7,
     "metadata": {},
     "output_type": "execute_result"
    }
   ],
   "source": [
    "aus_sal.loc[aus_sal['Depth_to_Groundwater_SAL'].notnull()].head()"
   ]
  },
  {
   "cell_type": "code",
   "execution_count": 8,
   "metadata": {
    "ExecuteTime": {
     "end_time": "2021-01-27T10:56:32.528902Z",
     "start_time": "2021-01-27T10:56:32.524912Z"
    }
   },
   "outputs": [],
   "source": [
    "aus_sal = aus_sal[3319:]\n",
    "# Starting the dataset from the first non-null value"
   ]
  },
  {
   "cell_type": "code",
   "execution_count": 9,
   "metadata": {
    "ExecuteTime": {
     "end_time": "2021-01-27T10:56:32.533889Z",
     "start_time": "2021-01-27T10:56:32.529900Z"
    }
   },
   "outputs": [],
   "source": [
    "aus_sal['Depth_to_Groundwater_SAL'] = aus_sal['Depth_to_Groundwater_SAL'].replace(0, np.nan)\n",
    "# 0 values are taken to be instrument failures and replaced with null"
   ]
  },
  {
   "cell_type": "code",
   "execution_count": 10,
   "metadata": {
    "ExecuteTime": {
     "end_time": "2021-01-27T10:56:32.539872Z",
     "start_time": "2021-01-27T10:56:32.534887Z"
    }
   },
   "outputs": [],
   "source": [
    "aus_sal['Depth_to_Groundwater_SAL'] = aus_sal['Depth_to_Groundwater_SAL'].interpolate()\n",
    "# null values are filled using interpolation"
   ]
  },
  {
   "cell_type": "code",
   "execution_count": 11,
   "metadata": {
    "ExecuteTime": {
     "end_time": "2021-01-27T10:56:32.546853Z",
     "start_time": "2021-01-27T10:56:32.540870Z"
    }
   },
   "outputs": [
    {
     "data": {
      "text/plain": [
       "Date                        0\n",
       "Depth_to_Groundwater_SAL    0\n",
       "dtype: int64"
      ]
     },
     "execution_count": 11,
     "metadata": {},
     "output_type": "execute_result"
    }
   ],
   "source": [
    "aus_sal.isnull().sum()"
   ]
  },
  {
   "cell_type": "code",
   "execution_count": 12,
   "metadata": {
    "ExecuteTime": {
     "end_time": "2021-01-27T10:56:32.550844Z",
     "start_time": "2021-01-27T10:56:32.547852Z"
    }
   },
   "outputs": [],
   "source": [
    "aus_sal.set_index('Date', inplace=True)"
   ]
  },
  {
   "cell_type": "code",
   "execution_count": 13,
   "metadata": {
    "ExecuteTime": {
     "end_time": "2021-01-27T10:56:32.566801Z",
     "start_time": "2021-01-27T10:56:32.551842Z"
    }
   },
   "outputs": [],
   "source": [
    "aus_sal = aus_sal.resample('W').mean()\n",
    "# aggregating data into a weekly mean"
   ]
  },
  {
   "cell_type": "code",
   "execution_count": 14,
   "metadata": {
    "ExecuteTime": {
     "end_time": "2021-01-27T10:56:32.574778Z",
     "start_time": "2021-01-27T10:56:32.567800Z"
    }
   },
   "outputs": [
    {
     "data": {
      "text/html": [
       "<div>\n",
       "<style scoped>\n",
       "    .dataframe tbody tr th:only-of-type {\n",
       "        vertical-align: middle;\n",
       "    }\n",
       "\n",
       "    .dataframe tbody tr th {\n",
       "        vertical-align: top;\n",
       "    }\n",
       "\n",
       "    .dataframe thead th {\n",
       "        text-align: right;\n",
       "    }\n",
       "</style>\n",
       "<table border=\"1\" class=\"dataframe\">\n",
       "  <thead>\n",
       "    <tr style=\"text-align: right;\">\n",
       "      <th></th>\n",
       "      <th>Depth_to_Groundwater_SAL</th>\n",
       "    </tr>\n",
       "    <tr>\n",
       "      <th>Date</th>\n",
       "      <th></th>\n",
       "    </tr>\n",
       "  </thead>\n",
       "  <tbody>\n",
       "    <tr>\n",
       "      <th>2007-04-08</th>\n",
       "      <td>6.690000</td>\n",
       "    </tr>\n",
       "    <tr>\n",
       "      <th>2007-04-15</th>\n",
       "      <td>6.737143</td>\n",
       "    </tr>\n",
       "    <tr>\n",
       "      <th>2007-04-22</th>\n",
       "      <td>6.854286</td>\n",
       "    </tr>\n",
       "    <tr>\n",
       "      <th>2007-04-29</th>\n",
       "      <td>6.957143</td>\n",
       "    </tr>\n",
       "    <tr>\n",
       "      <th>2007-05-06</th>\n",
       "      <td>6.907143</td>\n",
       "    </tr>\n",
       "  </tbody>\n",
       "</table>\n",
       "</div>"
      ],
      "text/plain": [
       "            Depth_to_Groundwater_SAL\n",
       "Date                                \n",
       "2007-04-08                  6.690000\n",
       "2007-04-15                  6.737143\n",
       "2007-04-22                  6.854286\n",
       "2007-04-29                  6.957143\n",
       "2007-05-06                  6.907143"
      ]
     },
     "execution_count": 14,
     "metadata": {},
     "output_type": "execute_result"
    }
   ],
   "source": [
    "aus_sal.head()"
   ]
  },
  {
   "cell_type": "markdown",
   "metadata": {},
   "source": [
    "#### Train Test Split"
   ]
  },
  {
   "cell_type": "code",
   "execution_count": 15,
   "metadata": {
    "ExecuteTime": {
     "end_time": "2021-01-27T10:56:32.579765Z",
     "start_time": "2021-01-27T10:56:32.575777Z"
    }
   },
   "outputs": [
    {
     "data": {
      "text/plain": [
       "692"
      ]
     },
     "execution_count": 15,
     "metadata": {},
     "output_type": "execute_result"
    }
   ],
   "source": [
    "len(aus_sal)"
   ]
  },
  {
   "cell_type": "code",
   "execution_count": 16,
   "metadata": {
    "ExecuteTime": {
     "end_time": "2021-01-27T10:56:32.584752Z",
     "start_time": "2021-01-27T10:56:32.580762Z"
    }
   },
   "outputs": [
    {
     "data": {
      "text/plain": [
       "553.6"
      ]
     },
     "execution_count": 16,
     "metadata": {},
     "output_type": "execute_result"
    }
   ],
   "source": [
    "len(aus_sal)*0.8"
   ]
  },
  {
   "cell_type": "code",
   "execution_count": 17,
   "metadata": {
    "ExecuteTime": {
     "end_time": "2021-01-27T10:56:32.592731Z",
     "start_time": "2021-01-27T10:56:32.585749Z"
    }
   },
   "outputs": [
    {
     "data": {
      "text/html": [
       "<div>\n",
       "<style scoped>\n",
       "    .dataframe tbody tr th:only-of-type {\n",
       "        vertical-align: middle;\n",
       "    }\n",
       "\n",
       "    .dataframe tbody tr th {\n",
       "        vertical-align: top;\n",
       "    }\n",
       "\n",
       "    .dataframe thead th {\n",
       "        text-align: right;\n",
       "    }\n",
       "</style>\n",
       "<table border=\"1\" class=\"dataframe\">\n",
       "  <thead>\n",
       "    <tr style=\"text-align: right;\">\n",
       "      <th></th>\n",
       "      <th>Depth_to_Groundwater_SAL</th>\n",
       "    </tr>\n",
       "    <tr>\n",
       "      <th>Date</th>\n",
       "      <th></th>\n",
       "    </tr>\n",
       "  </thead>\n",
       "  <tbody>\n",
       "    <tr>\n",
       "      <th>2017-10-08</th>\n",
       "      <td>5.902857</td>\n",
       "    </tr>\n",
       "    <tr>\n",
       "      <th>2017-10-15</th>\n",
       "      <td>5.940000</td>\n",
       "    </tr>\n",
       "    <tr>\n",
       "      <th>2017-10-22</th>\n",
       "      <td>5.988571</td>\n",
       "    </tr>\n",
       "    <tr>\n",
       "      <th>2017-10-29</th>\n",
       "      <td>6.010000</td>\n",
       "    </tr>\n",
       "    <tr>\n",
       "      <th>2017-11-05</th>\n",
       "      <td>6.072857</td>\n",
       "    </tr>\n",
       "  </tbody>\n",
       "</table>\n",
       "</div>"
      ],
      "text/plain": [
       "            Depth_to_Groundwater_SAL\n",
       "Date                                \n",
       "2017-10-08                  5.902857\n",
       "2017-10-15                  5.940000\n",
       "2017-10-22                  5.988571\n",
       "2017-10-29                  6.010000\n",
       "2017-11-05                  6.072857"
      ]
     },
     "execution_count": 17,
     "metadata": {},
     "output_type": "execute_result"
    }
   ],
   "source": [
    "aus_sal_train = aus_sal[:553]\n",
    "aus_sal_train.tail()\n",
    "# Setting the initial 80% of the data as the train set"
   ]
  },
  {
   "cell_type": "code",
   "execution_count": 18,
   "metadata": {
    "ExecuteTime": {
     "end_time": "2021-01-27T10:56:32.599713Z",
     "start_time": "2021-01-27T10:56:32.593728Z"
    }
   },
   "outputs": [
    {
     "data": {
      "text/html": [
       "<div>\n",
       "<style scoped>\n",
       "    .dataframe tbody tr th:only-of-type {\n",
       "        vertical-align: middle;\n",
       "    }\n",
       "\n",
       "    .dataframe tbody tr th {\n",
       "        vertical-align: top;\n",
       "    }\n",
       "\n",
       "    .dataframe thead th {\n",
       "        text-align: right;\n",
       "    }\n",
       "</style>\n",
       "<table border=\"1\" class=\"dataframe\">\n",
       "  <thead>\n",
       "    <tr style=\"text-align: right;\">\n",
       "      <th></th>\n",
       "      <th>Depth_to_Groundwater_SAL</th>\n",
       "    </tr>\n",
       "    <tr>\n",
       "      <th>Date</th>\n",
       "      <th></th>\n",
       "    </tr>\n",
       "  </thead>\n",
       "  <tbody>\n",
       "    <tr>\n",
       "      <th>2017-11-12</th>\n",
       "      <td>5.992857</td>\n",
       "    </tr>\n",
       "    <tr>\n",
       "      <th>2017-11-19</th>\n",
       "      <td>5.967143</td>\n",
       "    </tr>\n",
       "    <tr>\n",
       "      <th>2017-11-26</th>\n",
       "      <td>6.028571</td>\n",
       "    </tr>\n",
       "    <tr>\n",
       "      <th>2017-12-03</th>\n",
       "      <td>5.978571</td>\n",
       "    </tr>\n",
       "    <tr>\n",
       "      <th>2017-12-10</th>\n",
       "      <td>5.935714</td>\n",
       "    </tr>\n",
       "  </tbody>\n",
       "</table>\n",
       "</div>"
      ],
      "text/plain": [
       "            Depth_to_Groundwater_SAL\n",
       "Date                                \n",
       "2017-11-12                  5.992857\n",
       "2017-11-19                  5.967143\n",
       "2017-11-26                  6.028571\n",
       "2017-12-03                  5.978571\n",
       "2017-12-10                  5.935714"
      ]
     },
     "execution_count": 18,
     "metadata": {},
     "output_type": "execute_result"
    }
   ],
   "source": [
    "aus_sal_test = aus_sal[553:]\n",
    "aus_sal_test.head()\n",
    "# Setting the remaining data as the test set"
   ]
  },
  {
   "cell_type": "code",
   "execution_count": 19,
   "metadata": {
    "ExecuteTime": {
     "end_time": "2021-01-27T10:56:32.604698Z",
     "start_time": "2021-01-27T10:56:32.600712Z"
    }
   },
   "outputs": [],
   "source": [
    "aus_sal_train.index = pd.DatetimeIndex(aus_sal_train.index).to_period('W')\n",
    "aus_sal_test.index = pd.DatetimeIndex(aus_sal_test.index).to_period('W')\n",
    "# specifying frequency of the date index (required for SARIMA model)"
   ]
  },
  {
   "cell_type": "markdown",
   "metadata": {},
   "source": [
    "#### Augmented Dickey-Fuller test to check for Stationarity"
   ]
  },
  {
   "cell_type": "code",
   "execution_count": 20,
   "metadata": {
    "ExecuteTime": {
     "end_time": "2021-01-27T10:56:32.608694Z",
     "start_time": "2021-01-27T10:56:32.605696Z"
    }
   },
   "outputs": [],
   "source": [
    "def interpret_df(df):\n",
    "    dfoutput = pd.Series(df[0:2], index=['Test Statistic','p-value'])\n",
    "    return dfoutput"
   ]
  },
  {
   "cell_type": "code",
   "execution_count": 21,
   "metadata": {
    "ExecuteTime": {
     "end_time": "2021-01-27T10:56:32.626640Z",
     "start_time": "2021-01-27T10:56:32.609685Z"
    }
   },
   "outputs": [
    {
     "data": {
      "text/plain": [
       "Test Statistic   -4.089970\n",
       "p-value           0.001006\n",
       "dtype: float64"
      ]
     },
     "execution_count": 21,
     "metadata": {},
     "output_type": "execute_result"
    }
   ],
   "source": [
    "interpret_df(adfuller(aus_sal_train['Depth_to_Groundwater_SAL']))"
   ]
  },
  {
   "cell_type": "markdown",
   "metadata": {},
   "source": [
    "With a p-value of 0.001006, the stationarity condition is fulfilled."
   ]
  },
  {
   "cell_type": "markdown",
   "metadata": {},
   "source": [
    "#### Checking for AR and MA lags"
   ]
  },
  {
   "cell_type": "code",
   "execution_count": 22,
   "metadata": {
    "ExecuteTime": {
     "end_time": "2021-01-27T10:56:32.936287Z",
     "start_time": "2021-01-27T10:56:32.627637Z"
    }
   },
   "outputs": [
    {
     "data": {
      "image/png": "[encoded data removed]",
      "text/plain": [
       "<Figure size 1440x720 with 1 Axes>"
      ]
     },
     "metadata": {
      "needs_background": "light"
     },
     "output_type": "display_data"
    }
   ],
   "source": [
    "fig, ax = plt.subplots(figsize=(20, 10))\n",
    "plot_pacf(aus_sal_train['Depth_to_Groundwater_SAL'], lags=120, ax=ax)\n",
    "plt.show()"
   ]
  },
  {
   "cell_type": "code",
   "execution_count": 23,
   "metadata": {
    "ExecuteTime": {
     "end_time": "2021-01-27T10:56:33.080900Z",
     "start_time": "2021-01-27T10:56:32.938282Z"
    }
   },
   "outputs": [
    {
     "data": {
      "image/png": "[encoded data removed]",
      "text/plain": [
       "<Figure size 1440x720 with 1 Axes>"
      ]
     },
     "metadata": {
      "needs_background": "light"
     },
     "output_type": "display_data"
    }
   ],
   "source": [
    "fig, ax = plt.subplots(figsize=(20, 10))\n",
    "plot_acf(aus_sal_train['Depth_to_Groundwater_SAL'], lags=120, ax=ax)\n",
    "plt.show()"
   ]
  },
  {
   "cell_type": "markdown",
   "metadata": {},
   "source": [
    "The PACF curve shows a sharp cut-off at the 2nd lag while the ACF curve shows a gradual decay. \n",
    "\n",
    "Since Stationarity has been fulfilled as shown earlier, the (p, d, q) will be set as (2, 0, 0)\n",
    "\n",
    "The length of season will be set to a year, or in this case, 52 weeks. This trend can roughly be seen from the ACF plot as well."
   ]
  },
  {
   "cell_type": "markdown",
   "metadata": {},
   "source": [
    "#### Gridsearching seasonal_order parameters for SARIMA model"
   ]
  },
  {
   "cell_type": "code",
   "execution_count": 24,
   "metadata": {
    "ExecuteTime": {
     "end_time": "2021-01-27T11:22:21.883922Z",
     "start_time": "2021-01-27T10:56:33.081898Z"
    }
   },
   "outputs": [
    {
     "name": "stdout",
     "output_type": "stream",
     "text": [
      "The MSE for (2, 0, 0)x(0,0,0,52) is: 0.10634743966609117\n",
      "The MSE for (2, 0, 0)x(0,1,0,52) is: 4.161877706680601\n",
      "The MSE for (2, 0, 0)x(0,2,0,52) is: 5.898068112157095\n",
      "The MSE for (2, 0, 0)x(0,0,1,52) is: 0.10629463152204574\n",
      "The MSE for (2, 0, 0)x(0,1,1,52) is: 4.147059226476444\n",
      "The MSE for (2, 0, 0)x(0,2,1,52) is: 5.838463352682519\n"
     ]
    },
    {
     "name": "stderr",
     "output_type": "stream",
     "text": [
      "C:\\Users\\jonat\\anaconda3\\lib\\site-packages\\statsmodels\\tsa\\statespace\\sarimax.py:1006: UserWarning: Non-invertible starting seasonal moving average Using zeros as starting parameters.\n",
      "  warn('Non-invertible starting seasonal moving average'\n"
     ]
    },
    {
     "name": "stdout",
     "output_type": "stream",
     "text": [
      "The MSE for (2, 0, 0)x(0,0,2,52) is: 0.10609057792666837\n",
      "The MSE for (2, 0, 0)x(0,1,2,52) is: 4.147030403877382\n"
     ]
    },
    {
     "name": "stderr",
     "output_type": "stream",
     "text": [
      "C:\\Users\\jonat\\anaconda3\\lib\\site-packages\\statsmodels\\tsa\\statespace\\sarimax.py:1006: UserWarning: Non-invertible starting seasonal moving average Using zeros as starting parameters.\n",
      "  warn('Non-invertible starting seasonal moving average'\n"
     ]
    },
    {
     "name": "stdout",
     "output_type": "stream",
     "text": [
      "The MSE for (2, 0, 0)x(0,2,2,52) is: 5.830982359284344\n",
      "The MSE for (2, 0, 0)x(1,0,0,52) is: 0.10628533911594472\n",
      "The MSE for (2, 0, 0)x(1,1,0,52) is: 4.150952506677218\n",
      "The MSE for (2, 0, 0)x(1,2,0,52) is: 5.847526499278063\n",
      "The MSE for (2, 0, 0)x(1,0,1,52) is: 0.10629038904679959\n",
      "The MSE for (2, 0, 0)x(1,1,1,52) is: 4.147020119451283\n"
     ]
    },
    {
     "name": "stderr",
     "output_type": "stream",
     "text": [
      "C:\\Users\\jonat\\anaconda3\\lib\\site-packages\\statsmodels\\base\\model.py:567: ConvergenceWarning: Maximum Likelihood optimization failed to converge. Check mle_retvals\n",
      "  warn(\"Maximum Likelihood optimization failed to converge. \"\n"
     ]
    },
    {
     "name": "stdout",
     "output_type": "stream",
     "text": [
      "The MSE for (2, 0, 0)x(1,2,1,52) is: 5.831580010641998\n",
      "The MSE for (2, 0, 0)x(1,0,2,52) is: 0.10626876960687906\n"
     ]
    },
    {
     "name": "stderr",
     "output_type": "stream",
     "text": [
      "C:\\Users\\jonat\\anaconda3\\lib\\site-packages\\statsmodels\\base\\model.py:567: ConvergenceWarning: Maximum Likelihood optimization failed to converge. Check mle_retvals\n",
      "  warn(\"Maximum Likelihood optimization failed to converge. \"\n"
     ]
    },
    {
     "name": "stdout",
     "output_type": "stream",
     "text": [
      "The MSE for (2, 0, 0)x(1,1,2,52) is: 4.147001296487007\n"
     ]
    },
    {
     "name": "stderr",
     "output_type": "stream",
     "text": [
      "C:\\Users\\jonat\\anaconda3\\lib\\site-packages\\statsmodels\\base\\model.py:567: ConvergenceWarning: Maximum Likelihood optimization failed to converge. Check mle_retvals\n",
      "  warn(\"Maximum Likelihood optimization failed to converge. \"\n"
     ]
    },
    {
     "name": "stdout",
     "output_type": "stream",
     "text": [
      "The MSE for (2, 0, 0)x(1,2,2,52) is: 5.8309650464036675\n",
      "The MSE for (2, 0, 0)x(2,0,0,52) is: 0.10609869443773905\n",
      "The MSE for (2, 0, 0)x(2,1,0,52) is: 4.149623835709822\n",
      "The MSE for (2, 0, 0)x(2,2,0,52) is: 5.839179173254335\n"
     ]
    },
    {
     "name": "stderr",
     "output_type": "stream",
     "text": [
      "C:\\Users\\jonat\\anaconda3\\lib\\site-packages\\statsmodels\\tsa\\statespace\\sarimax.py:994: UserWarning: Non-stationary starting seasonal autoregressive Using zeros as starting parameters.\n",
      "  warn('Non-stationary starting seasonal autoregressive'\n",
      "C:\\Users\\jonat\\anaconda3\\lib\\site-packages\\statsmodels\\base\\model.py:567: ConvergenceWarning: Maximum Likelihood optimization failed to converge. Check mle_retvals\n",
      "  warn(\"Maximum Likelihood optimization failed to converge. \"\n"
     ]
    },
    {
     "name": "stdout",
     "output_type": "stream",
     "text": [
      "The MSE for (2, 0, 0)x(2,0,1,52) is: 0.10599726522298412\n"
     ]
    },
    {
     "name": "stderr",
     "output_type": "stream",
     "text": [
      "C:\\Users\\jonat\\anaconda3\\lib\\site-packages\\statsmodels\\base\\model.py:567: ConvergenceWarning: Maximum Likelihood optimization failed to converge. Check mle_retvals\n",
      "  warn(\"Maximum Likelihood optimization failed to converge. \"\n"
     ]
    },
    {
     "name": "stdout",
     "output_type": "stream",
     "text": [
      "The MSE for (2, 0, 0)x(2,1,1,52) is: 4.146842835083072\n"
     ]
    },
    {
     "name": "stderr",
     "output_type": "stream",
     "text": [
      "C:\\Users\\jonat\\anaconda3\\lib\\site-packages\\statsmodels\\base\\model.py:567: ConvergenceWarning: Maximum Likelihood optimization failed to converge. Check mle_retvals\n",
      "  warn(\"Maximum Likelihood optimization failed to converge. \"\n"
     ]
    },
    {
     "name": "stdout",
     "output_type": "stream",
     "text": [
      "The MSE for (2, 0, 0)x(2,2,1,52) is: 5.831191701251342\n"
     ]
    },
    {
     "name": "stderr",
     "output_type": "stream",
     "text": [
      "C:\\Users\\jonat\\anaconda3\\lib\\site-packages\\statsmodels\\base\\model.py:567: ConvergenceWarning: Maximum Likelihood optimization failed to converge. Check mle_retvals\n",
      "  warn(\"Maximum Likelihood optimization failed to converge. \"\n"
     ]
    },
    {
     "name": "stdout",
     "output_type": "stream",
     "text": [
      "The MSE for (2, 0, 0)x(2,0,2,52) is: 0.10621045112184163\n",
      "The MSE for (2, 0, 0)x(2,1,2,52) is: 4.146775097417508\n"
     ]
    },
    {
     "name": "stderr",
     "output_type": "stream",
     "text": [
      "C:\\Users\\jonat\\anaconda3\\lib\\site-packages\\statsmodels\\base\\model.py:567: ConvergenceWarning: Maximum Likelihood optimization failed to converge. Check mle_retvals\n",
      "  warn(\"Maximum Likelihood optimization failed to converge. \"\n"
     ]
    },
    {
     "name": "stdout",
     "output_type": "stream",
     "text": [
      "The MSE for (2, 0, 0)x(2,2,2,52) is: 5.8308037279106815\n",
      "Our model that minimizes MSE on the training data is the SARIMA(2, 0, 0)x(2,0,1,52).\n",
      "This model has an MSE of 0.10599726522298412.\n"
     ]
    }
   ],
   "source": [
    "# Starting MSE and (P, D, Q).\n",
    "final_p = 0\n",
    "final_d = 0\n",
    "final_q = 0\n",
    "\n",
    "mse = 10**16\n",
    "\n",
    "for P in range(3):\n",
    "    for Q in range(3):\n",
    "        for D in range(3):\n",
    "            try:\n",
    "                # Instantiate SARIMA model.\n",
    "                sarima = SARIMAX(endog = aus_sal_train['Depth_to_Groundwater_SAL'],\n",
    "                                 order = (2, 0, 0),              # (p, d, q)\n",
    "                                 seasonal_order = (P, D, Q, 52)) # (P, D, Q, S)\n",
    "\n",
    "                # Fit SARIMA model.\n",
    "                model = sarima.fit()\n",
    "\n",
    "                # Generate predictions based on training set.\n",
    "                # Start at time period 0 and end at 552.\n",
    "                preds = model.predict(start=0, end=552)\n",
    "\n",
    "                # Evaluate predictions.\n",
    "                print(f'The MSE for (2, 0, 0)x({P},{D},{Q},52) is: {mean_squared_error(aus_sal_train[\"Depth_to_Groundwater_SAL\"], preds)}')\n",
    "                \n",
    "                # Save for final report.\n",
    "                if mse > mean_squared_error(aus_sal_train['Depth_to_Groundwater_SAL'], preds):\n",
    "                    \n",
    "                    mse =  mean_squared_error(aus_sal_train['Depth_to_Groundwater_SAL'], preds)\n",
    "                    final_P = P\n",
    "                    final_D = D\n",
    "                    final_Q = Q\n",
    "\n",
    "                \n",
    "            except:\n",
    "                pass\n",
    "\n",
    "print(f'Our model that minimizes MSE on the training data is the SARIMA(2, 0, 0)x({final_P},{final_D},{final_Q},52).')\n",
    "print(f'This model has an MSE of {mse}.')"
   ]
  },
  {
   "cell_type": "markdown",
   "metadata": {},
   "source": [
    "#### Fitting Sarima model, generating predictions and computing RMSE"
   ]
  },
  {
   "cell_type": "code",
   "execution_count": 29,
   "metadata": {
    "ExecuteTime": {
     "end_time": "2021-01-27T12:22:35.820205Z",
     "start_time": "2021-01-27T12:22:35.814209Z"
    }
   },
   "outputs": [],
   "source": [
    "sarima = SARIMAX(endog = aus_sal_train['Depth_to_Groundwater_SAL'],\n",
    "                order = (2, 0, 0),\n",
    "                seasonal_order = (2, 0, 1, 52))"
   ]
  },
  {
   "cell_type": "code",
   "execution_count": 30,
   "metadata": {
    "ExecuteTime": {
     "end_time": "2021-01-27T12:22:38.348668Z",
     "start_time": "2021-01-27T12:22:38.183028Z"
    }
   },
   "outputs": [],
   "source": [
    "preds = model.predict(start=553, end=691)"
   ]
  },
  {
   "cell_type": "code",
   "execution_count": 27,
   "metadata": {
    "ExecuteTime": {
     "end_time": "2021-01-27T11:23:25.886974Z",
     "start_time": "2021-01-27T11:23:25.881987Z"
    }
   },
   "outputs": [
    {
     "name": "stdout",
     "output_type": "stream",
     "text": [
      "0.4351898319305505\n"
     ]
    }
   ],
   "source": [
    "print(np.sqrt(mean_squared_error(aus_sal_test['Depth_to_Groundwater_SAL'], preds)))"
   ]
  },
  {
   "cell_type": "code",
   "execution_count": 32,
   "metadata": {
    "ExecuteTime": {
     "end_time": "2021-01-27T16:50:04.455412Z",
     "start_time": "2021-01-27T16:50:04.412507Z"
    }
   },
   "outputs": [
    {
     "data": {
      "text/plain": [
       "0.6768757719325635"
      ]
     },
     "execution_count": 32,
     "metadata": {},
     "output_type": "execute_result"
    }
   ],
   "source": [
    "0.4351898319305505/0.642939\n",
    "# standard deviation from first notebook"
   ]
  },
  {
   "cell_type": "markdown",
   "metadata": {},
   "source": [
    "Use of SARIMA model yields an RMSE which is 68% of the standard deviation."
   ]
  }
 ],
 "metadata": {
  "kernelspec": {
   "display_name": "Python 3",
   "language": "python",
   "name": "python3"
  },
  "language_info": {
   "codemirror_mode": {
    "name": "ipython",
    "version": 3
   },
   "file_extension": ".py",
   "mimetype": "text/x-python",
   "name": "python",
   "nbconvert_exporter": "python",
   "pygments_lexer": "ipython3",
   "version": "3.8.3"
  },
  "toc": {
   "base_numbering": 1,
   "nav_menu": {},
   "number_sections": true,
   "sideBar": true,
   "skip_h1_title": false,
   "title_cell": "Table of Contents",
   "title_sidebar": "Contents",
   "toc_cell": false,
   "toc_position": {},
   "toc_section_display": true,
   "toc_window_display": false
  }
 },
 "nbformat": 4,
 "nbformat_minor": 4
}
