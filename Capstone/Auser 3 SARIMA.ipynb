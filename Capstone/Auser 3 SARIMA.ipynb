{
 "cells": [
  {
   "cell_type": "markdown",
   "metadata": {},
   "source": [
    "# Predicting Water Levels for the Auser Aquifer"
   ]
  },
  {
   "cell_type": "markdown",
   "metadata": {},
   "source": [
    "## Importing libraries and dataset"
   ]
  },
  {
   "cell_type": "code",
   "execution_count": 1,
   "metadata": {
    "ExecuteTime": {
     "end_time": "2021-01-25T16:59:34.706835Z",
     "start_time": "2021-01-25T16:59:32.618977Z"
    }
   },
   "outputs": [],
   "source": [
    "import pandas as pd \n",
    "from datetime import datetime\n",
    "import numpy as np \n",
    "import matplotlib.pyplot as plt\n",
    "import seaborn as sns\n",
    "from sklearn.model_selection import train_test_split\n",
    "from statsmodels.tsa.statespace.sarimax import SARIMAX\n",
    "from statsmodels.tsa.stattools import adfuller\n",
    "from statsmodels.graphics.tsaplots import plot_acf, plot_pacf\n",
    "from sklearn.metrics import mean_squared_error"
   ]
  },
  {
   "cell_type": "code",
   "execution_count": 2,
   "metadata": {
    "ExecuteTime": {
     "end_time": "2021-01-25T16:59:34.745871Z",
     "start_time": "2021-01-25T16:59:34.706835Z"
    }
   },
   "outputs": [],
   "source": [
    "aus = pd.read_csv('Aquifer_Auser.csv')"
   ]
  },
  {
   "cell_type": "markdown",
   "metadata": {},
   "source": [
    "## Performing the same initial transformations as the first notebook"
   ]
  },
  {
   "cell_type": "code",
   "execution_count": 3,
   "metadata": {
    "ExecuteTime": {
     "end_time": "2021-01-25T16:59:34.769861Z",
     "start_time": "2021-01-25T16:59:34.746869Z"
    }
   },
   "outputs": [],
   "source": [
    "aus['Date'] = pd.to_datetime(aus['Date'], format='%d/%m/%Y')"
   ]
  },
  {
   "cell_type": "code",
   "execution_count": 4,
   "metadata": {
    "ExecuteTime": {
     "end_time": "2021-01-25T16:59:34.773797Z",
     "start_time": "2021-01-25T16:59:34.770805Z"
    }
   },
   "outputs": [],
   "source": [
    "abs_cols = ['Depth_to_Groundwater_LT2', 'Depth_to_Groundwater_SAL', 'Depth_to_Groundwater_PAG', 'Depth_to_Groundwater_CoS', 'Depth_to_Groundwater_DIEC',\n",
    "           'Volume_POL', 'Volume_CC1', 'Volume_CC2', 'Volume_CSA', 'Volume_CSAL']\n",
    "# absolute values can be taken from the above columns as clarified by competition host in a discussion thread on kaggle"
   ]
  },
  {
   "cell_type": "code",
   "execution_count": 5,
   "metadata": {
    "ExecuteTime": {
     "end_time": "2021-01-25T16:59:35.193366Z",
     "start_time": "2021-01-25T16:59:35.185520Z"
    }
   },
   "outputs": [],
   "source": [
    "for col in abs_cols:\n",
    "    aus[col] = abs(aus[col])"
   ]
  },
  {
   "cell_type": "markdown",
   "metadata": {},
   "source": [
    "## SARIMA models for Depths of SAL, CoS and LT2"
   ]
  },
  {
   "cell_type": "markdown",
   "metadata": {},
   "source": [
    "### SAL"
   ]
  },
  {
   "cell_type": "code",
   "execution_count": 6,
   "metadata": {
    "ExecuteTime": {
     "end_time": "2021-01-25T13:29:25.635675Z",
     "start_time": "2021-01-25T13:29:25.631685Z"
    }
   },
   "outputs": [],
   "source": [
    "aus_sal = aus[['Date', 'Depth_to_Groundwater_SAL']]"
   ]
  },
  {
   "cell_type": "markdown",
   "metadata": {},
   "source": [
    "#### Data Cleaning"
   ]
  },
  {
   "cell_type": "code",
   "execution_count": 7,
   "metadata": {
    "ExecuteTime": {
     "end_time": "2021-01-25T13:29:25.647640Z",
     "start_time": "2021-01-25T13:29:25.636671Z"
    }
   },
   "outputs": [
    {
     "data": {
      "text/html": [
       "<div>\n",
       "<style scoped>\n",
       "    .dataframe tbody tr th:only-of-type {\n",
       "        vertical-align: middle;\n",
       "    }\n",
       "\n",
       "    .dataframe tbody tr th {\n",
       "        vertical-align: top;\n",
       "    }\n",
       "\n",
       "    .dataframe thead th {\n",
       "        text-align: right;\n",
       "    }\n",
       "</style>\n",
       "<table border=\"1\" class=\"dataframe\">\n",
       "  <thead>\n",
       "    <tr style=\"text-align: right;\">\n",
       "      <th></th>\n",
       "      <th>Date</th>\n",
       "      <th>Depth_to_Groundwater_SAL</th>\n",
       "    </tr>\n",
       "  </thead>\n",
       "  <tbody>\n",
       "    <tr>\n",
       "      <th>3319</th>\n",
       "      <td>2007-04-06</td>\n",
       "      <td>6.69</td>\n",
       "    </tr>\n",
       "    <tr>\n",
       "      <th>3320</th>\n",
       "      <td>2007-04-07</td>\n",
       "      <td>6.71</td>\n",
       "    </tr>\n",
       "    <tr>\n",
       "      <th>3321</th>\n",
       "      <td>2007-04-08</td>\n",
       "      <td>6.67</td>\n",
       "    </tr>\n",
       "    <tr>\n",
       "      <th>3322</th>\n",
       "      <td>2007-04-09</td>\n",
       "      <td>6.62</td>\n",
       "    </tr>\n",
       "    <tr>\n",
       "      <th>3323</th>\n",
       "      <td>2007-04-10</td>\n",
       "      <td>6.64</td>\n",
       "    </tr>\n",
       "  </tbody>\n",
       "</table>\n",
       "</div>"
      ],
      "text/plain": [
       "           Date  Depth_to_Groundwater_SAL\n",
       "3319 2007-04-06                      6.69\n",
       "3320 2007-04-07                      6.71\n",
       "3321 2007-04-08                      6.67\n",
       "3322 2007-04-09                      6.62\n",
       "3323 2007-04-10                      6.64"
      ]
     },
     "execution_count": 7,
     "metadata": {},
     "output_type": "execute_result"
    }
   ],
   "source": [
    "aus_sal.loc[aus_sal['Depth_to_Groundwater_SAL'].notnull()].head()"
   ]
  },
  {
   "cell_type": "code",
   "execution_count": 8,
   "metadata": {
    "ExecuteTime": {
     "end_time": "2021-01-25T13:29:25.651630Z",
     "start_time": "2021-01-25T13:29:25.648638Z"
    }
   },
   "outputs": [],
   "source": [
    "aus_sal = aus_sal[3319:]"
   ]
  },
  {
   "cell_type": "code",
   "execution_count": 9,
   "metadata": {
    "ExecuteTime": {
     "end_time": "2021-01-25T13:29:25.656616Z",
     "start_time": "2021-01-25T13:29:25.652630Z"
    }
   },
   "outputs": [],
   "source": [
    "aus_sal['Depth_to_Groundwater_SAL'] = aus_sal['Depth_to_Groundwater_SAL'].replace(0, np.nan)"
   ]
  },
  {
   "cell_type": "code",
   "execution_count": 10,
   "metadata": {
    "ExecuteTime": {
     "end_time": "2021-01-25T13:29:25.662600Z",
     "start_time": "2021-01-25T13:29:25.657616Z"
    }
   },
   "outputs": [],
   "source": [
    "aus_sal['Depth_to_Groundwater_SAL'] = aus_sal['Depth_to_Groundwater_SAL'].interpolate()"
   ]
  },
  {
   "cell_type": "code",
   "execution_count": 11,
   "metadata": {
    "ExecuteTime": {
     "end_time": "2021-01-25T13:29:25.668585Z",
     "start_time": "2021-01-25T13:29:25.663598Z"
    }
   },
   "outputs": [
    {
     "data": {
      "text/plain": [
       "Date                        0\n",
       "Depth_to_Groundwater_SAL    0\n",
       "dtype: int64"
      ]
     },
     "execution_count": 11,
     "metadata": {},
     "output_type": "execute_result"
    }
   ],
   "source": [
    "aus_sal.isnull().sum()"
   ]
  },
  {
   "cell_type": "code",
   "execution_count": 13,
   "metadata": {
    "ExecuteTime": {
     "end_time": "2021-01-25T13:29:55.596649Z",
     "start_time": "2021-01-25T13:29:55.592839Z"
    }
   },
   "outputs": [],
   "source": [
    "aus_sal.set_index('Date', inplace=True)"
   ]
  },
  {
   "cell_type": "code",
   "execution_count": 15,
   "metadata": {
    "ExecuteTime": {
     "end_time": "2021-01-25T13:30:31.776948Z",
     "start_time": "2021-01-25T13:30:31.764982Z"
    }
   },
   "outputs": [],
   "source": [
    "aus_sal = aus_sal.resample('W').mean()"
   ]
  },
  {
   "cell_type": "markdown",
   "metadata": {},
   "source": [
    "#### Train Test Split"
   ]
  },
  {
   "cell_type": "code",
   "execution_count": 16,
   "metadata": {
    "ExecuteTime": {
     "end_time": "2021-01-25T13:30:40.521690Z",
     "start_time": "2021-01-25T13:30:40.516684Z"
    }
   },
   "outputs": [
    {
     "data": {
      "text/plain": [
       "692"
      ]
     },
     "execution_count": 16,
     "metadata": {},
     "output_type": "execute_result"
    }
   ],
   "source": [
    "len(aus_sal)"
   ]
  },
  {
   "cell_type": "code",
   "execution_count": 17,
   "metadata": {
    "ExecuteTime": {
     "end_time": "2021-01-25T13:30:40.798642Z",
     "start_time": "2021-01-25T13:30:40.793655Z"
    }
   },
   "outputs": [
    {
     "data": {
      "text/plain": [
       "553.6"
      ]
     },
     "execution_count": 17,
     "metadata": {},
     "output_type": "execute_result"
    }
   ],
   "source": [
    "len(aus_sal)*0.8"
   ]
  },
  {
   "cell_type": "code",
   "execution_count": 18,
   "metadata": {
    "ExecuteTime": {
     "end_time": "2021-01-25T13:31:11.432842Z",
     "start_time": "2021-01-25T13:31:11.425860Z"
    }
   },
   "outputs": [
    {
     "data": {
      "text/html": [
       "<div>\n",
       "<style scoped>\n",
       "    .dataframe tbody tr th:only-of-type {\n",
       "        vertical-align: middle;\n",
       "    }\n",
       "\n",
       "    .dataframe tbody tr th {\n",
       "        vertical-align: top;\n",
       "    }\n",
       "\n",
       "    .dataframe thead th {\n",
       "        text-align: right;\n",
       "    }\n",
       "</style>\n",
       "<table border=\"1\" class=\"dataframe\">\n",
       "  <thead>\n",
       "    <tr style=\"text-align: right;\">\n",
       "      <th></th>\n",
       "      <th>Depth_to_Groundwater_SAL</th>\n",
       "    </tr>\n",
       "    <tr>\n",
       "      <th>Date</th>\n",
       "      <th></th>\n",
       "    </tr>\n",
       "  </thead>\n",
       "  <tbody>\n",
       "    <tr>\n",
       "      <th>2017-10-08</th>\n",
       "      <td>5.902857</td>\n",
       "    </tr>\n",
       "    <tr>\n",
       "      <th>2017-10-15</th>\n",
       "      <td>5.940000</td>\n",
       "    </tr>\n",
       "    <tr>\n",
       "      <th>2017-10-22</th>\n",
       "      <td>5.988571</td>\n",
       "    </tr>\n",
       "    <tr>\n",
       "      <th>2017-10-29</th>\n",
       "      <td>6.010000</td>\n",
       "    </tr>\n",
       "    <tr>\n",
       "      <th>2017-11-05</th>\n",
       "      <td>6.072857</td>\n",
       "    </tr>\n",
       "  </tbody>\n",
       "</table>\n",
       "</div>"
      ],
      "text/plain": [
       "            Depth_to_Groundwater_SAL\n",
       "Date                                \n",
       "2017-10-08                  5.902857\n",
       "2017-10-15                  5.940000\n",
       "2017-10-22                  5.988571\n",
       "2017-10-29                  6.010000\n",
       "2017-11-05                  6.072857"
      ]
     },
     "execution_count": 18,
     "metadata": {},
     "output_type": "execute_result"
    }
   ],
   "source": [
    "aus_sal_train = aus_sal[:553]\n",
    "aus_sal_train.tail()"
   ]
  },
  {
   "cell_type": "code",
   "execution_count": 19,
   "metadata": {
    "ExecuteTime": {
     "end_time": "2021-01-25T13:31:15.848198Z",
     "start_time": "2021-01-25T13:31:15.832577Z"
    }
   },
   "outputs": [
    {
     "data": {
      "text/html": [
       "<div>\n",
       "<style scoped>\n",
       "    .dataframe tbody tr th:only-of-type {\n",
       "        vertical-align: middle;\n",
       "    }\n",
       "\n",
       "    .dataframe tbody tr th {\n",
       "        vertical-align: top;\n",
       "    }\n",
       "\n",
       "    .dataframe thead th {\n",
       "        text-align: right;\n",
       "    }\n",
       "</style>\n",
       "<table border=\"1\" class=\"dataframe\">\n",
       "  <thead>\n",
       "    <tr style=\"text-align: right;\">\n",
       "      <th></th>\n",
       "      <th>Depth_to_Groundwater_SAL</th>\n",
       "    </tr>\n",
       "    <tr>\n",
       "      <th>Date</th>\n",
       "      <th></th>\n",
       "    </tr>\n",
       "  </thead>\n",
       "  <tbody>\n",
       "    <tr>\n",
       "      <th>2017-11-12</th>\n",
       "      <td>5.992857</td>\n",
       "    </tr>\n",
       "    <tr>\n",
       "      <th>2017-11-19</th>\n",
       "      <td>5.967143</td>\n",
       "    </tr>\n",
       "    <tr>\n",
       "      <th>2017-11-26</th>\n",
       "      <td>6.028571</td>\n",
       "    </tr>\n",
       "    <tr>\n",
       "      <th>2017-12-03</th>\n",
       "      <td>5.978571</td>\n",
       "    </tr>\n",
       "    <tr>\n",
       "      <th>2017-12-10</th>\n",
       "      <td>5.935714</td>\n",
       "    </tr>\n",
       "  </tbody>\n",
       "</table>\n",
       "</div>"
      ],
      "text/plain": [
       "            Depth_to_Groundwater_SAL\n",
       "Date                                \n",
       "2017-11-12                  5.992857\n",
       "2017-11-19                  5.967143\n",
       "2017-11-26                  6.028571\n",
       "2017-12-03                  5.978571\n",
       "2017-12-10                  5.935714"
      ]
     },
     "execution_count": 19,
     "metadata": {},
     "output_type": "execute_result"
    }
   ],
   "source": [
    "aus_sal_test = aus_sal[553:]\n",
    "aus_sal_test.head()"
   ]
  },
  {
   "cell_type": "code",
   "execution_count": 20,
   "metadata": {
    "ExecuteTime": {
     "end_time": "2021-01-25T13:31:34.185571Z",
     "start_time": "2021-01-25T13:31:34.179616Z"
    }
   },
   "outputs": [],
   "source": [
    "aus_sal_train.index = pd.DatetimeIndex(aus_sal_train.index).to_period('W')\n",
    "aus_sal_test.index = pd.DatetimeIndex(aus_sal_test.index).to_period('W')"
   ]
  },
  {
   "cell_type": "markdown",
   "metadata": {},
   "source": [
    "#### Augmented Dickey-Fuller test to check for Stationarity"
   ]
  },
  {
   "cell_type": "code",
   "execution_count": 6,
   "metadata": {
    "ExecuteTime": {
     "end_time": "2021-01-25T16:59:44.211462Z",
     "start_time": "2021-01-25T16:59:44.195839Z"
    }
   },
   "outputs": [],
   "source": [
    "def interpret_df(df):\n",
    "    dfoutput = pd.Series(df[0:2], index=['Test Statistic','p-value'])\n",
    "    return dfoutput"
   ]
  },
  {
   "cell_type": "code",
   "execution_count": 22,
   "metadata": {
    "ExecuteTime": {
     "end_time": "2021-01-25T13:31:37.542409Z",
     "start_time": "2021-01-25T13:31:37.517504Z"
    }
   },
   "outputs": [
    {
     "data": {
      "text/plain": [
       "Test Statistic   -4.089970\n",
       "p-value           0.001006\n",
       "dtype: float64"
      ]
     },
     "execution_count": 22,
     "metadata": {},
     "output_type": "execute_result"
    }
   ],
   "source": [
    "interpret_df(adfuller(aus_sal_train['Depth_to_Groundwater_SAL']))"
   ]
  },
  {
   "cell_type": "markdown",
   "metadata": {},
   "source": [
    "With a p-value of 0.001006, the stationarity condition is fulfilled and differencing is not required."
   ]
  },
  {
   "cell_type": "markdown",
   "metadata": {},
   "source": [
    "#### Checking for AR and MA lags"
   ]
  },
  {
   "cell_type": "code",
   "execution_count": 23,
   "metadata": {
    "ExecuteTime": {
     "end_time": "2021-01-25T13:32:04.360572Z",
     "start_time": "2021-01-25T13:32:04.216265Z"
    }
   },
   "outputs": [
    {
     "data": {
      "image/png": "[encoded data removed]",
      "text/plain": [
       "<Figure size 1440x720 with 1 Axes>"
      ]
     },
     "metadata": {
      "needs_background": "light"
     },
     "output_type": "display_data"
    }
   ],
   "source": [
    "fig, ax = plt.subplots(figsize=(20, 10))\n",
    "plot_pacf(aus_sal_train['Depth_to_Groundwater_SAL'], lags=30, ax=ax)\n",
    "plt.show()"
   ]
  },
  {
   "cell_type": "code",
   "execution_count": 26,
   "metadata": {
    "ExecuteTime": {
     "end_time": "2021-01-25T13:33:22.355000Z",
     "start_time": "2021-01-25T13:33:22.218891Z"
    }
   },
   "outputs": [
    {
     "data": {
      "image/png": "[encoded data removed]",
      "text/plain": [
       "<Figure size 1440x720 with 1 Axes>"
      ]
     },
     "metadata": {
      "needs_background": "light"
     },
     "output_type": "display_data"
    }
   ],
   "source": [
    "fig, ax = plt.subplots(figsize=(20, 10))\n",
    "plot_acf(aus_sal_train['Depth_to_Groundwater_SAL'], lags=120, ax=ax)\n",
    "plt.show()"
   ]
  },
  {
   "cell_type": "markdown",
   "metadata": {},
   "source": [
    "The PACF curve shows a sharp cut-off at the 2nd lag while the ACF curve shows a gradual decay. \n",
    "\n",
    "Since Stationarity has been fulfilled as shown earlier, the (p, d, q) will be set as (2, 0, 0)\n",
    "\n",
    "The length of season will be set to a year, or in this case, 52 weeks. This trend can roughly be seen from the ACF plot as well."
   ]
  },
  {
   "cell_type": "markdown",
   "metadata": {},
   "source": [
    "#### Gridsearching seasonal_order parameters for SARIMA model"
   ]
  },
  {
   "cell_type": "code",
   "execution_count": 33,
   "metadata": {
    "ExecuteTime": {
     "end_time": "2021-01-25T14:08:37.541020Z",
     "start_time": "2021-01-25T13:40:35.683338Z"
    }
   },
   "outputs": [
    {
     "name": "stdout",
     "output_type": "stream",
     "text": [
      "The MSE for (2, 0, 0)x(0,0,0,52) is: 0.10634743966609117\n",
      "The MSE for (2, 0, 0)x(0,1,0,52) is: 4.161877706680601\n",
      "The MSE for (2, 0, 0)x(0,2,0,52) is: 5.898068112157095\n",
      "The MSE for (2, 0, 0)x(0,0,1,52) is: 0.10629463152204574\n",
      "The MSE for (2, 0, 0)x(0,1,1,52) is: 4.147059226476444\n",
      "The MSE for (2, 0, 0)x(0,2,1,52) is: 5.838463352682519\n"
     ]
    },
    {
     "name": "stderr",
     "output_type": "stream",
     "text": [
      "C:\\Users\\jonat\\anaconda3\\lib\\site-packages\\statsmodels\\tsa\\statespace\\sarimax.py:1006: UserWarning: Non-invertible starting seasonal moving average Using zeros as starting parameters.\n",
      "  warn('Non-invertible starting seasonal moving average'\n"
     ]
    },
    {
     "name": "stdout",
     "output_type": "stream",
     "text": [
      "The MSE for (2, 0, 0)x(0,0,2,52) is: 0.10609057792666837\n",
      "The MSE for (2, 0, 0)x(0,1,2,52) is: 4.147030403877382\n"
     ]
    },
    {
     "name": "stderr",
     "output_type": "stream",
     "text": [
      "C:\\Users\\jonat\\anaconda3\\lib\\site-packages\\statsmodels\\tsa\\statespace\\sarimax.py:1006: UserWarning: Non-invertible starting seasonal moving average Using zeros as starting parameters.\n",
      "  warn('Non-invertible starting seasonal moving average'\n"
     ]
    },
    {
     "name": "stdout",
     "output_type": "stream",
     "text": [
      "The MSE for (2, 0, 0)x(0,2,2,52) is: 5.830982359284344\n",
      "The MSE for (2, 0, 0)x(1,0,0,52) is: 0.10628533911594472\n",
      "The MSE for (2, 0, 0)x(1,1,0,52) is: 4.150952506677218\n",
      "The MSE for (2, 0, 0)x(1,2,0,52) is: 5.847526499278063\n",
      "The MSE for (2, 0, 0)x(1,0,1,52) is: 0.10629038904679959\n",
      "The MSE for (2, 0, 0)x(1,1,1,52) is: 4.147020119451283\n"
     ]
    },
    {
     "name": "stderr",
     "output_type": "stream",
     "text": [
      "C:\\Users\\jonat\\anaconda3\\lib\\site-packages\\statsmodels\\base\\model.py:567: ConvergenceWarning: Maximum Likelihood optimization failed to converge. Check mle_retvals\n",
      "  warn(\"Maximum Likelihood optimization failed to converge. \"\n"
     ]
    },
    {
     "name": "stdout",
     "output_type": "stream",
     "text": [
      "The MSE for (2, 0, 0)x(1,2,1,52) is: 5.831580010641998\n",
      "The MSE for (2, 0, 0)x(1,0,2,52) is: 0.10626876960687906\n"
     ]
    },
    {
     "name": "stderr",
     "output_type": "stream",
     "text": [
      "C:\\Users\\jonat\\anaconda3\\lib\\site-packages\\statsmodels\\base\\model.py:567: ConvergenceWarning: Maximum Likelihood optimization failed to converge. Check mle_retvals\n",
      "  warn(\"Maximum Likelihood optimization failed to converge. \"\n"
     ]
    },
    {
     "name": "stdout",
     "output_type": "stream",
     "text": [
      "The MSE for (2, 0, 0)x(1,1,2,52) is: 4.147001296487007\n"
     ]
    },
    {
     "name": "stderr",
     "output_type": "stream",
     "text": [
      "C:\\Users\\jonat\\anaconda3\\lib\\site-packages\\statsmodels\\base\\model.py:567: ConvergenceWarning: Maximum Likelihood optimization failed to converge. Check mle_retvals\n",
      "  warn(\"Maximum Likelihood optimization failed to converge. \"\n"
     ]
    },
    {
     "name": "stdout",
     "output_type": "stream",
     "text": [
      "The MSE for (2, 0, 0)x(1,2,2,52) is: 5.8309650464036675\n",
      "The MSE for (2, 0, 0)x(2,0,0,52) is: 0.10609869443773905\n",
      "The MSE for (2, 0, 0)x(2,1,0,52) is: 4.149623835709822\n",
      "The MSE for (2, 0, 0)x(2,2,0,52) is: 5.839179173254335\n"
     ]
    },
    {
     "name": "stderr",
     "output_type": "stream",
     "text": [
      "C:\\Users\\jonat\\anaconda3\\lib\\site-packages\\statsmodels\\tsa\\statespace\\sarimax.py:994: UserWarning: Non-stationary starting seasonal autoregressive Using zeros as starting parameters.\n",
      "  warn('Non-stationary starting seasonal autoregressive'\n",
      "C:\\Users\\jonat\\anaconda3\\lib\\site-packages\\statsmodels\\base\\model.py:567: ConvergenceWarning: Maximum Likelihood optimization failed to converge. Check mle_retvals\n",
      "  warn(\"Maximum Likelihood optimization failed to converge. \"\n"
     ]
    },
    {
     "name": "stdout",
     "output_type": "stream",
     "text": [
      "The MSE for (2, 0, 0)x(2,0,1,52) is: 0.10599726522298412\n"
     ]
    },
    {
     "name": "stderr",
     "output_type": "stream",
     "text": [
      "C:\\Users\\jonat\\anaconda3\\lib\\site-packages\\statsmodels\\base\\model.py:567: ConvergenceWarning: Maximum Likelihood optimization failed to converge. Check mle_retvals\n",
      "  warn(\"Maximum Likelihood optimization failed to converge. \"\n"
     ]
    },
    {
     "name": "stdout",
     "output_type": "stream",
     "text": [
      "The MSE for (2, 0, 0)x(2,1,1,52) is: 4.146842835083072\n"
     ]
    },
    {
     "name": "stderr",
     "output_type": "stream",
     "text": [
      "C:\\Users\\jonat\\anaconda3\\lib\\site-packages\\statsmodels\\base\\model.py:567: ConvergenceWarning: Maximum Likelihood optimization failed to converge. Check mle_retvals\n",
      "  warn(\"Maximum Likelihood optimization failed to converge. \"\n"
     ]
    },
    {
     "name": "stdout",
     "output_type": "stream",
     "text": [
      "The MSE for (2, 0, 0)x(2,2,1,52) is: 5.831191701251342\n"
     ]
    },
    {
     "name": "stderr",
     "output_type": "stream",
     "text": [
      "C:\\Users\\jonat\\anaconda3\\lib\\site-packages\\statsmodels\\base\\model.py:567: ConvergenceWarning: Maximum Likelihood optimization failed to converge. Check mle_retvals\n",
      "  warn(\"Maximum Likelihood optimization failed to converge. \"\n"
     ]
    },
    {
     "name": "stdout",
     "output_type": "stream",
     "text": [
      "The MSE for (2, 0, 0)x(2,0,2,52) is: 0.10621045112184163\n",
      "The MSE for (2, 0, 0)x(2,1,2,52) is: 4.146775097417508\n"
     ]
    },
    {
     "name": "stderr",
     "output_type": "stream",
     "text": [
      "C:\\Users\\jonat\\anaconda3\\lib\\site-packages\\statsmodels\\base\\model.py:567: ConvergenceWarning: Maximum Likelihood optimization failed to converge. Check mle_retvals\n",
      "  warn(\"Maximum Likelihood optimization failed to converge. \"\n"
     ]
    },
    {
     "name": "stdout",
     "output_type": "stream",
     "text": [
      "The MSE for (2, 0, 0)x(2,2,2,52) is: 5.8308037279106815\n",
      "Our model that minimizes MSE on the training data is the SARIMA(2, 0, 0)x(2,0,1,52).\n",
      "This model has an MSE of 0.10599726522298412.\n"
     ]
    }
   ],
   "source": [
    "# Starting MSE and (P, D, Q).\n",
    "final_p = 0\n",
    "final_d = 0\n",
    "final_q = 0\n",
    "\n",
    "mse = 10**16\n",
    "\n",
    "for P in range(3):\n",
    "    for Q in range(3):\n",
    "        for D in range(3):\n",
    "            try:\n",
    "                # Instantiate SARIMA model.\n",
    "                sarima = SARIMAX(endog = aus_sal_train['Depth_to_Groundwater_SAL'],\n",
    "                                 order = (2, 0, 0),              # (p, d, q)\n",
    "                                 seasonal_order = (P, D, Q, 52)) # (P, D, Q, S)\n",
    "\n",
    "                # Fit SARIMA model.\n",
    "                model = sarima.fit()\n",
    "\n",
    "                # Generate predictions based on training set.\n",
    "                # Start at time period 0 and end at 552.\n",
    "                preds = model.predict(start=0, end=552)\n",
    "\n",
    "                # Evaluate predictions.\n",
    "                print(f'The MSE for (2, 0, 0)x({P},{D},{Q},52) is: {mean_squared_error(aus_sal_train[\"Depth_to_Groundwater_SAL\"], preds)}')\n",
    "                \n",
    "                # Save for final report.\n",
    "                if mse > mean_squared_error(aus_sal_train['Depth_to_Groundwater_SAL'], preds):\n",
    "                    \n",
    "                    mse =  mean_squared_error(aus_sal_train['Depth_to_Groundwater_SAL'], preds)\n",
    "                    final_P = P\n",
    "                    final_D = D\n",
    "                    final_Q = Q\n",
    "\n",
    "                \n",
    "            except:\n",
    "                pass\n",
    "\n",
    "print(f'Our model that minimizes MSE on the training data is the SARIMA(2, 0, 0)x({final_P},{final_D},{final_Q},52).')\n",
    "print(f'This model has an MSE of {mse}.')"
   ]
  },
  {
   "cell_type": "markdown",
   "metadata": {},
   "source": [
    "#### Fitting Sarima model, generating predictions and computing RMSE"
   ]
  },
  {
   "cell_type": "code",
   "execution_count": 34,
   "metadata": {
    "ExecuteTime": {
     "end_time": "2021-01-25T14:09:05.101411Z",
     "start_time": "2021-01-25T14:09:05.094432Z"
    }
   },
   "outputs": [],
   "source": [
    "sarima = SARIMAX(endog = aus_sal_train['Depth_to_Groundwater_SAL'],\n",
    "                order = (2, 0, 0),\n",
    "                seasonal_order = (2, 0, 1, 52))"
   ]
  },
  {
   "cell_type": "code",
   "execution_count": 35,
   "metadata": {
    "ExecuteTime": {
     "end_time": "2021-01-25T14:09:41.546536Z",
     "start_time": "2021-01-25T14:09:05.493304Z"
    }
   },
   "outputs": [
    {
     "name": "stderr",
     "output_type": "stream",
     "text": [
      "C:\\Users\\jonat\\anaconda3\\lib\\site-packages\\statsmodels\\tsa\\statespace\\sarimax.py:994: UserWarning: Non-stationary starting seasonal autoregressive Using zeros as starting parameters.\n",
      "  warn('Non-stationary starting seasonal autoregressive'\n",
      "C:\\Users\\jonat\\anaconda3\\lib\\site-packages\\statsmodels\\base\\model.py:567: ConvergenceWarning: Maximum Likelihood optimization failed to converge. Check mle_retvals\n",
      "  warn(\"Maximum Likelihood optimization failed to converge. \"\n"
     ]
    }
   ],
   "source": [
    "model = sarima.fit()"
   ]
  },
  {
   "cell_type": "code",
   "execution_count": 36,
   "metadata": {
    "ExecuteTime": {
     "end_time": "2021-01-25T14:09:41.603761Z",
     "start_time": "2021-01-25T14:09:41.546536Z"
    }
   },
   "outputs": [],
   "source": [
    "preds = model.predict(start=553, end=691)"
   ]
  },
  {
   "cell_type": "code",
   "execution_count": 37,
   "metadata": {
    "ExecuteTime": {
     "end_time": "2021-01-25T14:09:41.610743Z",
     "start_time": "2021-01-25T14:09:41.604758Z"
    }
   },
   "outputs": [
    {
     "name": "stdout",
     "output_type": "stream",
     "text": [
      "0.6179366910398301\n"
     ]
    }
   ],
   "source": [
    "print(np.sqrt(mean_squared_error(aus_sal_test['Depth_to_Groundwater_SAL'], preds)))"
   ]
  },
  {
   "cell_type": "markdown",
   "metadata": {},
   "source": [
    "### Repeating the same for Depths of CoS"
   ]
  },
  {
   "cell_type": "code",
   "execution_count": 47,
   "metadata": {
    "ExecuteTime": {
     "end_time": "2021-01-25T14:25:48.000947Z",
     "start_time": "2021-01-25T14:25:47.988980Z"
    }
   },
   "outputs": [
    {
     "data": {
      "text/html": [
       "<div>\n",
       "<style scoped>\n",
       "    .dataframe tbody tr th:only-of-type {\n",
       "        vertical-align: middle;\n",
       "    }\n",
       "\n",
       "    .dataframe tbody tr th {\n",
       "        vertical-align: top;\n",
       "    }\n",
       "\n",
       "    .dataframe thead th {\n",
       "        text-align: right;\n",
       "    }\n",
       "</style>\n",
       "<table border=\"1\" class=\"dataframe\">\n",
       "  <thead>\n",
       "    <tr style=\"text-align: right;\">\n",
       "      <th></th>\n",
       "      <th>Date</th>\n",
       "      <th>Depth_to_Groundwater_CoS</th>\n",
       "    </tr>\n",
       "  </thead>\n",
       "  <tbody>\n",
       "    <tr>\n",
       "      <th>3038</th>\n",
       "      <td>2006-06-29</td>\n",
       "      <td>6.43</td>\n",
       "    </tr>\n",
       "    <tr>\n",
       "      <th>3039</th>\n",
       "      <td>2006-06-30</td>\n",
       "      <td>6.46</td>\n",
       "    </tr>\n",
       "    <tr>\n",
       "      <th>3040</th>\n",
       "      <td>2006-07-01</td>\n",
       "      <td>6.50</td>\n",
       "    </tr>\n",
       "    <tr>\n",
       "      <th>3041</th>\n",
       "      <td>2006-07-02</td>\n",
       "      <td>6.55</td>\n",
       "    </tr>\n",
       "    <tr>\n",
       "      <th>3042</th>\n",
       "      <td>2006-07-03</td>\n",
       "      <td>6.60</td>\n",
       "    </tr>\n",
       "  </tbody>\n",
       "</table>\n",
       "</div>"
      ],
      "text/plain": [
       "           Date  Depth_to_Groundwater_CoS\n",
       "3038 2006-06-29                      6.43\n",
       "3039 2006-06-30                      6.46\n",
       "3040 2006-07-01                      6.50\n",
       "3041 2006-07-02                      6.55\n",
       "3042 2006-07-03                      6.60"
      ]
     },
     "execution_count": 47,
     "metadata": {},
     "output_type": "execute_result"
    }
   ],
   "source": [
    "aus_cos = aus[['Date', 'Depth_to_Groundwater_CoS']]\n",
    "aus_cos.loc[aus_cos['Depth_to_Groundwater_CoS'].notnull()].head()"
   ]
  },
  {
   "cell_type": "code",
   "execution_count": 48,
   "metadata": {
    "ExecuteTime": {
     "end_time": "2021-01-25T14:27:41.734838Z",
     "start_time": "2021-01-25T14:27:41.721827Z"
    }
   },
   "outputs": [
    {
     "data": {
      "text/plain": [
       "Date                        0\n",
       "Depth_to_Groundwater_CoS    0\n",
       "dtype: int64"
      ]
     },
     "execution_count": 48,
     "metadata": {},
     "output_type": "execute_result"
    }
   ],
   "source": [
    "aus_cos = aus_cos[3038:]\n",
    "aus_cos['Depth_to_Groundwater_CoS'] = aus_cos['Depth_to_Groundwater_CoS'].replace(0, np.nan)\n",
    "aus_cos['Depth_to_Groundwater_CoS'] = aus_cos['Depth_to_Groundwater_CoS'].interpolate()\n",
    "aus_cos.isnull().sum()"
   ]
  },
  {
   "cell_type": "code",
   "execution_count": 49,
   "metadata": {
    "ExecuteTime": {
     "end_time": "2021-01-25T14:27:41.921146Z",
     "start_time": "2021-01-25T14:27:41.898572Z"
    }
   },
   "outputs": [],
   "source": [
    "aus_cos.set_index('Date', inplace=True)\n",
    "aus_cos = aus_cos.resample('W').mean()"
   ]
  },
  {
   "cell_type": "code",
   "execution_count": 50,
   "metadata": {
    "ExecuteTime": {
     "end_time": "2021-01-25T14:28:26.142942Z",
     "start_time": "2021-01-25T14:28:26.138982Z"
    }
   },
   "outputs": [
    {
     "data": {
      "text/plain": [
       "732"
      ]
     },
     "execution_count": 50,
     "metadata": {},
     "output_type": "execute_result"
    }
   ],
   "source": [
    "len(aus_cos)"
   ]
  },
  {
   "cell_type": "code",
   "execution_count": 51,
   "metadata": {
    "ExecuteTime": {
     "end_time": "2021-01-25T14:28:33.987267Z",
     "start_time": "2021-01-25T14:28:33.983281Z"
    }
   },
   "outputs": [
    {
     "data": {
      "text/plain": [
       "585.6"
      ]
     },
     "execution_count": 51,
     "metadata": {},
     "output_type": "execute_result"
    }
   ],
   "source": [
    "len(aus_cos)*0.8"
   ]
  },
  {
   "cell_type": "code",
   "execution_count": 53,
   "metadata": {
    "ExecuteTime": {
     "end_time": "2021-01-25T14:29:55.358124Z",
     "start_time": "2021-01-25T14:29:55.351725Z"
    }
   },
   "outputs": [
    {
     "data": {
      "text/html": [
       "<div>\n",
       "<style scoped>\n",
       "    .dataframe tbody tr th:only-of-type {\n",
       "        vertical-align: middle;\n",
       "    }\n",
       "\n",
       "    .dataframe tbody tr th {\n",
       "        vertical-align: top;\n",
       "    }\n",
       "\n",
       "    .dataframe thead th {\n",
       "        text-align: right;\n",
       "    }\n",
       "</style>\n",
       "<table border=\"1\" class=\"dataframe\">\n",
       "  <thead>\n",
       "    <tr style=\"text-align: right;\">\n",
       "      <th></th>\n",
       "      <th>Depth_to_Groundwater_CoS</th>\n",
       "    </tr>\n",
       "    <tr>\n",
       "      <th>Date</th>\n",
       "      <th></th>\n",
       "    </tr>\n",
       "  </thead>\n",
       "  <tbody>\n",
       "    <tr>\n",
       "      <th>2017-08-13</th>\n",
       "      <td>7.928571</td>\n",
       "    </tr>\n",
       "    <tr>\n",
       "      <th>2017-08-20</th>\n",
       "      <td>7.725714</td>\n",
       "    </tr>\n",
       "    <tr>\n",
       "      <th>2017-08-27</th>\n",
       "      <td>8.128571</td>\n",
       "    </tr>\n",
       "    <tr>\n",
       "      <th>2017-09-03</th>\n",
       "      <td>8.495714</td>\n",
       "    </tr>\n",
       "    <tr>\n",
       "      <th>2017-09-10</th>\n",
       "      <td>8.428571</td>\n",
       "    </tr>\n",
       "  </tbody>\n",
       "</table>\n",
       "</div>"
      ],
      "text/plain": [
       "            Depth_to_Groundwater_CoS\n",
       "Date                                \n",
       "2017-08-13                  7.928571\n",
       "2017-08-20                  7.725714\n",
       "2017-08-27                  8.128571\n",
       "2017-09-03                  8.495714\n",
       "2017-09-10                  8.428571"
      ]
     },
     "execution_count": 53,
     "metadata": {},
     "output_type": "execute_result"
    }
   ],
   "source": [
    "aus_cos_train = aus_cos[:585]\n",
    "aus_cos_train.tail()"
   ]
  },
  {
   "cell_type": "code",
   "execution_count": 54,
   "metadata": {
    "ExecuteTime": {
     "end_time": "2021-01-25T14:31:34.790525Z",
     "start_time": "2021-01-25T14:31:34.783544Z"
    }
   },
   "outputs": [
    {
     "data": {
      "text/html": [
       "<div>\n",
       "<style scoped>\n",
       "    .dataframe tbody tr th:only-of-type {\n",
       "        vertical-align: middle;\n",
       "    }\n",
       "\n",
       "    .dataframe tbody tr th {\n",
       "        vertical-align: top;\n",
       "    }\n",
       "\n",
       "    .dataframe thead th {\n",
       "        text-align: right;\n",
       "    }\n",
       "</style>\n",
       "<table border=\"1\" class=\"dataframe\">\n",
       "  <thead>\n",
       "    <tr style=\"text-align: right;\">\n",
       "      <th></th>\n",
       "      <th>Depth_to_Groundwater_CoS</th>\n",
       "    </tr>\n",
       "    <tr>\n",
       "      <th>Date</th>\n",
       "      <th></th>\n",
       "    </tr>\n",
       "  </thead>\n",
       "  <tbody>\n",
       "    <tr>\n",
       "      <th>2017-09-17</th>\n",
       "      <td>7.705714</td>\n",
       "    </tr>\n",
       "    <tr>\n",
       "      <th>2017-09-24</th>\n",
       "      <td>7.414286</td>\n",
       "    </tr>\n",
       "    <tr>\n",
       "      <th>2017-10-01</th>\n",
       "      <td>7.271429</td>\n",
       "    </tr>\n",
       "    <tr>\n",
       "      <th>2017-10-08</th>\n",
       "      <td>7.197143</td>\n",
       "    </tr>\n",
       "    <tr>\n",
       "      <th>2017-10-15</th>\n",
       "      <td>7.152857</td>\n",
       "    </tr>\n",
       "  </tbody>\n",
       "</table>\n",
       "</div>"
      ],
      "text/plain": [
       "            Depth_to_Groundwater_CoS\n",
       "Date                                \n",
       "2017-09-17                  7.705714\n",
       "2017-09-24                  7.414286\n",
       "2017-10-01                  7.271429\n",
       "2017-10-08                  7.197143\n",
       "2017-10-15                  7.152857"
      ]
     },
     "execution_count": 54,
     "metadata": {},
     "output_type": "execute_result"
    }
   ],
   "source": [
    "aus_cos_test = aus_cos[585:]\n",
    "aus_cos_test.head()"
   ]
  },
  {
   "cell_type": "code",
   "execution_count": 55,
   "metadata": {
    "ExecuteTime": {
     "end_time": "2021-01-25T14:32:12.529423Z",
     "start_time": "2021-01-25T14:32:12.524438Z"
    }
   },
   "outputs": [],
   "source": [
    "aus_cos_train.index = pd.DatetimeIndex(aus_cos_train.index).to_period('W')\n",
    "aus_cos_test.index = pd.DatetimeIndex(aus_cos_test.index).to_period('W')"
   ]
  },
  {
   "cell_type": "code",
   "execution_count": 57,
   "metadata": {
    "ExecuteTime": {
     "end_time": "2021-01-25T14:32:49.067290Z",
     "start_time": "2021-01-25T14:32:49.042386Z"
    }
   },
   "outputs": [
    {
     "data": {
      "text/plain": [
       "Test Statistic   -6.362635e+00\n",
       "p-value           2.453048e-08\n",
       "dtype: float64"
      ]
     },
     "execution_count": 57,
     "metadata": {},
     "output_type": "execute_result"
    }
   ],
   "source": [
    "interpret_df(adfuller(aus_cos_train['Depth_to_Groundwater_CoS']))"
   ]
  },
  {
   "cell_type": "code",
   "execution_count": 58,
   "metadata": {
    "ExecuteTime": {
     "end_time": "2021-01-25T14:33:53.829491Z",
     "start_time": "2021-01-25T14:33:53.676635Z"
    }
   },
   "outputs": [
    {
     "data": {
      "image/png": "[encoded data removed]",
      "text/plain": [
       "<Figure size 1440x720 with 1 Axes>"
      ]
     },
     "metadata": {
      "needs_background": "light"
     },
     "output_type": "display_data"
    }
   ],
   "source": [
    "fig, ax = plt.subplots(figsize=(20, 10))\n",
    "plot_pacf(aus_cos_train['Depth_to_Groundwater_CoS'], lags=30, ax=ax)\n",
    "plt.show()"
   ]
  },
  {
   "cell_type": "code",
   "execution_count": 59,
   "metadata": {
    "ExecuteTime": {
     "end_time": "2021-01-25T14:33:53.993671Z",
     "start_time": "2021-01-25T14:33:53.844023Z"
    }
   },
   "outputs": [
    {
     "data": {
      "image/png": "[encoded data removed]",
      "text/plain": [
       "<Figure size 1440x720 with 1 Axes>"
      ]
     },
     "metadata": {
      "needs_background": "light"
     },
     "output_type": "display_data"
    }
   ],
   "source": [
    "fig, ax = plt.subplots(figsize=(20, 10))\n",
    "plot_acf(aus_cos_train['Depth_to_Groundwater_CoS'], lags=120, ax=ax)\n",
    "plt.show()"
   ]
  },
  {
   "cell_type": "markdown",
   "metadata": {},
   "source": [
    "The Depth to Groundwater for the CoS well shows similar trends when compared to the earlier SAL well: \n",
    "\n",
    "The PACF curve shows a sharp cut-off at the 2nd lag while the ACF curve shows a gradual decay.\n",
    "\n",
    "Since Stationarity has been fulfilled as shown by a p-value of 2.45*(10^-8), the (p, d, q) will be set as (2, 0, 0)\n",
    "\n",
    "The length of season will be set to a year, or in this case, 52 weeks. This trend can roughly be seen from the ACF plot as well."
   ]
  },
  {
   "cell_type": "code",
   "execution_count": 61,
   "metadata": {
    "ExecuteTime": {
     "end_time": "2021-01-25T15:06:04.733738Z",
     "start_time": "2021-01-25T14:41:53.417260Z"
    }
   },
   "outputs": [
    {
     "name": "stdout",
     "output_type": "stream",
     "text": [
      "The MSE for (2, 0, 0)x(0,0,0,52) is: 0.10633036701774726\n",
      "The MSE for (2, 0, 0)x(0,1,0,52) is: 3.5674664492233976\n",
      "The MSE for (2, 0, 0)x(0,2,0,52) is: 5.361919191714495\n",
      "The MSE for (2, 0, 0)x(0,0,1,52) is: 0.10625512907300269\n",
      "The MSE for (2, 0, 0)x(0,1,1,52) is: 3.546937677911294\n"
     ]
    },
    {
     "name": "stderr",
     "output_type": "stream",
     "text": [
      "C:\\Users\\jonat\\anaconda3\\lib\\site-packages\\statsmodels\\tsa\\statespace\\sarimax.py:1006: UserWarning: Non-invertible starting seasonal moving average Using zeros as starting parameters.\n",
      "  warn('Non-invertible starting seasonal moving average'\n"
     ]
    },
    {
     "name": "stdout",
     "output_type": "stream",
     "text": [
      "The MSE for (2, 0, 0)x(0,2,1,52) is: 5.281977013949755\n",
      "The MSE for (2, 0, 0)x(0,0,2,52) is: 0.11867627992387325\n",
      "The MSE for (2, 0, 0)x(0,1,2,52) is: 3.5468146846910753\n"
     ]
    },
    {
     "name": "stderr",
     "output_type": "stream",
     "text": [
      "C:\\Users\\jonat\\anaconda3\\lib\\site-packages\\statsmodels\\tsa\\statespace\\sarimax.py:1006: UserWarning: Non-invertible starting seasonal moving average Using zeros as starting parameters.\n",
      "  warn('Non-invertible starting seasonal moving average'\n"
     ]
    },
    {
     "name": "stdout",
     "output_type": "stream",
     "text": [
      "The MSE for (2, 0, 0)x(0,2,2,52) is: 5.267507163900413\n",
      "The MSE for (2, 0, 0)x(1,0,0,52) is: 0.106233117794742\n",
      "The MSE for (2, 0, 0)x(1,1,0,52) is: 3.5524669354614185\n",
      "The MSE for (2, 0, 0)x(1,2,0,52) is: 5.293416842324239\n",
      "The MSE for (2, 0, 0)x(1,0,1,52) is: 0.1052639906455007\n",
      "The MSE for (2, 0, 0)x(1,1,1,52) is: 3.546799057907909\n",
      "The MSE for (2, 0, 0)x(1,2,1,52) is: 5.269226339492363\n"
     ]
    },
    {
     "name": "stderr",
     "output_type": "stream",
     "text": [
      "C:\\Users\\jonat\\anaconda3\\lib\\site-packages\\statsmodels\\tsa\\statespace\\sarimax.py:1006: UserWarning: Non-invertible starting seasonal moving average Using zeros as starting parameters.\n",
      "  warn('Non-invertible starting seasonal moving average'\n",
      "C:\\Users\\jonat\\anaconda3\\lib\\site-packages\\statsmodels\\base\\model.py:567: ConvergenceWarning: Maximum Likelihood optimization failed to converge. Check mle_retvals\n",
      "  warn(\"Maximum Likelihood optimization failed to converge. \"\n"
     ]
    },
    {
     "name": "stdout",
     "output_type": "stream",
     "text": [
      "The MSE for (2, 0, 0)x(1,0,2,52) is: 0.10516138247506022\n"
     ]
    },
    {
     "name": "stderr",
     "output_type": "stream",
     "text": [
      "C:\\Users\\jonat\\anaconda3\\lib\\site-packages\\statsmodels\\base\\model.py:567: ConvergenceWarning: Maximum Likelihood optimization failed to converge. Check mle_retvals\n",
      "  warn(\"Maximum Likelihood optimization failed to converge. \"\n"
     ]
    },
    {
     "name": "stdout",
     "output_type": "stream",
     "text": [
      "The MSE for (2, 0, 0)x(1,1,2,52) is: 3.5467183957131967\n"
     ]
    },
    {
     "name": "stderr",
     "output_type": "stream",
     "text": [
      "C:\\Users\\jonat\\anaconda3\\lib\\site-packages\\statsmodels\\tsa\\statespace\\sarimax.py:1006: UserWarning: Non-invertible starting seasonal moving average Using zeros as starting parameters.\n",
      "  warn('Non-invertible starting seasonal moving average'\n"
     ]
    },
    {
     "name": "stdout",
     "output_type": "stream",
     "text": [
      "The MSE for (2, 0, 0)x(1,2,2,52) is: 5.2673732715625174\n"
     ]
    },
    {
     "name": "stderr",
     "output_type": "stream",
     "text": [
      "C:\\Users\\jonat\\anaconda3\\lib\\site-packages\\statsmodels\\tsa\\statespace\\sarimax.py:994: UserWarning: Non-stationary starting seasonal autoregressive Using zeros as starting parameters.\n",
      "  warn('Non-stationary starting seasonal autoregressive'\n"
     ]
    },
    {
     "name": "stdout",
     "output_type": "stream",
     "text": [
      "The MSE for (2, 0, 0)x(2,0,0,52) is: 0.10554813042776753\n",
      "The MSE for (2, 0, 0)x(2,1,0,52) is: 3.5498703400250764\n",
      "The MSE for (2, 0, 0)x(2,2,0,52) is: 5.280079165875827\n"
     ]
    },
    {
     "name": "stderr",
     "output_type": "stream",
     "text": [
      "C:\\Users\\jonat\\anaconda3\\lib\\site-packages\\statsmodels\\tsa\\statespace\\sarimax.py:994: UserWarning: Non-stationary starting seasonal autoregressive Using zeros as starting parameters.\n",
      "  warn('Non-stationary starting seasonal autoregressive'\n"
     ]
    },
    {
     "name": "stdout",
     "output_type": "stream",
     "text": [
      "The MSE for (2, 0, 0)x(2,0,1,52) is: 0.10521077053259924\n",
      "The MSE for (2, 0, 0)x(2,1,1,52) is: 3.5467274510146933\n",
      "The MSE for (2, 0, 0)x(2,2,1,52) is: 5.268200155244274\n"
     ]
    },
    {
     "name": "stderr",
     "output_type": "stream",
     "text": [
      "C:\\Users\\jonat\\anaconda3\\lib\\site-packages\\statsmodels\\base\\model.py:567: ConvergenceWarning: Maximum Likelihood optimization failed to converge. Check mle_retvals\n",
      "  warn(\"Maximum Likelihood optimization failed to converge. \"\n"
     ]
    },
    {
     "name": "stdout",
     "output_type": "stream",
     "text": [
      "The MSE for (2, 0, 0)x(2,0,2,52) is: 0.10510908743441932\n",
      "The MSE for (2, 0, 0)x(2,1,2,52) is: 3.5467113362841585\n"
     ]
    },
    {
     "name": "stderr",
     "output_type": "stream",
     "text": [
      "C:\\Users\\jonat\\anaconda3\\lib\\site-packages\\statsmodels\\base\\model.py:567: ConvergenceWarning: Maximum Likelihood optimization failed to converge. Check mle_retvals\n",
      "  warn(\"Maximum Likelihood optimization failed to converge. \"\n"
     ]
    },
    {
     "name": "stdout",
     "output_type": "stream",
     "text": [
      "The MSE for (2, 0, 0)x(2,2,2,52) is: 5.2671946485732715\n",
      "Our model that minimizes MSE on the training data is the SARIMA(2, 0, 0)x(2,0,2,52).\n",
      "This model has an MSE of 0.10510908743441932.\n"
     ]
    }
   ],
   "source": [
    "# Starting MSE and (P, D, Q).\n",
    "final_p = 0\n",
    "final_d = 0\n",
    "final_q = 0\n",
    "\n",
    "mse = 10**16\n",
    "\n",
    "for P in range(3):\n",
    "    for Q in range(3):\n",
    "        for D in range(3):\n",
    "            try:\n",
    "                # Instantiate SARIMA model.\n",
    "                sarima = SARIMAX(endog = aus_cos_train['Depth_to_Groundwater_CoS'],\n",
    "                                 order = (2, 0, 0),              # (p, d, q)\n",
    "                                 seasonal_order = (P, D, Q, 52)) # (P, D, Q, S)\n",
    "\n",
    "                # Fit SARIMA model.\n",
    "                model = sarima.fit()\n",
    "\n",
    "                # Generate predictions based on training set.\n",
    "                # Start at time period 0 and end at 584.\n",
    "                preds = model.predict(start=0, end=584)\n",
    "\n",
    "                # Evaluate predictions.\n",
    "                print(f'The MSE for (2, 0, 0)x({P},{D},{Q},52) is: {mean_squared_error(aus_cos_train[\"Depth_to_Groundwater_CoS\"], preds)}')\n",
    "                \n",
    "                # Save for final report.\n",
    "                if mse > mean_squared_error(aus_cos_train['Depth_to_Groundwater_CoS'], preds):\n",
    "                    \n",
    "                    mse =  mean_squared_error(aus_cos_train['Depth_to_Groundwater_CoS'], preds)\n",
    "                    final_P = P\n",
    "                    final_D = D\n",
    "                    final_Q = Q\n",
    "\n",
    "                \n",
    "            except:\n",
    "                pass\n",
    "\n",
    "print(f'Our model that minimizes MSE on the training data is the SARIMA(2, 0, 0)x({final_P},{final_D},{final_Q},52).')\n",
    "print(f'This model has an MSE of {mse}.')"
   ]
  },
  {
   "cell_type": "code",
   "execution_count": 62,
   "metadata": {
    "ExecuteTime": {
     "end_time": "2021-01-25T15:08:19.355685Z",
     "start_time": "2021-01-25T15:08:19.348684Z"
    }
   },
   "outputs": [],
   "source": [
    "sarima = SARIMAX(endog = aus_cos_train['Depth_to_Groundwater_CoS'],\n",
    "                order = (2, 0, 0),\n",
    "                seasonal_order = (2, 0, 2, 52))"
   ]
  },
  {
   "cell_type": "code",
   "execution_count": 63,
   "metadata": {
    "ExecuteTime": {
     "end_time": "2021-01-25T15:12:04.066380Z",
     "start_time": "2021-01-25T15:11:15.905816Z"
    }
   },
   "outputs": [
    {
     "name": "stderr",
     "output_type": "stream",
     "text": [
      "C:\\Users\\jonat\\anaconda3\\lib\\site-packages\\statsmodels\\base\\model.py:567: ConvergenceWarning: Maximum Likelihood optimization failed to converge. Check mle_retvals\n",
      "  warn(\"Maximum Likelihood optimization failed to converge. \"\n"
     ]
    }
   ],
   "source": [
    "model = sarima.fit()"
   ]
  },
  {
   "cell_type": "code",
   "execution_count": 64,
   "metadata": {
    "ExecuteTime": {
     "end_time": "2021-01-25T15:12:04.131075Z",
     "start_time": "2021-01-25T15:12:04.066380Z"
    }
   },
   "outputs": [
    {
     "name": "stdout",
     "output_type": "stream",
     "text": [
      "1.379393145705593\n"
     ]
    }
   ],
   "source": [
    "preds = model.predict(start=585, end=731)\n",
    "print(np.sqrt(mean_squared_error(aus_cos_test['Depth_to_Groundwater_CoS'], preds)))"
   ]
  },
  {
   "cell_type": "markdown",
   "metadata": {},
   "source": [
    "Use of SARIMA models yields RMSE that are close to the standard deviation of the Depths features indicating that they yield poor results."
   ]
  }
 ],
 "metadata": {
  "kernelspec": {
   "display_name": "Python 3",
   "language": "python",
   "name": "python3"
  },
  "language_info": {
   "codemirror_mode": {
    "name": "ipython",
    "version": 3
   },
   "file_extension": ".py",
   "mimetype": "text/x-python",
   "name": "python",
   "nbconvert_exporter": "python",
   "pygments_lexer": "ipython3",
   "version": "3.8.3"
  },
  "toc": {
   "base_numbering": 1,
   "nav_menu": {},
   "number_sections": true,
   "sideBar": true,
   "skip_h1_title": false,
   "title_cell": "Table of Contents",
   "title_sidebar": "Contents",
   "toc_cell": false,
   "toc_position": {},
   "toc_section_display": true,
   "toc_window_display": false
  }
 },
 "nbformat": 4,
 "nbformat_minor": 4
}
