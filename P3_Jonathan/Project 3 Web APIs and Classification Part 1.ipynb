{
 "cells": [
  {
   "cell_type": "markdown",
   "metadata": {},
   "source": [
    "# Project 3: Web APIs & Classification Part 1"
   ]
  },
  {
   "cell_type": "markdown",
   "metadata": {},
   "source": [
    "## Problem Statement"
   ]
  },
  {
   "cell_type": "markdown",
   "metadata": {},
   "source": [
    "The Pokemon Company would like to understand what gamers that play the different Pokemon games are discussing online on various forums. The analysis of these discussions can help to further improve updates to the games or the development of future games. The first step in this analysis would be the successful classification of online posts with regards to the correct Pokemon game that the post is talking about."
   ]
  },
  {
   "cell_type": "markdown",
   "metadata": {},
   "source": [
    "## Executive Summary"
   ]
  },
  {
   "cell_type": "markdown",
   "metadata": {},
   "source": [
    "The first Pokemon game was dropped in 1996. The main series of the Pokemon is now into its 8th generation and the platforms these games are played on have evolved over the years as well. Including other spin-offs as well as mobile apps and PC games, there are likely to be a few hundred Pokemon games today. This project aims to study reddit posts associated with two of these games, Pokemon GO and Pokken, with the goal of developing a classification model to decide which game the posts are associated with."
   ]
  },
  {
   "cell_type": "markdown",
   "metadata": {},
   "source": [
    "## Importing data"
   ]
  },
  {
   "cell_type": "code",
   "execution_count": 1,
   "metadata": {
    "ExecuteTime": {
     "end_time": "2020-12-01T00:13:15.622313Z",
     "start_time": "2020-12-01T00:13:15.238035Z"
    }
   },
   "outputs": [],
   "source": [
    "import requests\n",
    "import pandas as pd\n",
    "import time\n",
    "import random"
   ]
  },
  {
   "cell_type": "code",
   "execution_count": 2,
   "metadata": {
    "ExecuteTime": {
     "end_time": "2020-12-01T00:13:15.626300Z",
     "start_time": "2020-12-01T00:13:15.623307Z"
    }
   },
   "outputs": [],
   "source": [
    "url1 = 'https://www.reddit.com/r/pokemongo/new.json'"
   ]
  },
  {
   "cell_type": "code",
   "execution_count": 3,
   "metadata": {
    "ExecuteTime": {
     "end_time": "2020-12-01T00:13:15.631285Z",
     "start_time": "2020-12-01T00:13:15.628293Z"
    }
   },
   "outputs": [],
   "source": [
    "url2 = 'https://www.reddit.com/r/PokkenGame/new.json'"
   ]
  },
  {
   "cell_type": "code",
   "execution_count": 4,
   "metadata": {
    "ExecuteTime": {
     "end_time": "2020-12-01T00:33:17.852488Z",
     "start_time": "2020-12-01T00:13:15.632284Z"
    }
   },
   "outputs": [
    {
     "name": "stdout",
     "output_type": "stream",
     "text": [
      "https://www.reddit.com/r/pokemongo/new.json\n",
      "15\n",
      "https://www.reddit.com/r/pokemongo/new.json?after=t3_k46crw\n",
      "23\n",
      "https://www.reddit.com/r/pokemongo/new.json?after=t3_k44g8i\n",
      "43\n",
      "https://www.reddit.com/r/pokemongo/new.json?after=t3_k43283\n",
      "11\n",
      "https://www.reddit.com/r/pokemongo/new.json?after=t3_k41idl\n",
      "27\n",
      "https://www.reddit.com/r/pokemongo/new.json?after=t3_k3ydg0\n",
      "14\n",
      "https://www.reddit.com/r/pokemongo/new.json?after=t3_k3uis9\n",
      "12\n",
      "https://www.reddit.com/r/pokemongo/new.json?after=t3_k3r52k\n",
      "18\n",
      "https://www.reddit.com/r/pokemongo/new.json?after=t3_k3nsuz\n",
      "36\n",
      "https://www.reddit.com/r/pokemongo/new.json?after=t3_k3huze\n",
      "12\n",
      "https://www.reddit.com/r/pokemongo/new.json?after=t3_k3egmn\n",
      "60\n",
      "https://www.reddit.com/r/pokemongo/new.json?after=t3_k3atas\n",
      "44\n",
      "https://www.reddit.com/r/pokemongo/new.json?after=t3_k36563\n",
      "54\n",
      "https://www.reddit.com/r/pokemongo/new.json?after=t3_k30z5b\n",
      "58\n",
      "https://www.reddit.com/r/pokemongo/new.json?after=t3_k2y1c3\n",
      "4\n",
      "https://www.reddit.com/r/pokemongo/new.json?after=t3_k2vgex\n",
      "59\n",
      "https://www.reddit.com/r/pokemongo/new.json?after=t3_k2t1fm\n",
      "53\n",
      "https://www.reddit.com/r/pokemongo/new.json?after=t3_k2qgz2\n",
      "49\n",
      "https://www.reddit.com/r/pokemongo/new.json?after=t3_k2nccc\n",
      "51\n",
      "https://www.reddit.com/r/pokemongo/new.json?after=t3_k2ik6d\n",
      "48\n",
      "https://www.reddit.com/r/pokemongo/new.json?after=t3_k2e676\n",
      "5\n",
      "https://www.reddit.com/r/pokemongo/new.json?after=t3_k2alpe\n",
      "17\n",
      "https://www.reddit.com/r/pokemongo/new.json?after=t3_k26j8t\n",
      "49\n",
      "https://www.reddit.com/r/pokemongo/new.json?after=t3_k1yfxg\n",
      "21\n",
      "https://www.reddit.com/r/pokemongo/new.json?after=t3_k1srtj\n",
      "52\n",
      "https://www.reddit.com/r/pokemongo/new.json?after=t3_k1o00d\n",
      "9\n",
      "https://www.reddit.com/r/pokemongo/new.json?after=t3_k1kb41\n",
      "8\n",
      "https://www.reddit.com/r/pokemongo/new.json?after=t3_k1ep9x\n",
      "47\n",
      "https://www.reddit.com/r/pokemongo/new.json?after=t3_k1990e\n",
      "11\n",
      "https://www.reddit.com/r/pokemongo/new.json?after=t3_k14tcw\n",
      "54\n",
      "https://www.reddit.com/r/pokemongo/new.json?after=t3_k1039k\n",
      "29\n",
      "https://www.reddit.com/r/pokemongo/new.json?after=t3_k0wjl2\n",
      "23\n",
      "https://www.reddit.com/r/pokemongo/new.json?after=t3_k0t78z\n",
      "41\n",
      "https://www.reddit.com/r/pokemongo/new.json?after=t3_k0om98\n",
      "12\n",
      "https://www.reddit.com/r/pokemongo/new.json?after=t3_k0kx8u\n",
      "35\n",
      "https://www.reddit.com/r/pokemongo/new.json?after=t3_k0i81w\n",
      "2\n",
      "https://www.reddit.com/r/pokemongo/new.json?after=t3_k0fh6e\n",
      "39\n",
      "https://www.reddit.com/r/pokemongo/new.json?after=t3_k0bxgn\n",
      "9\n",
      "https://www.reddit.com/r/pokemongo/new.json?after=t3_k08rmp\n",
      "9\n"
     ]
    }
   ],
   "source": [
    "posts_pogo = []\n",
    "after1 = None\n",
    "\n",
    "for i in range(39):\n",
    "    if after1 == None:\n",
    "        current_url1 = url1\n",
    "    else:\n",
    "        current_url1 = url1 + '?after=' + after1\n",
    "    print(current_url1)\n",
    "    res1 = requests.get(current_url1, headers={'User-agent': 'Greninja Inc 1.0'})\n",
    "    \n",
    "    if res1.status_code != 200:\n",
    "        print('Status error', res1.status_code)\n",
    "        break\n",
    "    \n",
    "    current_dict1 = res1.json()\n",
    "    current_posts1 = [p['data'] for p in current_dict1['data']['children']]\n",
    "    posts_pogo.extend(current_posts1)\n",
    "    after1 = current_dict1['data']['after']\n",
    "    \n",
    "    # generate a random sleep duration to look more 'natural'\n",
    "    sleep_duration1 = random.randint(2,60)\n",
    "    print(sleep_duration1)\n",
    "    time.sleep(sleep_duration1)"
   ]
  },
  {
   "cell_type": "code",
   "execution_count": 5,
   "metadata": {
    "ExecuteTime": {
     "end_time": "2020-12-01T00:33:17.886464Z",
     "start_time": "2020-12-01T00:33:17.857527Z"
    }
   },
   "outputs": [],
   "source": [
    "pogo_df = pd.DataFrame(posts_pogo)"
   ]
  },
  {
   "cell_type": "code",
   "execution_count": 6,
   "metadata": {
    "ExecuteTime": {
     "end_time": "2020-12-01T00:33:17.949045Z",
     "start_time": "2020-12-01T00:33:17.887400Z"
    }
   },
   "outputs": [],
   "source": [
    "pogo_df.to_csv('pogo.csv', index = False)"
   ]
  },
  {
   "cell_type": "code",
   "execution_count": 7,
   "metadata": {
    "ExecuteTime": {
     "end_time": "2020-12-01T01:10:56.289503Z",
     "start_time": "2020-12-01T00:33:17.949721Z"
    }
   },
   "outputs": [
    {
     "name": "stdout",
     "output_type": "stream",
     "text": [
      "https://www.reddit.com/r/PokkenGame/new.json\n",
      "42\n",
      "https://www.reddit.com/r/PokkenGame/new.json?after=t3_ju6idy\n",
      "32\n",
      "https://www.reddit.com/r/PokkenGame/new.json?after=t3_j889c3\n",
      "5\n",
      "https://www.reddit.com/r/PokkenGame/new.json?after=t3_imwoia\n",
      "2\n",
      "https://www.reddit.com/r/PokkenGame/new.json?after=t3_icto61\n",
      "46\n",
      "https://www.reddit.com/r/PokkenGame/new.json?after=t3_i6zjqj\n",
      "47\n",
      "https://www.reddit.com/r/PokkenGame/new.json?after=t3_i2l55h\n",
      "26\n",
      "https://www.reddit.com/r/PokkenGame/new.json?after=t3_i0x7tk\n",
      "35\n",
      "https://www.reddit.com/r/PokkenGame/new.json?after=t3_hyvx1s\n",
      "42\n",
      "https://www.reddit.com/r/PokkenGame/new.json?after=t3_hq4s9v\n",
      "35\n",
      "https://www.reddit.com/r/PokkenGame/new.json?after=t3_hgcixe\n",
      "4\n",
      "https://www.reddit.com/r/PokkenGame/new.json?after=t3_gq36iz\n",
      "45\n",
      "https://www.reddit.com/r/PokkenGame/new.json?after=t3_gdcb4a\n",
      "45\n",
      "https://www.reddit.com/r/PokkenGame/new.json?after=t3_ftgp4z\n",
      "2\n",
      "https://www.reddit.com/r/PokkenGame/new.json?after=t3_f6v59n\n",
      "38\n",
      "https://www.reddit.com/r/PokkenGame/new.json?after=t3_eqscho\n",
      "24\n",
      "https://www.reddit.com/r/PokkenGame/new.json?after=t3_ec7a4f\n",
      "53\n",
      "https://www.reddit.com/r/PokkenGame/new.json?after=t3_dvnv7d\n",
      "33\n",
      "https://www.reddit.com/r/PokkenGame/new.json?after=t3_d8dvgp\n",
      "54\n",
      "https://www.reddit.com/r/PokkenGame/new.json?after=t3_cu1t50\n",
      "56\n",
      "https://www.reddit.com/r/PokkenGame/new.json?after=t3_ck3119\n",
      "46\n",
      "https://www.reddit.com/r/PokkenGame/new.json?after=t3_c8leg2\n",
      "28\n",
      "https://www.reddit.com/r/PokkenGame/new.json?after=t3_bxbj8t\n",
      "37\n",
      "https://www.reddit.com/r/PokkenGame/new.json?after=t3_bt1br5\n",
      "31\n",
      "https://www.reddit.com/r/PokkenGame/new.json?after=t3_bkvr2j\n",
      "18\n",
      "https://www.reddit.com/r/PokkenGame/new.json?after=t3_bcv1gf\n",
      "51\n",
      "https://www.reddit.com/r/PokkenGame/new.json?after=t3_b3x7c7\n",
      "38\n",
      "https://www.reddit.com/r/PokkenGame/new.json?after=t3_avhaeo\n",
      "58\n",
      "https://www.reddit.com/r/PokkenGame/new.json?after=t3_am4viv\n",
      "50\n",
      "https://www.reddit.com/r/PokkenGame/new.json?after=t3_ag28s3\n",
      "40\n",
      "https://www.reddit.com/r/PokkenGame/new.json?after=t3_a66rm8\n",
      "47\n",
      "https://www.reddit.com/r/PokkenGame/new.json?after=t3_a0nrbd\n",
      "60\n",
      "https://www.reddit.com/r/PokkenGame/new.json?after=t3_9vdk5v\n",
      "2\n",
      "https://www.reddit.com/r/PokkenGame/new.json?after=t3_9q4w0h\n",
      "59\n",
      "https://www.reddit.com/r/PokkenGame/new.json?after=t3_9lc9h9\n",
      "49\n",
      "https://www.reddit.com/r/PokkenGame/new.json?after=t3_9hvmi0\n",
      "9\n",
      "https://www.reddit.com/r/PokkenGame/new.json?after=t3_9dnviu\n",
      "26\n",
      "https://www.reddit.com/r/PokkenGame/new.json?after=t3_9a7m7x\n",
      "25\n",
      "https://www.reddit.com/r/PokkenGame/new.json?after=t3_95rme6\n",
      "6\n"
     ]
    }
   ],
   "source": [
    "posts_pokken = []\n",
    "after2 = None\n",
    "\n",
    "for j in range(39):\n",
    "    if after2 == None:\n",
    "        current_url2 = url2\n",
    "    else:\n",
    "        current_url2 = url2 + '?after=' + after2\n",
    "    print(current_url2)\n",
    "    res2 = requests.get(current_url2, headers={'User-agent': 'Greninja Inc 1.0'})\n",
    "    \n",
    "    if res2.status_code != 200:\n",
    "        print('Status error', res2.status_code)\n",
    "        break\n",
    "    \n",
    "    current_dict2 = res2.json()\n",
    "    current_posts2 = [q['data'] for q in current_dict2['data']['children']]\n",
    "    posts_pokken.extend(current_posts2)\n",
    "    after2 = current_dict2['data']['after']\n",
    "    \n",
    "    # generate a random sleep duration to look more 'natural'\n",
    "    sleep_duration2 = random.randint(2,60)\n",
    "    print(sleep_duration2)\n",
    "    time.sleep(sleep_duration2)"
   ]
  },
  {
   "cell_type": "code",
   "execution_count": 8,
   "metadata": {
    "ExecuteTime": {
     "end_time": "2020-12-01T01:10:56.322033Z",
     "start_time": "2020-12-01T01:10:56.291495Z"
    }
   },
   "outputs": [],
   "source": [
    "pokken_df = pd.DataFrame(posts_pokken)"
   ]
  },
  {
   "cell_type": "code",
   "execution_count": 9,
   "metadata": {
    "ExecuteTime": {
     "end_time": "2020-12-01T01:10:56.395180Z",
     "start_time": "2020-12-01T01:10:56.323047Z"
    }
   },
   "outputs": [],
   "source": [
    "pokken_df.to_csv('pokken.csv', index = False)"
   ]
  }
 ],
 "metadata": {
  "kernelspec": {
   "display_name": "Python 3",
   "language": "python",
   "name": "python3"
  },
  "language_info": {
   "codemirror_mode": {
    "name": "ipython",
    "version": 3
   },
   "file_extension": ".py",
   "mimetype": "text/x-python",
   "name": "python",
   "nbconvert_exporter": "python",
   "pygments_lexer": "ipython3",
   "version": "3.8.3"
  },
  "toc": {
   "base_numbering": 1,
   "nav_menu": {},
   "number_sections": true,
   "sideBar": true,
   "skip_h1_title": false,
   "title_cell": "Table of Contents",
   "title_sidebar": "Contents",
   "toc_cell": false,
   "toc_position": {},
   "toc_section_display": true,
   "toc_window_display": false
  }
 },
 "nbformat": 4,
 "nbformat_minor": 4
}
